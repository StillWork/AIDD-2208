{
  "cells": [
    {
      "cell_type": "markdown",
      "metadata": {
        "id": "socSJe925zFv"
      },
      "source": [
        "#  Working With Datasets\n",
        "\n",
        "- `Dataset` class\n",
        " - to store and manage data.  \n",
        " - provides simple but powerful tools for efficiently working with large amounts of data.  \n",
        " - designed to easily interact with NumPy, Pandas, TensorFlow, and PyTorch.\n",
        "\n",
        "- [DeepChem](https://github.com/deepchem/deepchem/tree/master/examples/tutorials) "
      ]
    },
    {
      "cell_type": "code",
      "execution_count": 1,
      "metadata": {
        "id": "CMWAv-Z46nCc",
        "colab": {
          "base_uri": "https://localhost:8080/"
        },
        "outputId": "fc7cc7f7-31bc-4bf0-a9ad-f882c8a7867a"
      },
      "outputs": [
        {
          "output_type": "stream",
          "name": "stdout",
          "text": [
            "Looking in indexes: https://pypi.org/simple, https://us-python.pkg.dev/colab-wheels/public/simple/\n",
            "Collecting deepchem\n",
            "  Downloading deepchem-2.6.1-py3-none-any.whl (608 kB)\n",
            "\u001b[K     |████████████████████████████████| 608 kB 7.7 MB/s \n",
            "\u001b[?25hRequirement already satisfied: numpy>=1.21 in /usr/local/lib/python3.7/dist-packages (from deepchem) (1.21.6)\n",
            "Requirement already satisfied: pandas in /usr/local/lib/python3.7/dist-packages (from deepchem) (1.3.5)\n",
            "Requirement already satisfied: scikit-learn in /usr/local/lib/python3.7/dist-packages (from deepchem) (1.0.2)\n",
            "Collecting rdkit-pypi\n",
            "  Downloading rdkit_pypi-2022.3.5-cp37-cp37m-manylinux_2_17_x86_64.manylinux2014_x86_64.whl (36.8 MB)\n",
            "\u001b[K     |████████████████████████████████| 36.8 MB 1.7 MB/s \n",
            "\u001b[?25hRequirement already satisfied: scipy in /usr/local/lib/python3.7/dist-packages (from deepchem) (1.7.3)\n",
            "Requirement already satisfied: joblib in /usr/local/lib/python3.7/dist-packages (from deepchem) (1.1.0)\n",
            "Requirement already satisfied: pytz>=2017.3 in /usr/local/lib/python3.7/dist-packages (from pandas->deepchem) (2022.1)\n",
            "Requirement already satisfied: python-dateutil>=2.7.3 in /usr/local/lib/python3.7/dist-packages (from pandas->deepchem) (2.8.2)\n",
            "Requirement already satisfied: six>=1.5 in /usr/local/lib/python3.7/dist-packages (from python-dateutil>=2.7.3->pandas->deepchem) (1.15.0)\n",
            "Requirement already satisfied: Pillow in /usr/local/lib/python3.7/dist-packages (from rdkit-pypi->deepchem) (7.1.2)\n",
            "Requirement already satisfied: threadpoolctl>=2.0.0 in /usr/local/lib/python3.7/dist-packages (from scikit-learn->deepchem) (3.1.0)\n",
            "Installing collected packages: rdkit-pypi, deepchem\n",
            "Successfully installed deepchem-2.6.1 rdkit-pypi-2022.3.5\n"
          ]
        }
      ],
      "source": [
        "!pip install --pre deepchem"
      ]
    },
    {
      "cell_type": "code",
      "execution_count": 2,
      "metadata": {
        "colab": {
          "base_uri": "https://localhost:8080/",
          "height": 36
        },
        "id": "PDiY03h35zF_",
        "outputId": "bd4d45f4-3614-4441-9f21-12e4b4f223df"
      },
      "outputs": [
        {
          "output_type": "execute_result",
          "data": {
            "text/plain": [
              "'2.6.1'"
            ],
            "application/vnd.google.colaboratory.intrinsic+json": {
              "type": "string"
            }
          },
          "metadata": {},
          "execution_count": 2
        }
      ],
      "source": [
        "import deepchem as dc\n",
        "dc.__version__"
      ]
    },
    {
      "cell_type": "markdown",
      "metadata": {
        "id": "B0u7qIZd5zGG"
      },
      "source": [
        "# Anatomy of a Dataset\n",
        "\n",
        "- load the Delaney dataset of molecular solubilities"
      ]
    },
    {
      "cell_type": "code",
      "execution_count": 3,
      "metadata": {
        "id": "saTaOpXY5zGI"
      },
      "outputs": [],
      "source": [
        "tasks, datasets, transformers = dc.molnet.load_delaney(featurizer='GraphConv')\n",
        "train_dataset, valid_dataset, test_dataset = datasets"
      ]
    },
    {
      "cell_type": "code",
      "execution_count": 6,
      "metadata": {
        "colab": {
          "base_uri": "https://localhost:8080/"
        },
        "id": "YEDcUsz35zGO",
        "outputId": "3d3cb54d-096b-4568-ac6a-255c9a772ff4"
      },
      "outputs": [
        {
          "output_type": "stream",
          "name": "stdout",
          "text": [
            "<DiskDataset X.shape: (113,), y.shape: (113, 1), w.shape: (113, 1), ids: ['c1cc2ccc3cccc4ccc(c1)c2c34' 'Cc1cc(=O)[nH]c(=S)[nH]1'\n",
            " 'Oc1ccc(cc1)C2(OC(=O)c3ccccc23)c4ccc(O)cc4 ' ...\n",
            " 'c1ccc2c(c1)ccc3c2ccc4c5ccccc5ccc43' 'Cc1occc1C(=O)Nc2ccccc2'\n",
            " 'OCC3OC(OCC2OC(OC(C#N)c1ccccc1)C(O)C(O)C2O)C(O)C(O)C3O '], task_names: ['measured log solubility in mols per litre']>\n"
          ]
        }
      ],
      "source": [
        "print(test_dataset)"
      ]
    },
    {
      "cell_type": "markdown",
      "metadata": {
        "id": "E8UCFrrN5zGf"
      },
      "source": [
        "- Dataset is an abstract class.  It has a few subclasses that correspond to different ways of storing data.\n",
        "- `DiskDataset` is a dataset that has been saved to disk.  The data is stored in a way that can be efficiently accessed, even if the total amount of data is far larger than your computer's memory.\n",
        "- `NumpyDataset` is an in-memory dataset that holds all the data in NumPy arrays.  It is a useful tool when manipulating small to medium sized datasets that can fit entirely in memory.\n",
        "- `ImageDataset` stores some or all of the data in image files on disk. It is useful when working with models that have images as their inputs or outputs.\n",
        "\n",
        "- Every Dataset stores a list of *samples*.  Very roughly speaking, a sample is a single data point.  \n",
        " - In this case, each sample is a molecule.  In other datasets a sample might correspond to an experimental assay, a cell line, an image, or many other things.  For every sample the dataset stores the following information.\n",
        "\n",
        "- The *features*, referred to as `X`.  \n",
        "- The *labels*, referred to as `y`.  \n",
        "- The *weights*, referred to as `w`.  This can be used to indicate that some data values are more important than others.  \n",
        "- An *ID*, which is a unique identifier for the sample.  This can be anything as long as it is unique.  Sometimes it is just an integer index, but in this dataset the ID is a SMILES string describing the molecule.\n",
        "\n",
        "Notice that `X`, `y`, and `w` all have 113 as the size of their first dimension. \n",
        "\n",
        "- `task_names`.  Some datasets contain multiple pieces of information for each sample.  For example, if a sample represents a molecule, the dataset might record the results of several different experiments on that molecule.  \n",
        " - This dataset has only a single task: \"measured log solubility in mols per litre\".  Also notice that `y` and `w` each have shape (113, 1).  The second dimension of these arrays usually matches the number of tasks.\n"
      ]
    },
    {
      "cell_type": "code",
      "execution_count": 7,
      "metadata": {
        "id": "e5K3rdGV5zGg",
        "outputId": "f6f3e756-8c81-4e67-bc9d-4adc4cc65783",
        "colab": {
          "base_uri": "https://localhost:8080/"
        }
      },
      "outputs": [
        {
          "output_type": "execute_result",
          "data": {
            "text/plain": [
              "array([[-1.60114461],\n",
              "       [ 0.20848251],\n",
              "       [-0.01602738],\n",
              "       [-2.82191713],\n",
              "       [-0.52891635],\n",
              "       [ 1.10168349],\n",
              "       [-0.88987406],\n",
              "       [-0.52649706],\n",
              "       [-0.76358725],\n",
              "       [-0.64020358],\n",
              "       [-0.38569452],\n",
              "       [-0.62568785],\n",
              "       [-0.39585553],\n",
              "       [-2.05306753],\n",
              "       [-0.29666474],\n",
              "       [-0.73213651],\n",
              "       [-1.27744393],\n",
              "       [ 0.0081655 ],\n",
              "       [ 0.97588054],\n",
              "       [-0.10796031],\n",
              "       [ 0.59847167],\n",
              "       [-0.60149498],\n",
              "       [-0.34988907],\n",
              "       [ 0.34686576],\n",
              "       [ 0.62750312],\n",
              "       [ 0.14848418],\n",
              "       [ 0.02268122],\n",
              "       [-0.85310089],\n",
              "       [-2.72079091],\n",
              "       [ 0.42476682],\n",
              "       [ 0.01300407],\n",
              "       [-2.4851523 ],\n",
              "       [-2.15516147],\n",
              "       [ 1.00975056],\n",
              "       [ 0.82588471],\n",
              "       [-0.90390593],\n",
              "       [-0.91067993],\n",
              "       [-0.82455329],\n",
              "       [ 1.26909819],\n",
              "       [-1.14825397],\n",
              "       [-2.1343556 ],\n",
              "       [-1.15744727],\n",
              "       [-0.1045733 ],\n",
              "       [ 0.53073162],\n",
              "       [-1.22567118],\n",
              "       [-1.66452995],\n",
              "       [ 0.24525568],\n",
              "       [-0.13215318],\n",
              "       [-0.97067826],\n",
              "       [-0.23376326],\n",
              "       [ 1.21297072],\n",
              "       [-1.2595412 ],\n",
              "       [ 0.49686159],\n",
              "       [ 0.22396595],\n",
              "       [-0.44182199],\n",
              "       [ 0.47895886],\n",
              "       [ 0.08267956],\n",
              "       [-1.51840498],\n",
              "       [-0.34795364],\n",
              "       [-0.83858516],\n",
              "       [-0.13699176],\n",
              "       [-2.59498796],\n",
              "       [ 0.13106531],\n",
              "       [ 0.09042128],\n",
              "       [ 1.18877785],\n",
              "       [-0.82697258],\n",
              "       [-1.16857599],\n",
              "       [ 0.37589721],\n",
              "       [-0.24344041],\n",
              "       [-2.00952036],\n",
              "       [-0.59181783],\n",
              "       [-0.15634606],\n",
              "       [-2.87272217],\n",
              "       [-0.34069577],\n",
              "       [ 0.27622256],\n",
              "       [-2.15467761],\n",
              "       [-0.02812382],\n",
              "       [-2.77401524],\n",
              "       [ 0.25638441],\n",
              "       [ 0.84040043],\n",
              "       [-0.86277804],\n",
              "       [-1.52082426],\n",
              "       [ 0.29702844],\n",
              "       [ 0.44363727],\n",
              "       [ 0.47460415],\n",
              "       [-0.08376743],\n",
              "       [ 0.68556602],\n",
              "       [ 0.79201468],\n",
              "       [-1.2401869 ],\n",
              "       [ 0.6129874 ],\n",
              "       [-0.58214068],\n",
              "       [-1.51598569],\n",
              "       [-1.93984487],\n",
              "       [-0.30295489],\n",
              "       [-0.24827899],\n",
              "       [ 1.06442646],\n",
              "       [-1.48259952],\n",
              "       [ 0.0275198 ],\n",
              "       [ 0.33718861],\n",
              "       [-0.91600236],\n",
              "       [ 0.58637523],\n",
              "       [-0.62084928],\n",
              "       [-0.30827732],\n",
              "       [-1.95145746],\n",
              "       [-0.83568202],\n",
              "       [ 0.10977558],\n",
              "       [ 1.90488697],\n",
              "       [-0.75149081],\n",
              "       [-1.65630437],\n",
              "       [ 0.74362893],\n",
              "       [-2.42079925],\n",
              "       [-0.20957039],\n",
              "       [ 1.01458914]])"
            ]
          },
          "metadata": {},
          "execution_count": 7
        }
      ],
      "source": [
        "test_dataset.y\n",
        "# get numpy array"
      ]
    },
    {
      "cell_type": "markdown",
      "metadata": {
        "id": "_Zcd7jTd5zGr"
      },
      "source": [
        "- A better approach is to iterate over the dataset.  That lets it load just a little data at a time, process it, then free the memory before loading the next bit.  \n",
        " - use the `itersamples()` method"
      ]
    },
    {
      "cell_type": "code",
      "execution_count": null,
      "metadata": {
        "colab": {
          "base_uri": "https://localhost:8080/",
          "height": 34
        },
        "id": "LJc90fs_5zGs",
        "outputId": "8c9fd5ab-e23a-40dc-9292-8b4ff3a86890"
      },
      "outputs": [
        {
          "name": "stdout",
          "output_type": "stream",
          "text": [
            "[-1.70654087] C1c2ccccc2c3ccc4ccccc4c13\n",
            "[0.2911162] COc1ccccc1Cl\n",
            "[-1.42724759] COP(=S)(OC)Oc1cc(Cl)c(Br)cc1Cl\n",
            "[-0.92546642] ClC(Cl)CC(=O)NC2=C(Cl)C(=O)c1ccccc1C2=O\n",
            "[-1.95269767] ClC(Cl)C(c1ccc(Cl)cc1)c2ccc(Cl)cc2 \n",
            "[1.35148394] COC(=O)C=C\n",
            "[-0.85919344] CN(C)C(=O)Nc2ccc(Oc1ccc(Cl)cc1)cc2\n",
            "[-0.65090692] N(=Nc1ccccc1)c2ccccc2\n",
            "[-0.32900957] CC(C)c1ccc(C)cc1\n",
            "[0.60827977] Oc1c(Cl)cccc1Cl\n",
            "[1.82959618] OCC2OC(OC1(CO)OC(CO)C(O)C1O)C(O)C(O)C2O \n",
            "[1.62130966] OC1C(O)C(O)C(O)C(O)C1O\n",
            "[1.37515286] Cn2c(=O)n(C)c1ncn(CC(O)CO)c1c2=O\n",
            "[0.45632528] OCC(NC(=O)C(Cl)Cl)C(O)c1ccc(cc1)N(=O)=O\n",
            "[1.05325552] CCC(O)(CC)CC\n",
            "[-1.10535024] CC45CCC2C(CCC3CC1SC1CC23C)C4CCC5O\n",
            "[-0.20119739] Brc1ccccc1Br\n",
            "[0.34792162] Oc1c(Cl)cc(Cl)cc1Cl\n",
            "[-0.98700562] CCCN(CCC)c1c(cc(cc1N(=O)=O)S(N)(=O)=O)N(=O)=O\n",
            "[-0.816116] C2c1ccccc1N(CCF)C(=O)c3ccccc23 \n",
            "[0.84023521] CC(C)C(=O)C(C)C\n",
            "[0.22815687] O=C1NC(=O)NC(=O)C1(C(C)C)CC=C(C)C\n",
            "[0.06247441] c1c(O)C2C(=O)C3cc(O)ccC3OC2cc1(OC)\n",
            "[1.04094768] Cn1cnc2n(C)c(=O)n(C)c(=O)c12\n",
            "[-0.51978109] CC(=O)SC4CC1=CC(=O)CCC1(C)C5CCC2(C)C(CCC23CCC(=O)O3)C45\n",
            "[0.80236493] Cc1ccc(O)cc1C\n",
            "[-0.41895148] O(c1ccccc1)c2ccccc2\n",
            "[-2.59649237] Clc1cc(Cl)c(cc1Cl)c2cc(Cl)c(Cl)cc2Cl \n",
            "[1.74438806] NC(=O)c1cccnc1 \n",
            "[0.45206488] Sc1ccccc1\n",
            "[0.23383741] CNC(=O)Oc1cc(C)cc(C)c1\n",
            "[-1.791749] ClC1CC2C(C1Cl)C3(Cl)C(=C(Cl)C2(Cl)C3(Cl)Cl)Cl\n",
            "[0.77396223] CSSC\n",
            "[1.00118389] NC(=O)c1ccccc1\n",
            "[-0.05445007] Clc1ccccc1Br\n",
            "[1.10438039] COC(=O)c1ccccc1OC2OC(COC3OCC(O)C(O)C3O)C(O)C(O)C2O\n",
            "[0.75976087] CCCCC(O)CC\n",
            "[-0.70013828] CCN2c1nc(C)cc(C)c1NC(=O)c3cccnc23 \n",
            "[0.82130007] Oc1cc(Cl)cc(Cl)c1\n",
            "[-1.31363676] Cc1cccc2c1ccc3ccccc32\n",
            "[0.45679866] CCCCC(CC)CO\n",
            "[-0.57327285] CC(C)N(C(C)C)C(=O)SCC(=CCl)Cl\n",
            "[0.40946082] Cc1ccccc1\n",
            "[-0.32427579] Clc1cccc(n1)C(Cl)(Cl)Cl\n",
            "[-0.04971628] C1CCC=CCC1\n",
            "[-0.39054877] CN(C)C(=S)SSC(=S)N(C)C \n",
            "[-0.08095926] COC1=CC(=O)CC(C)C13Oc2c(Cl)c(OC)cc(OC)c2C3=O\n",
            "[-0.26273659] CCCCCCCCCCO\n",
            "[-0.54676366] CCC(C)(C)CC\n",
            "[1.99717215] CNC(=O)C(C)SCCSP(=O)(OC)(OC)\n",
            "[-0.03551493] Oc1cc(Cl)c(Cl)c(Cl)c1Cl\n",
            "[1.45089342] CCCC=O\n",
            "[-0.86392723] CC4CC3C2CCC1=CC(=O)C=CC1(C)C2(F)C(O)CC3(C)C4(O)C(=O)COC(C)=O \n",
            "[0.23904457] CCCC\n",
            "[0.52780543] COc1ccccc1O\n",
            "[-0.48475108] CC1CC2C3CCC(O)(C(=O)C)C3(C)CC(O)C2(F)C4(C)C=CC(=O)C=C14\n",
            "[0.22484322] ClC(Cl)C(Cl)(Cl)Cl\n",
            "[0.34318783] CCOC(=O)c1ccccc1C(=O)OCC\n",
            "[1.50296505] CC(C)CO\n",
            "[-0.49469203] CC(C)Cc1ccccc1\n",
            "[0.34792162] ICI\n",
            "[0.79289737] CCCC(O)CCC\n",
            "[0.56094192] CCCCCOC(=O)C\n",
            "[-0.13965819] Oc1c(Cl)c(Cl)cc(Cl)c1Cl\n",
            "[-0.13965819] CCCc1ccccc1\n",
            "[0.15857024] FC(F)(Cl)C(F)(F)Cl\n",
            "[1.60710831] CC=CC=O\n",
            "[1.90060295] CN(C)C(=O)N(C)C \n",
            "[-0.7171799] Cc1cc(C)c(C)cc1C\n",
            "[-0.81658938] CC(=O)OC3(CCC4C2CCC1=CC(=O)CCC1C2CCC34C)C#C\n",
            "[-0.13019062] CCOP(=S)(OCC)N2C(=O)c1ccccc1C2=O\n",
            "[-0.24380145] c1ccccc1NC(=O)c2c(O)cccc2\n",
            "[-0.14912576] CCN(CC)C(=S)SCC(Cl)=C\n",
            "[0.95384604] ClCC\n",
            "[-0.07811899] CC(=O)Nc1cc(NS(=O)(=O)C(F)(F)F)c(C)cc1C\n",
            "[-0.18226225] O=C(C=CC=Cc2ccc1OCOc1c2)N3CCCCC3\n",
            "[0.25324593] CC/C=C\\C\n",
            "[0.68875411] CNC(=O)ON=C(CSC)C(C)(C)C \n",
            "[0.04401265] O=C2NC(=O)C1(CCCCCCC1)C(=O)N2\n",
            "[-0.55149745] c1(C(C)(C)C)cc(C(C)(C)C)cc(OC(=O)NC)c1\n",
            "[-0.2580028] Oc2cc(O)c1C(=O)CC(Oc1c2)c3ccc(O)c(O)c3\n",
            "[-0.02131358] O=C(c1ccccc1)c2ccccc2\n",
            "[-2.41282153] CCCCCCCCCCCCCCCCCCCC\n",
            "[0.07336211] N(Nc1ccccc1)c2ccccc2 \n",
            "[0.90177441] CCC(CC)CO\n",
            "[1.93847322] Oc1ccncc1\n",
            "[0.84023521] Cl\\C=C/Cl\n",
            "[-0.1065217] CC1CCCC1\n",
            "[1.07692444] CC(C)CC(C)O\n",
            "[-0.40380337] O2c1ccc(N)cc1N(C)C(=O)c3cc(C)ccc23 \n",
            "[1.26627582] CC(C)(C)CO\n",
            "[-0.25326902] CC(C)(C)C(=O)C(Oc1ccc(Cl)cc1)n2cncn2\n",
            "[0.29064283] Cc1cc(no1)C(=O)NNCc2ccccc2\n",
            "[0.94437847] CC=C\n",
            "[-0.41563783] Oc1ccc(Cl)cc1Cc2cc(Cl)ccc2O\n",
            "[-0.7370618] CCOC(=O)Nc2cccc(OC(=O)Nc1ccccc1)c2 \n",
            "[-1.00120698] O=C1c2ccccc2C(=O)c3ccccc13\n",
            "[0.46626623] CCCCCCC(C)O\n",
            "[0.37585095] CC1=C(C(=O)Nc2ccccc2)S(=O)(=O)CCO1\n",
            "[-0.46628932] CCCCc1ccccc1\n",
            "[1.26627582] O=C1NC(=O)C(=O)N1 \n",
            "[-1.49683422] COP(=S)(OC)Oc1ccc(Sc2ccc(OP(=S)(OC)OC)cc2)cc1\n",
            "[-0.17800184] NS(=O)(=O)c1cc(ccc1Cl)C2(O)NC(=O)c3ccccc23\n",
            "[0.88283927] CC(C)COC(=O)C\n",
            "[-0.60830286] CC(C)C(C)(C)C\n",
            "[-2.17045176] Clc1ccc(c(Cl)c1Cl)c2c(Cl)cc(Cl)c(Cl)c2Cl \n",
            "[0.32898648] N#Cc1ccccc1C#N\n",
            "[0.30058377] Cc1cccc(c1)N(=O)=O\n",
            "[0.64615004] FC(F)(F)C(Cl)Br \n",
            "[1.50580532] CNC(=O)ON=C(SC)C(=O)N(C)C\n",
            "[-0.0075856] CCSCCSP(=S)(OC)OC\n",
            "[-0.04971628] CCC(C)C\n",
            "[-0.68499017] COP(=O)(OC)OC(=CCl)c1cc(Cl)c(Cl)cc1Cl\n"
          ]
        }
      ],
      "source": [
        "for X, y, w, id in test_dataset.itersamples():\n",
        "    print(y, id)"
      ]
    },
    {
      "cell_type": "markdown",
      "metadata": {
        "id": "aQa88cbj5zGw"
      },
      "source": [
        "- use `iterbatches()` to iterate over batches of samples."
      ]
    },
    {
      "cell_type": "code",
      "execution_count": 8,
      "metadata": {
        "colab": {
          "base_uri": "https://localhost:8080/"
        },
        "id": "HSVqeYox5zGx",
        "outputId": "eee1e2ae-3605-48dd-b257-72d5859c1e11"
      },
      "outputs": [
        {
          "output_type": "stream",
          "name": "stdout",
          "text": [
            "(50, 1)\n",
            "(50, 1)\n",
            "(13, 1)\n"
          ]
        }
      ],
      "source": [
        "for X, y, w, ids in test_dataset.iterbatches(batch_size=50):\n",
        "    print(y.shape)"
      ]
    },
    {
      "cell_type": "markdown",
      "metadata": {
        "id": "JmkFn6cH6G3I"
      },
      "source": [
        "- `iterbatches(batch_size=100, epochs=10, deterministic=False)` \n",
        " - iterate over the complete dataset ten times, each time with the samples in a different random order.\n",
        "\n",
        "- Datasets can also expose data using the standard interfaces for TensorFlow and PyTorch.  \n",
        " - To get a `tensorflow.data.Dataset`, call `make_tf_dataset()`.  \n",
        " - To get a `torch.utils.data.IterableDataset`, call `make_pytorch_dataset()`. \n",
        "\n",
        "- `to_dataframe()` (should only use it with small datasets)"
      ]
    },
    {
      "cell_type": "code",
      "execution_count": 9,
      "metadata": {
        "id": "key8ZuQ36G3J",
        "outputId": "21f0749a-67c5-4683-ec99-686cfc154509",
        "colab": {
          "base_uri": "https://localhost:8080/",
          "height": 641
        }
      },
      "outputs": [
        {
          "output_type": "execute_result",
          "data": {
            "text/plain": [
              "                                                     X         y    w  \\\n",
              "0    <deepchem.feat.mol_graphs.ConvMol object at 0x... -1.601145  1.0   \n",
              "1    <deepchem.feat.mol_graphs.ConvMol object at 0x...  0.208483  1.0   \n",
              "2    <deepchem.feat.mol_graphs.ConvMol object at 0x... -0.016027  1.0   \n",
              "3    <deepchem.feat.mol_graphs.ConvMol object at 0x... -2.821917  1.0   \n",
              "4    <deepchem.feat.mol_graphs.ConvMol object at 0x... -0.528916  1.0   \n",
              "..                                                 ...       ...  ...   \n",
              "108  <deepchem.feat.mol_graphs.ConvMol object at 0x... -1.656304  1.0   \n",
              "109  <deepchem.feat.mol_graphs.ConvMol object at 0x...  0.743629  1.0   \n",
              "110  <deepchem.feat.mol_graphs.ConvMol object at 0x... -2.420799  1.0   \n",
              "111  <deepchem.feat.mol_graphs.ConvMol object at 0x... -0.209570  1.0   \n",
              "112  <deepchem.feat.mol_graphs.ConvMol object at 0x...  1.014589  1.0   \n",
              "\n",
              "                                                   ids  \n",
              "0                           c1cc2ccc3cccc4ccc(c1)c2c34  \n",
              "1                              Cc1cc(=O)[nH]c(=S)[nH]1  \n",
              "2           Oc1ccc(cc1)C2(OC(=O)c3ccccc23)c4ccc(O)cc4   \n",
              "3                     c1ccc2c(c1)cc3ccc4cccc5ccc2c3c45  \n",
              "4                                  C1=Cc2cccc3cccc1c23  \n",
              "..                                                 ...  \n",
              "108     ClC4=C(Cl)C5(Cl)C3C1CC(C2OC12)C3C4(Cl)C5(Cl)Cl  \n",
              "109                                            c1ccsc1  \n",
              "110                 c1ccc2c(c1)ccc3c2ccc4c5ccccc5ccc43  \n",
              "111                             Cc1occc1C(=O)Nc2ccccc2  \n",
              "112  OCC3OC(OCC2OC(OC(C#N)c1ccccc1)C(O)C(O)C2O)C(O)...  \n",
              "\n",
              "[113 rows x 4 columns]"
            ],
            "text/html": [
              "\n",
              "  <div id=\"df-efe775d7-83dd-4e27-a680-b16c2e85e149\">\n",
              "    <div class=\"colab-df-container\">\n",
              "      <div>\n",
              "<style scoped>\n",
              "    .dataframe tbody tr th:only-of-type {\n",
              "        vertical-align: middle;\n",
              "    }\n",
              "\n",
              "    .dataframe tbody tr th {\n",
              "        vertical-align: top;\n",
              "    }\n",
              "\n",
              "    .dataframe thead th {\n",
              "        text-align: right;\n",
              "    }\n",
              "</style>\n",
              "<table border=\"1\" class=\"dataframe\">\n",
              "  <thead>\n",
              "    <tr style=\"text-align: right;\">\n",
              "      <th></th>\n",
              "      <th>X</th>\n",
              "      <th>y</th>\n",
              "      <th>w</th>\n",
              "      <th>ids</th>\n",
              "    </tr>\n",
              "  </thead>\n",
              "  <tbody>\n",
              "    <tr>\n",
              "      <th>0</th>\n",
              "      <td>&lt;deepchem.feat.mol_graphs.ConvMol object at 0x...</td>\n",
              "      <td>-1.601145</td>\n",
              "      <td>1.0</td>\n",
              "      <td>c1cc2ccc3cccc4ccc(c1)c2c34</td>\n",
              "    </tr>\n",
              "    <tr>\n",
              "      <th>1</th>\n",
              "      <td>&lt;deepchem.feat.mol_graphs.ConvMol object at 0x...</td>\n",
              "      <td>0.208483</td>\n",
              "      <td>1.0</td>\n",
              "      <td>Cc1cc(=O)[nH]c(=S)[nH]1</td>\n",
              "    </tr>\n",
              "    <tr>\n",
              "      <th>2</th>\n",
              "      <td>&lt;deepchem.feat.mol_graphs.ConvMol object at 0x...</td>\n",
              "      <td>-0.016027</td>\n",
              "      <td>1.0</td>\n",
              "      <td>Oc1ccc(cc1)C2(OC(=O)c3ccccc23)c4ccc(O)cc4</td>\n",
              "    </tr>\n",
              "    <tr>\n",
              "      <th>3</th>\n",
              "      <td>&lt;deepchem.feat.mol_graphs.ConvMol object at 0x...</td>\n",
              "      <td>-2.821917</td>\n",
              "      <td>1.0</td>\n",
              "      <td>c1ccc2c(c1)cc3ccc4cccc5ccc2c3c45</td>\n",
              "    </tr>\n",
              "    <tr>\n",
              "      <th>4</th>\n",
              "      <td>&lt;deepchem.feat.mol_graphs.ConvMol object at 0x...</td>\n",
              "      <td>-0.528916</td>\n",
              "      <td>1.0</td>\n",
              "      <td>C1=Cc2cccc3cccc1c23</td>\n",
              "    </tr>\n",
              "    <tr>\n",
              "      <th>...</th>\n",
              "      <td>...</td>\n",
              "      <td>...</td>\n",
              "      <td>...</td>\n",
              "      <td>...</td>\n",
              "    </tr>\n",
              "    <tr>\n",
              "      <th>108</th>\n",
              "      <td>&lt;deepchem.feat.mol_graphs.ConvMol object at 0x...</td>\n",
              "      <td>-1.656304</td>\n",
              "      <td>1.0</td>\n",
              "      <td>ClC4=C(Cl)C5(Cl)C3C1CC(C2OC12)C3C4(Cl)C5(Cl)Cl</td>\n",
              "    </tr>\n",
              "    <tr>\n",
              "      <th>109</th>\n",
              "      <td>&lt;deepchem.feat.mol_graphs.ConvMol object at 0x...</td>\n",
              "      <td>0.743629</td>\n",
              "      <td>1.0</td>\n",
              "      <td>c1ccsc1</td>\n",
              "    </tr>\n",
              "    <tr>\n",
              "      <th>110</th>\n",
              "      <td>&lt;deepchem.feat.mol_graphs.ConvMol object at 0x...</td>\n",
              "      <td>-2.420799</td>\n",
              "      <td>1.0</td>\n",
              "      <td>c1ccc2c(c1)ccc3c2ccc4c5ccccc5ccc43</td>\n",
              "    </tr>\n",
              "    <tr>\n",
              "      <th>111</th>\n",
              "      <td>&lt;deepchem.feat.mol_graphs.ConvMol object at 0x...</td>\n",
              "      <td>-0.209570</td>\n",
              "      <td>1.0</td>\n",
              "      <td>Cc1occc1C(=O)Nc2ccccc2</td>\n",
              "    </tr>\n",
              "    <tr>\n",
              "      <th>112</th>\n",
              "      <td>&lt;deepchem.feat.mol_graphs.ConvMol object at 0x...</td>\n",
              "      <td>1.014589</td>\n",
              "      <td>1.0</td>\n",
              "      <td>OCC3OC(OCC2OC(OC(C#N)c1ccccc1)C(O)C(O)C2O)C(O)...</td>\n",
              "    </tr>\n",
              "  </tbody>\n",
              "</table>\n",
              "<p>113 rows × 4 columns</p>\n",
              "</div>\n",
              "      <button class=\"colab-df-convert\" onclick=\"convertToInteractive('df-efe775d7-83dd-4e27-a680-b16c2e85e149')\"\n",
              "              title=\"Convert this dataframe to an interactive table.\"\n",
              "              style=\"display:none;\">\n",
              "        \n",
              "  <svg xmlns=\"http://www.w3.org/2000/svg\" height=\"24px\"viewBox=\"0 0 24 24\"\n",
              "       width=\"24px\">\n",
              "    <path d=\"M0 0h24v24H0V0z\" fill=\"none\"/>\n",
              "    <path d=\"M18.56 5.44l.94 2.06.94-2.06 2.06-.94-2.06-.94-.94-2.06-.94 2.06-2.06.94zm-11 1L8.5 8.5l.94-2.06 2.06-.94-2.06-.94L8.5 2.5l-.94 2.06-2.06.94zm10 10l.94 2.06.94-2.06 2.06-.94-2.06-.94-.94-2.06-.94 2.06-2.06.94z\"/><path d=\"M17.41 7.96l-1.37-1.37c-.4-.4-.92-.59-1.43-.59-.52 0-1.04.2-1.43.59L10.3 9.45l-7.72 7.72c-.78.78-.78 2.05 0 2.83L4 21.41c.39.39.9.59 1.41.59.51 0 1.02-.2 1.41-.59l7.78-7.78 2.81-2.81c.8-.78.8-2.07 0-2.86zM5.41 20L4 18.59l7.72-7.72 1.47 1.35L5.41 20z\"/>\n",
              "  </svg>\n",
              "      </button>\n",
              "      \n",
              "  <style>\n",
              "    .colab-df-container {\n",
              "      display:flex;\n",
              "      flex-wrap:wrap;\n",
              "      gap: 12px;\n",
              "    }\n",
              "\n",
              "    .colab-df-convert {\n",
              "      background-color: #E8F0FE;\n",
              "      border: none;\n",
              "      border-radius: 50%;\n",
              "      cursor: pointer;\n",
              "      display: none;\n",
              "      fill: #1967D2;\n",
              "      height: 32px;\n",
              "      padding: 0 0 0 0;\n",
              "      width: 32px;\n",
              "    }\n",
              "\n",
              "    .colab-df-convert:hover {\n",
              "      background-color: #E2EBFA;\n",
              "      box-shadow: 0px 1px 2px rgba(60, 64, 67, 0.3), 0px 1px 3px 1px rgba(60, 64, 67, 0.15);\n",
              "      fill: #174EA6;\n",
              "    }\n",
              "\n",
              "    [theme=dark] .colab-df-convert {\n",
              "      background-color: #3B4455;\n",
              "      fill: #D2E3FC;\n",
              "    }\n",
              "\n",
              "    [theme=dark] .colab-df-convert:hover {\n",
              "      background-color: #434B5C;\n",
              "      box-shadow: 0px 1px 3px 1px rgba(0, 0, 0, 0.15);\n",
              "      filter: drop-shadow(0px 1px 2px rgba(0, 0, 0, 0.3));\n",
              "      fill: #FFFFFF;\n",
              "    }\n",
              "  </style>\n",
              "\n",
              "      <script>\n",
              "        const buttonEl =\n",
              "          document.querySelector('#df-efe775d7-83dd-4e27-a680-b16c2e85e149 button.colab-df-convert');\n",
              "        buttonEl.style.display =\n",
              "          google.colab.kernel.accessAllowed ? 'block' : 'none';\n",
              "\n",
              "        async function convertToInteractive(key) {\n",
              "          const element = document.querySelector('#df-efe775d7-83dd-4e27-a680-b16c2e85e149');\n",
              "          const dataTable =\n",
              "            await google.colab.kernel.invokeFunction('convertToInteractive',\n",
              "                                                     [key], {});\n",
              "          if (!dataTable) return;\n",
              "\n",
              "          const docLinkHtml = 'Like what you see? Visit the ' +\n",
              "            '<a target=\"_blank\" href=https://colab.research.google.com/notebooks/data_table.ipynb>data table notebook</a>'\n",
              "            + ' to learn more about interactive tables.';\n",
              "          element.innerHTML = '';\n",
              "          dataTable['output_type'] = 'display_data';\n",
              "          await google.colab.output.renderOutput(dataTable, element);\n",
              "          const docLink = document.createElement('div');\n",
              "          docLink.innerHTML = docLinkHtml;\n",
              "          element.appendChild(docLink);\n",
              "        }\n",
              "      </script>\n",
              "    </div>\n",
              "  </div>\n",
              "  "
            ]
          },
          "metadata": {},
          "execution_count": 9
        }
      ],
      "source": [
        "test_dataset.to_dataframe()"
      ]
    },
    {
      "cell_type": "markdown",
      "metadata": {
        "id": "sqr0H7Il6G3J"
      },
      "source": [
        "# Creating Datasets\n",
        "\n",
        "- you can create your own datasets.  Creating a `NumpyDataset` is very simple"
      ]
    },
    {
      "cell_type": "code",
      "execution_count": 10,
      "metadata": {
        "id": "k6lbbQ_t6G3J",
        "outputId": "267ed835-900d-40dd-8f68-960663666b3c",
        "colab": {
          "base_uri": "https://localhost:8080/"
        }
      },
      "outputs": [
        {
          "output_type": "stream",
          "name": "stdout",
          "text": [
            "<NumpyDataset X.shape: (10, 5), y.shape: (10, 2), w.shape: (10, 1), ids: [0 1 2 3 4 5 6 7 8 9], task_names: [0 1]>\n"
          ]
        }
      ],
      "source": [
        "import numpy as np\n",
        "\n",
        "X = np.random.random((10, 5))\n",
        "y = np.random.random((10, 2))\n",
        "dataset = dc.data.NumpyDataset(X=X, y=y)\n",
        "print(dataset)"
      ]
    },
    {
      "cell_type": "markdown",
      "metadata": {
        "id": "N-6TRc6T6G3J"
      },
      "source": [
        "- we did not specify weights or IDs.  These are optional, as is `y` for that matter.  Only `X` is required.  \n",
        "- Since we left them out, it automatically built `w` and `ids` arrays for us, setting all weights to 1 and setting the IDs to integer indices."
      ]
    },
    {
      "cell_type": "code",
      "execution_count": 11,
      "metadata": {
        "id": "BiwYmuCO6G3K",
        "outputId": "115cf1b1-bd8a-408a-f924-b2f6a44aad5e",
        "colab": {
          "base_uri": "https://localhost:8080/",
          "height": 363
        }
      },
      "outputs": [
        {
          "output_type": "execute_result",
          "data": {
            "text/plain": [
              "         X1        X2        X3        X4        X5        y1        y2    w  \\\n",
              "0  0.762896  0.716692  0.236962  0.741224  0.698493  0.651243  0.603753  1.0   \n",
              "1  0.230394  0.098218  0.666193  0.697988  0.568199  0.771893  0.313024  1.0   \n",
              "2  0.751387  0.351718  0.577777  0.735805  0.223220  0.974115  0.242085  1.0   \n",
              "3  0.370109  0.300955  0.443929  0.397283  0.978975  0.623070  0.091307  1.0   \n",
              "4  0.366750  0.480301  0.630271  0.304236  0.633707  0.353764  0.038945  1.0   \n",
              "5  0.214706  0.072903  0.943132  0.353410  0.824539  0.972111  0.679871  1.0   \n",
              "6  0.114787  0.651963  0.995025  0.730898  0.804485  0.344875  0.778179  1.0   \n",
              "7  0.285158  0.451345  0.445410  0.407898  0.686841  0.244473  0.291853  1.0   \n",
              "8  0.408860  0.564216  0.516479  0.039808  0.115541  0.734804  0.514615  1.0   \n",
              "9  0.609884  0.520608  0.684718  0.093286  0.600643  0.234372  0.271084  1.0   \n",
              "\n",
              "  ids  \n",
              "0   0  \n",
              "1   1  \n",
              "2   2  \n",
              "3   3  \n",
              "4   4  \n",
              "5   5  \n",
              "6   6  \n",
              "7   7  \n",
              "8   8  \n",
              "9   9  "
            ],
            "text/html": [
              "\n",
              "  <div id=\"df-cbdaf939-2145-41da-ba24-c12ab69cfdbc\">\n",
              "    <div class=\"colab-df-container\">\n",
              "      <div>\n",
              "<style scoped>\n",
              "    .dataframe tbody tr th:only-of-type {\n",
              "        vertical-align: middle;\n",
              "    }\n",
              "\n",
              "    .dataframe tbody tr th {\n",
              "        vertical-align: top;\n",
              "    }\n",
              "\n",
              "    .dataframe thead th {\n",
              "        text-align: right;\n",
              "    }\n",
              "</style>\n",
              "<table border=\"1\" class=\"dataframe\">\n",
              "  <thead>\n",
              "    <tr style=\"text-align: right;\">\n",
              "      <th></th>\n",
              "      <th>X1</th>\n",
              "      <th>X2</th>\n",
              "      <th>X3</th>\n",
              "      <th>X4</th>\n",
              "      <th>X5</th>\n",
              "      <th>y1</th>\n",
              "      <th>y2</th>\n",
              "      <th>w</th>\n",
              "      <th>ids</th>\n",
              "    </tr>\n",
              "  </thead>\n",
              "  <tbody>\n",
              "    <tr>\n",
              "      <th>0</th>\n",
              "      <td>0.762896</td>\n",
              "      <td>0.716692</td>\n",
              "      <td>0.236962</td>\n",
              "      <td>0.741224</td>\n",
              "      <td>0.698493</td>\n",
              "      <td>0.651243</td>\n",
              "      <td>0.603753</td>\n",
              "      <td>1.0</td>\n",
              "      <td>0</td>\n",
              "    </tr>\n",
              "    <tr>\n",
              "      <th>1</th>\n",
              "      <td>0.230394</td>\n",
              "      <td>0.098218</td>\n",
              "      <td>0.666193</td>\n",
              "      <td>0.697988</td>\n",
              "      <td>0.568199</td>\n",
              "      <td>0.771893</td>\n",
              "      <td>0.313024</td>\n",
              "      <td>1.0</td>\n",
              "      <td>1</td>\n",
              "    </tr>\n",
              "    <tr>\n",
              "      <th>2</th>\n",
              "      <td>0.751387</td>\n",
              "      <td>0.351718</td>\n",
              "      <td>0.577777</td>\n",
              "      <td>0.735805</td>\n",
              "      <td>0.223220</td>\n",
              "      <td>0.974115</td>\n",
              "      <td>0.242085</td>\n",
              "      <td>1.0</td>\n",
              "      <td>2</td>\n",
              "    </tr>\n",
              "    <tr>\n",
              "      <th>3</th>\n",
              "      <td>0.370109</td>\n",
              "      <td>0.300955</td>\n",
              "      <td>0.443929</td>\n",
              "      <td>0.397283</td>\n",
              "      <td>0.978975</td>\n",
              "      <td>0.623070</td>\n",
              "      <td>0.091307</td>\n",
              "      <td>1.0</td>\n",
              "      <td>3</td>\n",
              "    </tr>\n",
              "    <tr>\n",
              "      <th>4</th>\n",
              "      <td>0.366750</td>\n",
              "      <td>0.480301</td>\n",
              "      <td>0.630271</td>\n",
              "      <td>0.304236</td>\n",
              "      <td>0.633707</td>\n",
              "      <td>0.353764</td>\n",
              "      <td>0.038945</td>\n",
              "      <td>1.0</td>\n",
              "      <td>4</td>\n",
              "    </tr>\n",
              "    <tr>\n",
              "      <th>5</th>\n",
              "      <td>0.214706</td>\n",
              "      <td>0.072903</td>\n",
              "      <td>0.943132</td>\n",
              "      <td>0.353410</td>\n",
              "      <td>0.824539</td>\n",
              "      <td>0.972111</td>\n",
              "      <td>0.679871</td>\n",
              "      <td>1.0</td>\n",
              "      <td>5</td>\n",
              "    </tr>\n",
              "    <tr>\n",
              "      <th>6</th>\n",
              "      <td>0.114787</td>\n",
              "      <td>0.651963</td>\n",
              "      <td>0.995025</td>\n",
              "      <td>0.730898</td>\n",
              "      <td>0.804485</td>\n",
              "      <td>0.344875</td>\n",
              "      <td>0.778179</td>\n",
              "      <td>1.0</td>\n",
              "      <td>6</td>\n",
              "    </tr>\n",
              "    <tr>\n",
              "      <th>7</th>\n",
              "      <td>0.285158</td>\n",
              "      <td>0.451345</td>\n",
              "      <td>0.445410</td>\n",
              "      <td>0.407898</td>\n",
              "      <td>0.686841</td>\n",
              "      <td>0.244473</td>\n",
              "      <td>0.291853</td>\n",
              "      <td>1.0</td>\n",
              "      <td>7</td>\n",
              "    </tr>\n",
              "    <tr>\n",
              "      <th>8</th>\n",
              "      <td>0.408860</td>\n",
              "      <td>0.564216</td>\n",
              "      <td>0.516479</td>\n",
              "      <td>0.039808</td>\n",
              "      <td>0.115541</td>\n",
              "      <td>0.734804</td>\n",
              "      <td>0.514615</td>\n",
              "      <td>1.0</td>\n",
              "      <td>8</td>\n",
              "    </tr>\n",
              "    <tr>\n",
              "      <th>9</th>\n",
              "      <td>0.609884</td>\n",
              "      <td>0.520608</td>\n",
              "      <td>0.684718</td>\n",
              "      <td>0.093286</td>\n",
              "      <td>0.600643</td>\n",
              "      <td>0.234372</td>\n",
              "      <td>0.271084</td>\n",
              "      <td>1.0</td>\n",
              "      <td>9</td>\n",
              "    </tr>\n",
              "  </tbody>\n",
              "</table>\n",
              "</div>\n",
              "      <button class=\"colab-df-convert\" onclick=\"convertToInteractive('df-cbdaf939-2145-41da-ba24-c12ab69cfdbc')\"\n",
              "              title=\"Convert this dataframe to an interactive table.\"\n",
              "              style=\"display:none;\">\n",
              "        \n",
              "  <svg xmlns=\"http://www.w3.org/2000/svg\" height=\"24px\"viewBox=\"0 0 24 24\"\n",
              "       width=\"24px\">\n",
              "    <path d=\"M0 0h24v24H0V0z\" fill=\"none\"/>\n",
              "    <path d=\"M18.56 5.44l.94 2.06.94-2.06 2.06-.94-2.06-.94-.94-2.06-.94 2.06-2.06.94zm-11 1L8.5 8.5l.94-2.06 2.06-.94-2.06-.94L8.5 2.5l-.94 2.06-2.06.94zm10 10l.94 2.06.94-2.06 2.06-.94-2.06-.94-.94-2.06-.94 2.06-2.06.94z\"/><path d=\"M17.41 7.96l-1.37-1.37c-.4-.4-.92-.59-1.43-.59-.52 0-1.04.2-1.43.59L10.3 9.45l-7.72 7.72c-.78.78-.78 2.05 0 2.83L4 21.41c.39.39.9.59 1.41.59.51 0 1.02-.2 1.41-.59l7.78-7.78 2.81-2.81c.8-.78.8-2.07 0-2.86zM5.41 20L4 18.59l7.72-7.72 1.47 1.35L5.41 20z\"/>\n",
              "  </svg>\n",
              "      </button>\n",
              "      \n",
              "  <style>\n",
              "    .colab-df-container {\n",
              "      display:flex;\n",
              "      flex-wrap:wrap;\n",
              "      gap: 12px;\n",
              "    }\n",
              "\n",
              "    .colab-df-convert {\n",
              "      background-color: #E8F0FE;\n",
              "      border: none;\n",
              "      border-radius: 50%;\n",
              "      cursor: pointer;\n",
              "      display: none;\n",
              "      fill: #1967D2;\n",
              "      height: 32px;\n",
              "      padding: 0 0 0 0;\n",
              "      width: 32px;\n",
              "    }\n",
              "\n",
              "    .colab-df-convert:hover {\n",
              "      background-color: #E2EBFA;\n",
              "      box-shadow: 0px 1px 2px rgba(60, 64, 67, 0.3), 0px 1px 3px 1px rgba(60, 64, 67, 0.15);\n",
              "      fill: #174EA6;\n",
              "    }\n",
              "\n",
              "    [theme=dark] .colab-df-convert {\n",
              "      background-color: #3B4455;\n",
              "      fill: #D2E3FC;\n",
              "    }\n",
              "\n",
              "    [theme=dark] .colab-df-convert:hover {\n",
              "      background-color: #434B5C;\n",
              "      box-shadow: 0px 1px 3px 1px rgba(0, 0, 0, 0.15);\n",
              "      filter: drop-shadow(0px 1px 2px rgba(0, 0, 0, 0.3));\n",
              "      fill: #FFFFFF;\n",
              "    }\n",
              "  </style>\n",
              "\n",
              "      <script>\n",
              "        const buttonEl =\n",
              "          document.querySelector('#df-cbdaf939-2145-41da-ba24-c12ab69cfdbc button.colab-df-convert');\n",
              "        buttonEl.style.display =\n",
              "          google.colab.kernel.accessAllowed ? 'block' : 'none';\n",
              "\n",
              "        async function convertToInteractive(key) {\n",
              "          const element = document.querySelector('#df-cbdaf939-2145-41da-ba24-c12ab69cfdbc');\n",
              "          const dataTable =\n",
              "            await google.colab.kernel.invokeFunction('convertToInteractive',\n",
              "                                                     [key], {});\n",
              "          if (!dataTable) return;\n",
              "\n",
              "          const docLinkHtml = 'Like what you see? Visit the ' +\n",
              "            '<a target=\"_blank\" href=https://colab.research.google.com/notebooks/data_table.ipynb>data table notebook</a>'\n",
              "            + ' to learn more about interactive tables.';\n",
              "          element.innerHTML = '';\n",
              "          dataTable['output_type'] = 'display_data';\n",
              "          await google.colab.output.renderOutput(dataTable, element);\n",
              "          const docLink = document.createElement('div');\n",
              "          docLink.innerHTML = docLinkHtml;\n",
              "          element.appendChild(docLink);\n",
              "        }\n",
              "      </script>\n",
              "    </div>\n",
              "  </div>\n",
              "  "
            ]
          },
          "metadata": {},
          "execution_count": 11
        }
      ],
      "source": [
        "dataset.to_dataframe()"
      ]
    },
    {
      "cell_type": "markdown",
      "metadata": {
        "id": "WBlHz7Zc6G3K"
      },
      "source": [
        "- creating a DiskDataset\n",
        " - If you have the data in NumPy arrays, you can call `DiskDataset.from_numpy()` "
      ]
    },
    {
      "cell_type": "code",
      "execution_count": 12,
      "metadata": {
        "id": "slGihlLM6G3K",
        "outputId": "dfe965bf-9dc0-49c8-cc55-1ed2e2875f98",
        "colab": {
          "base_uri": "https://localhost:8080/"
        }
      },
      "outputs": [
        {
          "output_type": "stream",
          "name": "stdout",
          "text": [
            "<DiskDataset X.shape: (10, 5), y.shape: (10, 2), w.shape: (10, 1), ids: [0 1 2 3 4 5 6 7 8 9], task_names: [0 1]>\n"
          ]
        }
      ],
      "source": [
        "import tempfile\n",
        "\n",
        "with tempfile.TemporaryDirectory() as data_dir:\n",
        "    disk_dataset = dc.data.DiskDataset.from_numpy(X=X, y=y, data_dir=data_dir)\n",
        "    print(disk_dataset)"
      ]
    },
    {
      "cell_type": "markdown",
      "metadata": {
        "id": "iBbMybNL6G3K"
      },
      "source": [
        "- What if you have some huge files on disk containing data on hundreds of millions of molecules?  \n",
        "- Fortunately, DeepChem's `DataLoader` framework can automate most of the work for you. "
      ]
    }
  ],
  "metadata": {
    "colab": {
      "name": "c_81_DC_2_Datasets.ipynb",
      "provenance": [],
      "collapsed_sections": []
    },
    "kernelspec": {
      "display_name": "Python 3",
      "language": "python",
      "name": "python3"
    },
    "language_info": {
      "codemirror_mode": {
        "name": "ipython",
        "version": 3
      },
      "file_extension": ".py",
      "mimetype": "text/x-python",
      "name": "python",
      "nbconvert_exporter": "python",
      "pygments_lexer": "ipython3",
      "version": "3.7.6"
    },
    "accelerator": "GPU",
    "gpuClass": "standard"
  },
  "nbformat": 4,
  "nbformat_minor": 0
}
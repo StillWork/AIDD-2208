{
  "cells": [
    {
      "cell_type": "markdown",
      "metadata": {
        "id": "0nS_VrHKAkdv"
      },
      "source": [
        "#  An Introduction To MoleculeNet\n",
        "\n",
        "- The original MoleculeNet suite had 17 datasets mostly focused on molecular properties. \n",
        "\n",
        "- you can conveniently access these these through functions in the `dc.molnet` submodule. "
      ]
    },
    {
      "cell_type": "code",
      "execution_count": 1,
      "metadata": {
        "id": "PZEeSenOAkdz",
        "colab": {
          "base_uri": "https://localhost:8080/"
        },
        "outputId": "40e1f07d-c35b-4bee-9a0a-0f45a57fba85"
      },
      "outputs": [
        {
          "output_type": "stream",
          "name": "stdout",
          "text": [
            "Looking in indexes: https://pypi.org/simple, https://us-python.pkg.dev/colab-wheels/public/simple/\n",
            "Collecting deepchem\n",
            "  Downloading deepchem-2.6.1-py3-none-any.whl (608 kB)\n",
            "\u001b[K     |████████████████████████████████| 608 kB 5.2 MB/s \n",
            "\u001b[?25hRequirement already satisfied: scipy in /usr/local/lib/python3.7/dist-packages (from deepchem) (1.7.3)\n",
            "Collecting rdkit-pypi\n",
            "  Downloading rdkit_pypi-2022.3.5-cp37-cp37m-manylinux_2_17_x86_64.manylinux2014_x86_64.whl (36.8 MB)\n",
            "\u001b[K     |████████████████████████████████| 36.8 MB 2.2 MB/s \n",
            "\u001b[?25hRequirement already satisfied: pandas in /usr/local/lib/python3.7/dist-packages (from deepchem) (1.3.5)\n",
            "Requirement already satisfied: scikit-learn in /usr/local/lib/python3.7/dist-packages (from deepchem) (1.0.2)\n",
            "Requirement already satisfied: joblib in /usr/local/lib/python3.7/dist-packages (from deepchem) (1.1.0)\n",
            "Requirement already satisfied: numpy>=1.21 in /usr/local/lib/python3.7/dist-packages (from deepchem) (1.21.6)\n",
            "Requirement already satisfied: pytz>=2017.3 in /usr/local/lib/python3.7/dist-packages (from pandas->deepchem) (2022.1)\n",
            "Requirement already satisfied: python-dateutil>=2.7.3 in /usr/local/lib/python3.7/dist-packages (from pandas->deepchem) (2.8.2)\n",
            "Requirement already satisfied: six>=1.5 in /usr/local/lib/python3.7/dist-packages (from python-dateutil>=2.7.3->pandas->deepchem) (1.15.0)\n",
            "Requirement already satisfied: Pillow in /usr/local/lib/python3.7/dist-packages (from rdkit-pypi->deepchem) (7.1.2)\n",
            "Requirement already satisfied: threadpoolctl>=2.0.0 in /usr/local/lib/python3.7/dist-packages (from scikit-learn->deepchem) (3.1.0)\n",
            "Installing collected packages: rdkit-pypi, deepchem\n",
            "Successfully installed deepchem-2.6.1 rdkit-pypi-2022.3.5\n"
          ]
        }
      ],
      "source": [
        "!pip install --pre deepchem"
      ]
    },
    {
      "cell_type": "code",
      "execution_count": 2,
      "metadata": {
        "id": "u2dCsNRVAkd1",
        "outputId": "94356edf-7cf1-4606-c097-d26b0475834a",
        "colab": {
          "base_uri": "https://localhost:8080/",
          "height": 36
        }
      },
      "outputs": [
        {
          "output_type": "execute_result",
          "data": {
            "text/plain": [
              "'2.6.1'"
            ],
            "application/vnd.google.colaboratory.intrinsic+json": {
              "type": "string"
            }
          },
          "metadata": {},
          "execution_count": 2
        }
      ],
      "source": [
        "import deepchem as dc\n",
        "dc.__version__"
      ]
    },
    {
      "cell_type": "code",
      "execution_count": 3,
      "metadata": {
        "id": "OrCATuBBAkd3"
      },
      "outputs": [],
      "source": [
        "tasks, datasets, transformers = dc.molnet.load_delaney(featurizer='GraphConv', splitter='random')"
      ]
    },
    {
      "cell_type": "markdown",
      "metadata": {
        "id": "JAtCFwD3Akd3"
      },
      "source": [
        "- take a look at the full collection of loaders available for us"
      ]
    },
    {
      "cell_type": "code",
      "execution_count": 4,
      "metadata": {
        "id": "jsOLRDy8Akd4",
        "outputId": "627a622f-af8e-4ec9-f308-2b9b880549de",
        "colab": {
          "base_uri": "https://localhost:8080/"
        }
      },
      "outputs": [
        {
          "output_type": "execute_result",
          "data": {
            "text/plain": [
              "['load_Platinum_Adsorption',\n",
              " 'load_bace_classification',\n",
              " 'load_bace_regression',\n",
              " 'load_bandgap',\n",
              " 'load_bbbc001',\n",
              " 'load_bbbc002',\n",
              " 'load_bbbp',\n",
              " 'load_cell_counting',\n",
              " 'load_chembl',\n",
              " 'load_chembl25',\n",
              " 'load_clearance',\n",
              " 'load_clintox',\n",
              " 'load_delaney',\n",
              " 'load_factors',\n",
              " 'load_freesolv',\n",
              " 'load_function',\n",
              " 'load_hiv',\n",
              " 'load_hopv',\n",
              " 'load_hppb',\n",
              " 'load_kaggle',\n",
              " 'load_kinase',\n",
              " 'load_lipo',\n",
              " 'load_mp_formation_energy',\n",
              " 'load_mp_metallicity',\n",
              " 'load_muv',\n",
              " 'load_nci',\n",
              " 'load_pcba',\n",
              " 'load_pdbbind',\n",
              " 'load_perovskite',\n",
              " 'load_ppb',\n",
              " 'load_qm7',\n",
              " 'load_qm8',\n",
              " 'load_qm9',\n",
              " 'load_sampl',\n",
              " 'load_sider',\n",
              " 'load_sweet',\n",
              " 'load_thermosol',\n",
              " 'load_tox21',\n",
              " 'load_toxcast',\n",
              " 'load_uspto',\n",
              " 'load_uv',\n",
              " 'load_zinc15']"
            ]
          },
          "metadata": {},
          "execution_count": 4
        }
      ],
      "source": [
        "[method for method in dir(dc.molnet) if \"load_\" in method ]"
      ]
    },
    {
      "cell_type": "code",
      "execution_count": 5,
      "metadata": {
        "id": "YIt3-_XXAkd5",
        "outputId": "b752b4e4-2904-4635-ccc5-984fb3711e27",
        "colab": {
          "base_uri": "https://localhost:8080/"
        }
      },
      "outputs": [
        {
          "output_type": "execute_result",
          "data": {
            "text/plain": [
              "42"
            ]
          },
          "metadata": {},
          "execution_count": 5
        }
      ],
      "source": [
        "len([method for method in dir(dc.molnet) if \"load_\" in method ])"
      ]
    },
    {
      "cell_type": "markdown",
      "metadata": {
        "id": "ho3LcUI4Akd6"
      },
      "source": [
        "# MoleculeNet Dataset Categories\n",
        "\n",
        "- The original MoleculeNet paper [1] provides details about a subset of these papers. We've marked these datasets as \"V1\" below. All remaining dataset are \"V2\" \n",
        "\n",
        "## Quantum Mechanical Datasets\n",
        "\n",
        "- contain various quantum mechanical property prediction tasks. The current set of quantum mechanical datasets includes QM7, QM7b, QM8, QM9. The associated loaders are \n",
        "\n",
        "- [`dc.molnet.load_qm7`](https://deepchem.readthedocs.io/en/latest/moleculenet.html#deepchem.molnet.load_qm7): V1\n",
        "- [`dc.molnet.load_qm7b_from_mat`](https://deepchem.readthedocs.io/en/latest/moleculenet.html#deepchem.molnet.load_qm7): V1\n",
        "- [`dc.molnet.load_qm8`](https://deepchem.readthedocs.io/en/latest/moleculenet.html#deepchem.molnet.load_qm8): V1\n",
        "- [`dc.molnet.load_qm9`](https://deepchem.readthedocs.io/en/latest/moleculenet.html#deepchem.molnet.load_qm9): V1\n",
        "\n",
        "## Physical Chemistry Datasets\n",
        "\n",
        "- contain a variety of tasks for predicting various physical properties of molecules.\n",
        "\n",
        "- [`dc.molnet.load_delaney`](https://deepchem.readthedocs.io/en/latest/moleculenet.html#deepchem.molnet.load_delaney): V1. This dataset is also referred to as ESOL in the original  paper.\n",
        "- [`dc.molnet.load_sampl`](https://deepchem.readthedocs.io/en/latest/moleculenet.html#deepchem.molnet.load_sampl): V1. This dataset is also referred to as FreeSolv in the original  paper.\n",
        "- [`dc.molnet.load_lipo`](https://deepchem.readthedocs.io/en/latest/moleculenet.html#deepchem.molnet.load_lipo): V1. This dataset is also referred to as Lipophilicity in the original  paper.\n",
        "- [`dc.molnet.load_thermosol`](https://deepchem.readthedocs.io/en/latest/moleculenet.html#deepchem.molnet.load_thermosol): V2.\n",
        "- [`dc.molnet.load_hppb`](https://deepchem.readthedocs.io/en/latest/moleculenet.html#deepchem.molnet.load_hppb): V2.\n",
        "- [`dc.molnet.load_hopv`](https://deepchem.readthedocs.io/en/latest/moleculenet.html#deepchem.molnet.load_hopv): V2. This dataset is drawn from a recent publication [3]\n",
        "\n",
        "## Chemical Reaction Datasets\n",
        "\n",
        "- chemical reaction datasets for use in computational retrosynthesis / forward synthesis.\n",
        "\n",
        "- [`dc.molnet.load_uspto`](https://deepchem.readthedocs.io/en/latest/moleculenet.html#deepchem.molnet.load_uspto)\n",
        "\n",
        "## Biochemical/Biophysical Datasets\n",
        "\n",
        "- e.g., the binding affinity of compounds to proteins.\n",
        "\n",
        "- [`dc.molnet.load_pcba`](https://deepchem.readthedocs.io/en/latest/moleculenet.html#deepchem.molnet.load_pcba): V1\n",
        "- [`dc.molnet.load_nci`](https://deepchem.readthedocs.io/en/latest/moleculenet.html#deepchem.molnet.load_nci): V2.\n",
        "- [`dc.molnet.load_muv`](https://deepchem.readthedocs.io/en/latest/moleculenet.html#deepchem.molnet.load_muv): V1\n",
        "- [`dc.molnet.load_hiv`](https://deepchem.readthedocs.io/en/latest/moleculenet.html#deepchem.molnet.load_hiv): V1\n",
        "- [`dc.molnet.load_ppb`](https://deepchem.readthedocs.io/en/latest/moleculenet.html#ppb-datasets): V2.\n",
        "- [`dc.molnet.load_bace_classification`](https://deepchem.readthedocs.io/en/latest/moleculenet.html#deepchem.molnet.load_bace_classification): V1. This loader loads the classification task for the BACE dataset from the original MoleculeNet paper.\n",
        "- [`dc.molnet.load_bace_regression`](https://deepchem.readthedocs.io/en/latest/moleculenet.html#deepchem.molnet.load_bace_regression): V1. This loader loads the regression task for the BACE dataset from the original MoleculeNet paper.\n",
        "- [`dc.molnet.load_kaggle`](https://deepchem.readthedocs.io/en/latest/moleculenet.html#deepchem.molnet.load_kaggle): V2. This dataset is from Merck's drug discovery kaggle contest and is described in [4].\n",
        "- [`dc.molnet.load_factors`](https://deepchem.readthedocs.io/en/latest/moleculenet.html#deepchem.molnet.load_factors): V2. This dataset is from [4].\n",
        "- [`dc.molnet.load_uv`](https://deepchem.readthedocs.io/en/latest/moleculenet.html#deepchem.molnet.load_uv): V2. This dataset is from [4].\n",
        "- [`dc.molnet.load_kinase`](https://deepchem.readthedocs.io/en/latest/moleculenet.html#deepchem.molnet.load_kinase): V2. This datset is from [4].\n",
        "\n",
        "## Molecular Catalog Datasets\n",
        "\n",
        "These datasets provide molecular datasets which have no associated properties beyond the raw SMILES formula or structure. These types of datasets are useful for generative modeling tasks.\n",
        "\n",
        "- [`dc.molnet.load_zinc15`](https://deepchem.readthedocs.io/en/latest/moleculenet.html#deepchem.molnet.load_zinc15): V2\n",
        "- [`dc.molnet.load_chembl`](https://deepchem.readthedocs.io/en/latest/moleculenet.html#deepchem.molnet.load_chembl): V2\n",
        "- [`dc.molnet.load_chembl25`](https://deepchem.readthedocs.io/en/latest/moleculenet.html#chembl25-datasets): V2\n",
        "\n",
        "## Physiology Datasets\n",
        "\n",
        "These datasets measure physiological properties of how molecules interact with human patients.\n",
        "\n",
        "- [`dc.molnet.load_bbbp`](https://deepchem.readthedocs.io/en/latest/moleculenet.html#deepchem.molnet.load_bbbp): V1\n",
        "- [`dc.molnet.load_tox21`](https://deepchem.readthedocs.io/en/latest/moleculenet.html#deepchem.molnet.load_tox21): V1\n",
        "- [`dc.molnet.load_toxcast`](https://deepchem.readthedocs.io/en/latest/moleculenet.html#deepchem.molnet.load_toxcast): V1\n",
        "- [`dc.molnet.load_sider`](https://deepchem.readthedocs.io/en/latest/moleculenet.html#deepchem.molnet.load_sider): V1\n",
        "- [`dc.molnet.load_clintox`](https://deepchem.readthedocs.io/en/latest/moleculenet.html#deepchem.molnet.load_clintox): V1\n",
        "- [`dc.molnet.load_clearance`](https://deepchem.readthedocs.io/en/latest/moleculenet.html#deepchem.molnet.load_clearance): V2.\n",
        "\n",
        "## Structural Biology Datasets\n",
        "\n",
        "These datasets contain 3D structures of macromolecules along with associated properties.\n",
        "\n",
        "- [`dc.molnet.load_pdbbind`](https://deepchem.readthedocs.io/en/latest/moleculenet.html#deepchem.molnet.load_pdbbind): V1\n",
        "\n",
        "\n",
        "## Microscopy Datasets\n",
        "\n",
        "These datasets contain microscopy image datasets, typically of cell lines. These datasets were not in the original MoleculeNet paper.\n",
        "\n",
        "- [`dc.molnet.load_bbbc001`](https://deepchem.readthedocs.io/en/latest/moleculenet.html#deepchem.molnet.load_bbbc001): V2\n",
        "- [`dc.molnet.load_bbbc002`](https://deepchem.readthedocs.io/en/latest/moleculenet.html#deepchem.molnet.load_bbbc002): V2\n",
        "- [`dc.molnet.load_cell_counting`](https://deepchem.readthedocs.io/en/latest/moleculenet.html#cell-counting-datasets): V2\n",
        "\n",
        "## Materials Properties Datasets\n",
        "\n",
        "These datasets compute properties of various materials.\n",
        "\n",
        "- [`dc.molnet.load_bandgap`](https://deepchem.readthedocs.io/en/latest/moleculenet.html#deepchem.molnet.load_bandgap): V2\n",
        "- [`dc.molnet.load_perovskite`](https://deepchem.readthedocs.io/en/latest/moleculenet.html#deepchem.molnet.load_perovskite): V2\n",
        "- [`dc.molnet.load_mp_formation_energy`](https://deepchem.readthedocs.io/en/latest/moleculenet.html#deepchem.molnet.load_mp_formation_energy): V2\n",
        "- [`dc.molnet.load_mp_metallicity`](https://deepchem.readthedocs.io/en/latest/moleculenet.html#deepchem.molnet.load_mp_metallicity): V2\n",
        "\n",
        "[1] Wu, Zhenqin, et al. \"MoleculeNet: a benchmark for molecular machine learning.\" Chemical science 9.2 (2018): 513-530.\n",
        "\n",
        "[3] Lopez, Steven A., et al. \"The Harvard organic photovoltaic dataset.\" Scientific data 3.1 (2016): 1-7.\n",
        "\n",
        "[4] Ramsundar, Bharath, et al. \"Is multitask deep learning practical for pharma?.\" Journal of chemical information and modeling 57.8 (2017): 2068-2076."
      ]
    },
    {
      "cell_type": "markdown",
      "metadata": {
        "id": "ENiU5k_OAkd8"
      },
      "source": [
        "# MoleculeNet Loaders Explained"
      ]
    },
    {
      "cell_type": "markdown",
      "metadata": {
        "id": "hG7UDC6_Akd8"
      },
      "source": [
        "- All MoleculeNet loader functions take the form `dc.molnet.load_X`. \n",
        " - return a tuple of arguments `(tasks, datasets, transformers)`. \n",
        "\n",
        "1. `tasks`: This is a list of task-names. Many datasets in MoleculeNet are \"multitask\". That is, a given datapoint has multiple labels associated with it. These correspond to different measurements or values associated with this datapoint.\n",
        "2. `datasets`: This field is a tuple of three `dc.data.Dataset` objects `(train, valid, test)`. \n",
        "3. `transformers`: This field is a list of `dc.trans.Transformer` objects which were applied to this dataset during processing."
      ]
    },
    {
      "cell_type": "code",
      "execution_count": 6,
      "metadata": {
        "id": "1RTSgo6-Akd8",
        "outputId": "fe709704-6827-4670-8517-adb9569e792e",
        "colab": {
          "base_uri": "https://localhost:8080/"
        }
      },
      "outputs": [
        {
          "output_type": "execute_result",
          "data": {
            "text/plain": [
              "['measured log solubility in mols per litre']"
            ]
          },
          "metadata": {},
          "execution_count": 6
        }
      ],
      "source": [
        "tasks"
      ]
    },
    {
      "cell_type": "code",
      "execution_count": 7,
      "metadata": {
        "id": "wuapou8IAkd9",
        "outputId": "ff5cc88a-929c-4a1b-8d5c-7b43e70005f4",
        "colab": {
          "base_uri": "https://localhost:8080/"
        }
      },
      "outputs": [
        {
          "output_type": "execute_result",
          "data": {
            "text/plain": [
              "(<DiskDataset X.shape: (902,), y.shape: (902, 1), w.shape: (902, 1), ids: ['Oc2cc(O)c1C(=O)CC(Oc1c2)c3ccc(O)c(O)c3' 'Clc1cccc(c1Cl)c2cccc(Cl)c2Cl'\n",
              "  'CCC1(CC)C(=O)NC(=O)N(C)C1=O ' ... 'Oc1ccc(Br)cc1'\n",
              "  'Oc1ccc(cc1)C2(OC(=O)c3ccccc23)c4ccc(O)cc4 '\n",
              "  'O=C1NC(=O)NC(=O)C1(C(C)C)CC=C(C)C'], task_names: ['measured log solubility in mols per litre']>,\n",
              " <DiskDataset X.shape: (113,), y.shape: (113, 1), w.shape: (113, 1), ids: ['Oc1c(Br)cc(C#N)cc1Br ' 'CCOP(=S)(CC)Oc1cc(Cl)c(Cl)cc1Cl'\n",
              "  'CC(C)CCC(C)(C)C' ... 'CCSCCSP(=S)(OC)OC'\n",
              "  'O=C1NC(=O)NC(=O)C1(C(C)CCC)CC=C' 'CCC1(C(=O)NCNC1=O)c2ccccc2'], task_names: ['measured log solubility in mols per litre']>,\n",
              " <DiskDataset X.shape: (113,), y.shape: (113, 1), w.shape: (113, 1), ids: ['CC=CC=O' 'C/C=C/C=O' 'CCCCC(CC)COC(=O)c1ccccc1C(=O)OCC(CC)CCCC' ...\n",
              "  'COC(=O)c1ccccc1' 'Clc1cccc(I)c1' 'c1c(Br)ccc2ccccc12 '], task_names: ['measured log solubility in mols per litre']>)"
            ]
          },
          "metadata": {},
          "execution_count": 7
        }
      ],
      "source": [
        "datasets"
      ]
    },
    {
      "cell_type": "markdown",
      "metadata": {
        "id": "hl4wyMYAAkd9"
      },
      "source": [
        "- Let's split them out."
      ]
    },
    {
      "cell_type": "code",
      "execution_count": 8,
      "metadata": {
        "id": "QKYuqVziAkd9"
      },
      "outputs": [],
      "source": [
        "train, valid, test = datasets"
      ]
    },
    {
      "cell_type": "code",
      "execution_count": 9,
      "metadata": {
        "id": "1huy8RJrAkd-",
        "outputId": "54169e7e-4222-4ca0-c32b-746a6445b869",
        "colab": {
          "base_uri": "https://localhost:8080/"
        }
      },
      "outputs": [
        {
          "output_type": "execute_result",
          "data": {
            "text/plain": [
              "<DiskDataset X.shape: (902,), y.shape: (902, 1), w.shape: (902, 1), ids: ['Oc2cc(O)c1C(=O)CC(Oc1c2)c3ccc(O)c(O)c3' 'Clc1cccc(c1Cl)c2cccc(Cl)c2Cl'\n",
              " 'CCC1(CC)C(=O)NC(=O)N(C)C1=O ' ... 'Oc1ccc(Br)cc1'\n",
              " 'Oc1ccc(cc1)C2(OC(=O)c3ccccc23)c4ccc(O)cc4 '\n",
              " 'O=C1NC(=O)NC(=O)C1(C(C)C)CC=C(C)C'], task_names: ['measured log solubility in mols per litre']>"
            ]
          },
          "metadata": {},
          "execution_count": 9
        }
      ],
      "source": [
        "train"
      ]
    },
    {
      "cell_type": "code",
      "execution_count": 10,
      "metadata": {
        "id": "yras1U0dAkd-",
        "outputId": "b64012de-927b-4b22-a2a5-6ee72c0ae29e",
        "colab": {
          "base_uri": "https://localhost:8080/"
        }
      },
      "outputs": [
        {
          "output_type": "execute_result",
          "data": {
            "text/plain": [
              "<DiskDataset X.shape: (113,), y.shape: (113, 1), w.shape: (113, 1), ids: ['Oc1c(Br)cc(C#N)cc1Br ' 'CCOP(=S)(CC)Oc1cc(Cl)c(Cl)cc1Cl'\n",
              " 'CC(C)CCC(C)(C)C' ... 'CCSCCSP(=S)(OC)OC'\n",
              " 'O=C1NC(=O)NC(=O)C1(C(C)CCC)CC=C' 'CCC1(C(=O)NCNC1=O)c2ccccc2'], task_names: ['measured log solubility in mols per litre']>"
            ]
          },
          "metadata": {},
          "execution_count": 10
        }
      ],
      "source": [
        "valid"
      ]
    },
    {
      "cell_type": "code",
      "execution_count": 11,
      "metadata": {
        "id": "v1ZWUYVKAkd-",
        "outputId": "3fd8b400-b21f-48a1-a070-c59b3529cc21",
        "colab": {
          "base_uri": "https://localhost:8080/"
        }
      },
      "outputs": [
        {
          "output_type": "execute_result",
          "data": {
            "text/plain": [
              "<DiskDataset X.shape: (113,), y.shape: (113, 1), w.shape: (113, 1), ids: ['CC=CC=O' 'C/C=C/C=O' 'CCCCC(CC)COC(=O)c1ccccc1C(=O)OCC(CC)CCCC' ...\n",
              " 'COC(=O)c1ccccc1' 'Clc1cccc(I)c1' 'c1c(Br)ccc2ccccc12 '], task_names: ['measured log solubility in mols per litre']>"
            ]
          },
          "metadata": {},
          "execution_count": 11
        }
      ],
      "source": [
        "test"
      ]
    },
    {
      "cell_type": "markdown",
      "metadata": {
        "id": "r5l5d0FNAkd-"
      },
      "source": [
        "Let's peek into one of the datapoints in the `train` dataset."
      ]
    },
    {
      "cell_type": "code",
      "execution_count": null,
      "metadata": {
        "id": "Yp9GNOeXAkd_",
        "outputId": "ca87d516-29a9-40ec-ac5a-49beaa34294c"
      },
      "outputs": [
        {
          "data": {
            "text/plain": [
              "<deepchem.feat.mol_graphs.ConvMol at 0x7fe1ef601438>"
            ]
          },
          "execution_count": 11,
          "metadata": {},
          "output_type": "execute_result"
        }
      ],
      "source": [
        "train.X[0]"
      ]
    },
    {
      "cell_type": "markdown",
      "metadata": {
        "id": "zCJ-Bp4nAkd_"
      },
      "source": [
        "Note that this is a `dc.feat.mol_graphs.ConvMol` object produced by `dc.feat.ConvMolFeaturizer`. We'll say more about how to control choice of featurization shortly. Finally let's take a look at the `transformers` field:"
      ]
    },
    {
      "cell_type": "code",
      "execution_count": null,
      "metadata": {
        "id": "b-N1fhdZAkd_",
        "outputId": "034dbac1-a9eb-4721-f58c-827b26ee01f1"
      },
      "outputs": [
        {
          "data": {
            "text/plain": [
              "[<deepchem.trans.transformers.NormalizationTransformer at 0x7fe2029bdfd0>]"
            ]
          },
          "execution_count": 12,
          "metadata": {},
          "output_type": "execute_result"
        }
      ],
      "source": [
        "transformers"
      ]
    },
    {
      "cell_type": "markdown",
      "metadata": {
        "id": "AYjt3hv_Akd_"
      },
      "source": [
        "So we see that one transformer was applied, the `dc.trans.NormalizationTransformer`.\n",
        "\n",
        "After reading through this description so far, you may be wondering what choices are made under the hood. As we've briefly mentioned previously, datasets can be processed with different choices of \"featurizers\". Can we control the choice of featurization here? In addition, how was the source dataset split into train/valid/test as three different datasets? \n",
        "\n",
        "You can use the 'featurizer' and 'splitter' keyword arguments and pass in different strings. Common possible choices for 'featurizer' are 'ECFP', 'GraphConv', 'Weave' and 'smiles2img' corresponding to the `dc.feat.CircularFingerprint`, `dc.feat.ConvMolFeaturizer`, `dc.feat.WeaveFeaturizer` and `dc.feat.SmilesToImage` featurizers. Common possible choices for 'splitter' are `None`, 'index', 'random', 'scaffold' and 'stratified' corresponding to no split, `dc.splits.IndexSplitter`, `dc.splits.RandomSplitter`, `dc.splits.SingletaskStratifiedSplitter`. We haven't talked much about splitters yet, but intuitively they're a way to partition a dataset based on different criteria. We'll say more in a future tutorial.\n",
        "\n",
        "Instead of a string, you also can pass in any `Featurizer` or `Splitter` object.  This is very useful when, for example, a Featurizer has constructor arguments you can use to customize its behavior."
      ]
    },
    {
      "cell_type": "code",
      "execution_count": null,
      "metadata": {
        "id": "6nJ-MxduAkd_"
      },
      "outputs": [],
      "source": [
        "tasks, datasets, transformers = dc.molnet.load_delaney(featurizer=\"ECFP\", splitter=\"scaffold\")"
      ]
    },
    {
      "cell_type": "code",
      "execution_count": null,
      "metadata": {
        "id": "BdS9eNXHAkd_"
      },
      "outputs": [],
      "source": [
        "(train, valid, test) = datasets"
      ]
    },
    {
      "cell_type": "code",
      "execution_count": null,
      "metadata": {
        "id": "ykTlY_7VAkeA",
        "outputId": "38ade655-67a7-4ffc-8bbb-863b68ef97fb"
      },
      "outputs": [
        {
          "data": {
            "text/plain": [
              "<DiskDataset X.shape: (902, 1024), y.shape: (902, 1), w.shape: (902, 1), ids: ['CC(C)=CCCC(C)=CC(=O)' 'CCCC=C' 'CCCCCCCCCCCCCC' ...\n",
              " 'Nc2cccc3nc1ccccc1cc23 ' 'C1CCCCCC1' 'OC1CCCCCC1'], task_names: ['measured log solubility in mols per litre']>"
            ]
          },
          "execution_count": 15,
          "metadata": {},
          "output_type": "execute_result"
        }
      ],
      "source": [
        "train"
      ]
    },
    {
      "cell_type": "code",
      "execution_count": null,
      "metadata": {
        "id": "UhEc8exfAkeA",
        "outputId": "f9996f37-7237-41a1-dfa1-5cf78bc95fc1"
      },
      "outputs": [
        {
          "data": {
            "text/plain": [
              "array([0., 0., 0., ..., 0., 0., 0.])"
            ]
          },
          "execution_count": 16,
          "metadata": {},
          "output_type": "execute_result"
        }
      ],
      "source": [
        "train.X[0]"
      ]
    },
    {
      "cell_type": "markdown",
      "metadata": {
        "id": "UTseZdqOAkeA"
      },
      "source": [
        "Note that unlike the earlier invocation we have numpy arrays produced by `dc.feat.CircularFingerprint` instead of `ConvMol` objects produced by `dc.feat.ConvMolFeaturizer`.\n",
        "\n",
        "Give it a try for yourself. Try invoking MoleculeNet to load some other datasets and experiment with dfiferent featurizer/split options and see what happens!"
      ]
    },
    {
      "cell_type": "markdown",
      "metadata": {
        "id": "wNu0aspZAkeA"
      },
      "source": [
        "# Congratulations! Time to join the Community!\n",
        "\n",
        "Congratulations on completing this tutorial notebook! If you enjoyed working through the tutorial, and want to continue working with DeepChem, we encourage you to finish the rest of the tutorials in this series. You can also help the DeepChem community in the following ways:\n",
        "\n",
        "## Star DeepChem on [GitHub](https://github.com/deepchem/deepchem)\n",
        "This helps build awareness of the DeepChem project and the tools for open source drug discovery that we're trying to build.\n",
        "\n",
        "## Join the DeepChem Gitter\n",
        "The DeepChem [Gitter](https://gitter.im/deepchem/Lobby) hosts a number of scientists, developers, and enthusiasts interested in deep learning for the life sciences. Join the conversation!"
      ]
    }
  ],
  "metadata": {
    "kernelspec": {
      "display_name": "Python 3",
      "language": "python",
      "name": "python3"
    },
    "language_info": {
      "codemirror_mode": {
        "name": "ipython",
        "version": 3
      },
      "file_extension": ".py",
      "mimetype": "text/x-python",
      "name": "python",
      "nbconvert_exporter": "python",
      "pygments_lexer": "ipython3",
      "version": "3.7.6"
    },
    "colab": {
      "name": "c_81_DC_3_MoleculeNet.ipynb",
      "provenance": [],
      "collapsed_sections": []
    },
    "accelerator": "GPU",
    "gpuClass": "standard"
  },
  "nbformat": 4,
  "nbformat_minor": 0
}
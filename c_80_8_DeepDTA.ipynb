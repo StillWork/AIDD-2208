{
  "cells": [
    {
      "cell_type": "markdown",
      "id": "64c93fb6",
      "metadata": {
        "id": "64c93fb6"
      },
      "source": [
        "# Drug-Target Interaction Prediction using DeepDTA\n",
        "\n",
        "| [Open In Colab](https://colab.research.google.com/github/pykale/pykale/blob/main/examples/bindingdb_deepdta/tutorial.ipynb) (click `Runtime` → `Run all (Ctrl+F9)` |\n",
        "\n",
        "구글 코랩 사용 시[Google Colab](https://colab.research.google.com), GPU를 사용해야 빠르게 동작시킬 수 있으니 상단의 메뉴바에서 `런타임` → `런타임 유형 변경` → `하드웨어 가속기: GPU` 로 꼭 변경할 것"
      ]
    },
    {
      "cell_type": "markdown",
      "id": "13a7ce60",
      "metadata": {
        "id": "13a7ce60"
      },
      "source": [
        "## 개요\n",
        "약물-표적 상호작용 예측은 약물 발견 분야에서 중요한 연구 분야이다. 주어진 화합물과 단백질 표적 사이의 결합 친화도를 예측하는 것을 말한다. 이 예에서 우리는 측정된 결합 친화도의 웹 액세스 가능 공개 데이터 세트인 BindingDB의 기준선으로 표준 DeepDTA 모델을 훈련힌다.\n",
        "\n",
        "### DeepDTA\n",
        "[DeepDTA](https://academic.oup.com/bioinformatics/article/34/17/i821/5093245) 는 합성곱 신경망(CNN)을 사용하여 단백질 시퀀스 및 복합 1D 표현을 모델링한다.\n",
        "\n",
        "DeepDTA의 전체 아키텍처는 다음과 같습니다.\n",
        "\n",
        "![DeepDTA](https://github.com/pykale/pykale/blob/main/examples/bindingdb_deepdta/figures/deepdta.png?raw=1)\n",
        "\n",
        "### 데이터셋\n",
        "서로 다른 Affinity 측정 지표로 구분되는 BindingDB에서 **3개의 데이터 세트**를 가져온다. (**Kd, IC50 및 Ki**).\n",
        "\n",
        "이는 [Therapeutics Data Commons](https://tdcommons.ai/)(TDC)에서 가져왔으며, 이는 다양한 치료 영역에 걸쳐 퍼져 있는 기계 학습 작업이 모아져있는 사이트다. 데이터 통계는 다음과 같다.\n",
        "\n",
        "|  Metrics   | Drugs | Targets | Pairs |\n",
        "|  :----:  | :----:  |   :----:  | :----:  |\n",
        "| Kd  | 10,655 | 1,413 | 52,284 |\n",
        "| IC50  | 549,205 | 5,078 | 991,486 |\n",
        "| Ki | 174,662 | 3,070 | 375,032 |\n",
        "\n",
        "이 그림은 각각 메트릭 값(x축)이 로그 공간으로 변환된 3개의 데이터 세트에 대한 결합 친화도 분포다.\n",
        "![Binding affinity distribution](https://github.com/pykale/pykale/blob/main/examples/bindingdb_deepdta/figures/bindingdb.jpg?raw=1)\n",
        "이 노트북에서는 **Kd** 데이터셋을 사용한다.\n",
        "\n",
        "## 설치\n",
        "\n",
        "노트북 실행 환경을 설정하고 PyKale을 포함한 필수 모듈을 가져오려면 처음 몇 개의 코드 블록이 필요하다.\n",
        "\n",
        "이렇게 하면 노트북이 Google Colab에서 실행 중인지 확인하고 필수 패키지를 설치한다."
      ]
    },
    {
      "cell_type": "code",
      "execution_count": null,
      "id": "d2c44298",
      "metadata": {
        "id": "d2c44298",
        "outputId": "7891f58c-1214-456e-bb84-fcfa7c019ead",
        "colab": {
          "base_uri": "https://localhost:8080/"
        }
      },
      "outputs": [
        {
          "output_type": "stream",
          "name": "stdout",
          "text": [
            "Running on CoLab\n",
            "Found existing installation: imgaug 0.2.9\n",
            "Uninstalling imgaug-0.2.9:\n",
            "  Successfully uninstalled imgaug-0.2.9\n",
            "Found existing installation: albumentations 0.1.12\n",
            "Uninstalling albumentations-0.1.12:\n",
            "  Successfully uninstalled albumentations-0.1.12\n",
            "Collecting git+https://github.com/aleju/imgaug.git\n",
            "  Cloning https://github.com/aleju/imgaug.git to /tmp/pip-req-build-ear8bl6h\n",
            "  Running command git clone -q https://github.com/aleju/imgaug.git /tmp/pip-req-build-ear8bl6h\n",
            "Requirement already satisfied: six in /usr/local/lib/python3.7/dist-packages (from imgaug==0.4.0) (1.15.0)\n",
            "Requirement already satisfied: numpy>=1.15 in /usr/local/lib/python3.7/dist-packages (from imgaug==0.4.0) (1.21.6)\n",
            "Requirement already satisfied: scipy in /usr/local/lib/python3.7/dist-packages (from imgaug==0.4.0) (1.4.1)\n",
            "Requirement already satisfied: Pillow in /usr/local/lib/python3.7/dist-packages (from imgaug==0.4.0) (7.1.2)\n",
            "Requirement already satisfied: matplotlib in /usr/local/lib/python3.7/dist-packages (from imgaug==0.4.0) (3.2.2)\n",
            "Requirement already satisfied: scikit-image>=0.14.2 in /usr/local/lib/python3.7/dist-packages (from imgaug==0.4.0) (0.18.3)\n",
            "Requirement already satisfied: opencv-python in /usr/local/lib/python3.7/dist-packages (from imgaug==0.4.0) (4.1.2.30)\n",
            "Requirement already satisfied: Shapely in /usr/local/lib/python3.7/dist-packages (from imgaug==0.4.0) (1.8.1.post1)\n",
            "Requirement already satisfied: imageio in /usr/local/lib/python3.7/dist-packages (from imgaug==0.4.0) (2.4.1)\n",
            "Requirement already satisfied: tifffile>=2019.7.26 in /usr/local/lib/python3.7/dist-packages (from scikit-image>=0.14.2->imgaug==0.4.0) (2021.11.2)\n",
            "Requirement already satisfied: PyWavelets>=1.1.1 in /usr/local/lib/python3.7/dist-packages (from scikit-image>=0.14.2->imgaug==0.4.0) (1.3.0)\n",
            "Requirement already satisfied: networkx>=2.0 in /usr/local/lib/python3.7/dist-packages (from scikit-image>=0.14.2->imgaug==0.4.0) (2.6.3)\n",
            "Requirement already satisfied: pyparsing!=2.0.4,!=2.1.2,!=2.1.6,>=2.0.1 in /usr/local/lib/python3.7/dist-packages (from matplotlib->imgaug==0.4.0) (3.0.8)\n",
            "Requirement already satisfied: cycler>=0.10 in /usr/local/lib/python3.7/dist-packages (from matplotlib->imgaug==0.4.0) (0.11.0)\n",
            "Requirement already satisfied: kiwisolver>=1.0.1 in /usr/local/lib/python3.7/dist-packages (from matplotlib->imgaug==0.4.0) (1.4.2)\n",
            "Requirement already satisfied: python-dateutil>=2.1 in /usr/local/lib/python3.7/dist-packages (from matplotlib->imgaug==0.4.0) (2.8.2)\n",
            "Requirement already satisfied: typing-extensions in /usr/local/lib/python3.7/dist-packages (from kiwisolver>=1.0.1->matplotlib->imgaug==0.4.0) (4.2.0)\n",
            "Building wheels for collected packages: imgaug\n",
            "  Building wheel for imgaug (setup.py) ... \u001b[?25l\u001b[?25hdone\n",
            "  Created wheel for imgaug: filename=imgaug-0.4.0-py3-none-any.whl size=971122 sha256=9bac0d3e9aeae72f97c8712f5bdd0af11c0015d4e0f99f7dd3be3866ed718216\n",
            "  Stored in directory: /tmp/pip-ephem-wheel-cache-cjsc6eya/wheels/0c/78/b5/9303fae9d5e03df1f319adfe4e6534180b5c3232de11bc9a2f\n",
            "Successfully built imgaug\n",
            "Installing collected packages: imgaug\n",
            "Successfully installed imgaug-0.4.0\n",
            "Collecting git+https://github.com/pykale/pykale.git\n",
            "  Cloning https://github.com/pykale/pykale.git to /tmp/pip-req-build-q12ukom2\n",
            "  Running command git clone -q https://github.com/pykale/pykale.git /tmp/pip-req-build-q12ukom2\n",
            "  Installing build dependencies ... \u001b[?25l\u001b[?25hdone\n",
            "  Getting requirements to build wheel ... \u001b[?25l\u001b[?25hdone\n",
            "    Preparing wheel metadata ... \u001b[?25l\u001b[?25hdone\n",
            "Requirement already satisfied: scikit-image>=0.16.2 in /usr/local/lib/python3.7/dist-packages (from pykale==0.1.0rc5) (0.18.3)\n",
            "Requirement already satisfied: Pillow in /usr/local/lib/python3.7/dist-packages (from pykale==0.1.0rc5) (7.1.2)\n",
            "Collecting tensorly>=0.5.1\n",
            "  Downloading tensorly-0.7.0-py3-none-any.whl (198 kB)\n",
            "\u001b[K     |████████████████████████████████| 198 kB 5.1 MB/s \n",
            "\u001b[?25hCollecting pylibjpeg\n",
            "  Downloading pylibjpeg-1.4.0-py3-none-any.whl (28 kB)\n",
            "Requirement already satisfied: scikit-learn>=0.23.2 in /usr/local/lib/python3.7/dist-packages (from pykale==0.1.0rc5) (1.0.2)\n",
            "Collecting yacs>=0.1.7\n",
            "  Downloading yacs-0.1.8-py3-none-any.whl (14 kB)\n",
            "Requirement already satisfied: torch>=1.7.0 in /usr/local/lib/python3.7/dist-packages (from pykale==0.1.0rc5) (1.11.0+cu113)\n",
            "Collecting pydicom\n",
            "  Downloading pydicom-2.3.0-py3-none-any.whl (2.0 MB)\n",
            "\u001b[K     |████████████████████████████████| 2.0 MB 59.7 MB/s \n",
            "\u001b[?25hCollecting pytorch-lightning>=1.3.0\n",
            "  Downloading pytorch_lightning-1.6.3-py3-none-any.whl (584 kB)\n",
            "\u001b[K     |████████████████████████████████| 584 kB 35.8 MB/s \n",
            "\u001b[?25hCollecting scipy>=1.5.4\n",
            "  Downloading scipy-1.7.3-cp37-cp37m-manylinux_2_12_x86_64.manylinux2010_x86_64.whl (38.1 MB)\n",
            "\u001b[K     |████████████████████████████████| 38.1 MB 1.2 MB/s \n",
            "\u001b[?25hRequirement already satisfied: ipython in /usr/local/lib/python3.7/dist-packages (from pykale==0.1.0rc5) (5.5.0)\n",
            "Collecting python-gdcm\n",
            "  Downloading python_gdcm-3.0.12-cp37-cp37m-manylinux_2_17_x86_64.manylinux2014_x86_64.whl (12.6 MB)\n",
            "\u001b[K     |████████████████████████████████| 12.6 MB 40.7 MB/s \n",
            "\u001b[?25hRequirement already satisfied: torchsummary>=1.5.0 in /usr/local/lib/python3.7/dist-packages (from pykale==0.1.0rc5) (1.5.1)\n",
            "Requirement already satisfied: numpy>=1.18.0 in /usr/local/lib/python3.7/dist-packages (from pykale==0.1.0rc5) (1.21.6)\n",
            "Requirement already satisfied: torchvision in /usr/local/lib/python3.7/dist-packages (from pykale==0.1.0rc5) (0.12.0+cu113)\n",
            "Requirement already satisfied: ipykernel in /usr/local/lib/python3.7/dist-packages (from pykale==0.1.0rc5) (4.10.1)\n",
            "Requirement already satisfied: glob2 in /usr/local/lib/python3.7/dist-packages (from pykale==0.1.0rc5) (0.7)\n",
            "Collecting PyTDC\n",
            "  Downloading PyTDC-0.3.6.tar.gz (88 kB)\n",
            "\u001b[K     |████████████████████████████████| 88 kB 8.1 MB/s \n",
            "\u001b[?25hRequirement already satisfied: pandas in /usr/local/lib/python3.7/dist-packages (from pykale==0.1.0rc5) (1.3.5)\n",
            "Collecting pytorch-memlab\n",
            "  Downloading pytorch_memlab-0.2.4.tar.gz (93 kB)\n",
            "\u001b[K     |████████████████████████████████| 93 kB 1.6 MB/s \n",
            "\u001b[?25hRequirement already satisfied: matplotlib in /usr/local/lib/python3.7/dist-packages (from pykale==0.1.0rc5) (3.2.2)\n",
            "Collecting pyDeprecate<0.4.0,>=0.3.1\n",
            "  Downloading pyDeprecate-0.3.2-py3-none-any.whl (10 kB)\n",
            "Requirement already satisfied: packaging>=17.0 in /usr/local/lib/python3.7/dist-packages (from pytorch-lightning>=1.3.0->pykale==0.1.0rc5) (21.3)\n",
            "Requirement already satisfied: tqdm>=4.57.0 in /usr/local/lib/python3.7/dist-packages (from pytorch-lightning>=1.3.0->pykale==0.1.0rc5) (4.64.0)\n",
            "Collecting torchmetrics>=0.4.1\n",
            "  Downloading torchmetrics-0.8.2-py3-none-any.whl (409 kB)\n",
            "\u001b[K     |████████████████████████████████| 409 kB 43.9 MB/s \n",
            "\u001b[?25hCollecting PyYAML>=5.4\n",
            "  Downloading PyYAML-6.0-cp37-cp37m-manylinux_2_5_x86_64.manylinux1_x86_64.manylinux_2_12_x86_64.manylinux2010_x86_64.whl (596 kB)\n",
            "\u001b[K     |████████████████████████████████| 596 kB 51.2 MB/s \n",
            "\u001b[?25hRequirement already satisfied: typing-extensions>=4.0.0 in /usr/local/lib/python3.7/dist-packages (from pytorch-lightning>=1.3.0->pykale==0.1.0rc5) (4.2.0)\n",
            "Collecting fsspec[http]!=2021.06.0,>=2021.05.0\n",
            "  Downloading fsspec-2022.3.0-py3-none-any.whl (136 kB)\n",
            "\u001b[K     |████████████████████████████████| 136 kB 68.2 MB/s \n",
            "\u001b[?25hRequirement already satisfied: tensorboard>=2.2.0 in /usr/local/lib/python3.7/dist-packages (from pytorch-lightning>=1.3.0->pykale==0.1.0rc5) (2.8.0)\n",
            "Collecting aiohttp\n",
            "  Downloading aiohttp-3.8.1-cp37-cp37m-manylinux_2_5_x86_64.manylinux1_x86_64.manylinux_2_12_x86_64.manylinux2010_x86_64.whl (1.1 MB)\n",
            "\u001b[K     |████████████████████████████████| 1.1 MB 45.5 MB/s \n",
            "\u001b[?25hRequirement already satisfied: requests in /usr/local/lib/python3.7/dist-packages (from fsspec[http]!=2021.06.0,>=2021.05.0->pytorch-lightning>=1.3.0->pykale==0.1.0rc5) (2.23.0)\n",
            "Requirement already satisfied: pyparsing!=3.0.5,>=2.0.2 in /usr/local/lib/python3.7/dist-packages (from packaging>=17.0->pytorch-lightning>=1.3.0->pykale==0.1.0rc5) (3.0.8)\n",
            "Requirement already satisfied: tifffile>=2019.7.26 in /usr/local/lib/python3.7/dist-packages (from scikit-image>=0.16.2->pykale==0.1.0rc5) (2021.11.2)\n",
            "Requirement already satisfied: PyWavelets>=1.1.1 in /usr/local/lib/python3.7/dist-packages (from scikit-image>=0.16.2->pykale==0.1.0rc5) (1.3.0)\n",
            "Requirement already satisfied: imageio>=2.3.0 in /usr/local/lib/python3.7/dist-packages (from scikit-image>=0.16.2->pykale==0.1.0rc5) (2.4.1)\n",
            "Requirement already satisfied: networkx>=2.0 in /usr/local/lib/python3.7/dist-packages (from scikit-image>=0.16.2->pykale==0.1.0rc5) (2.6.3)\n",
            "Requirement already satisfied: python-dateutil>=2.1 in /usr/local/lib/python3.7/dist-packages (from matplotlib->pykale==0.1.0rc5) (2.8.2)\n",
            "Requirement already satisfied: cycler>=0.10 in /usr/local/lib/python3.7/dist-packages (from matplotlib->pykale==0.1.0rc5) (0.11.0)\n",
            "Requirement already satisfied: kiwisolver>=1.0.1 in /usr/local/lib/python3.7/dist-packages (from matplotlib->pykale==0.1.0rc5) (1.4.2)\n",
            "Requirement already satisfied: six>=1.5 in /usr/local/lib/python3.7/dist-packages (from python-dateutil>=2.1->matplotlib->pykale==0.1.0rc5) (1.15.0)\n",
            "Requirement already satisfied: joblib>=0.11 in /usr/local/lib/python3.7/dist-packages (from scikit-learn>=0.23.2->pykale==0.1.0rc5) (1.1.0)\n",
            "Requirement already satisfied: threadpoolctl>=2.0.0 in /usr/local/lib/python3.7/dist-packages (from scikit-learn>=0.23.2->pykale==0.1.0rc5) (3.1.0)\n",
            "Requirement already satisfied: google-auth-oauthlib<0.5,>=0.4.1 in /usr/local/lib/python3.7/dist-packages (from tensorboard>=2.2.0->pytorch-lightning>=1.3.0->pykale==0.1.0rc5) (0.4.6)\n",
            "Requirement already satisfied: grpcio>=1.24.3 in /usr/local/lib/python3.7/dist-packages (from tensorboard>=2.2.0->pytorch-lightning>=1.3.0->pykale==0.1.0rc5) (1.44.0)\n",
            "Requirement already satisfied: setuptools>=41.0.0 in /usr/local/lib/python3.7/dist-packages (from tensorboard>=2.2.0->pytorch-lightning>=1.3.0->pykale==0.1.0rc5) (57.4.0)\n",
            "Requirement already satisfied: tensorboard-data-server<0.7.0,>=0.6.0 in /usr/local/lib/python3.7/dist-packages (from tensorboard>=2.2.0->pytorch-lightning>=1.3.0->pykale==0.1.0rc5) (0.6.1)\n",
            "Requirement already satisfied: google-auth<3,>=1.6.3 in /usr/local/lib/python3.7/dist-packages (from tensorboard>=2.2.0->pytorch-lightning>=1.3.0->pykale==0.1.0rc5) (1.35.0)\n",
            "Requirement already satisfied: markdown>=2.6.8 in /usr/local/lib/python3.7/dist-packages (from tensorboard>=2.2.0->pytorch-lightning>=1.3.0->pykale==0.1.0rc5) (3.3.6)\n",
            "Requirement already satisfied: protobuf>=3.6.0 in /usr/local/lib/python3.7/dist-packages (from tensorboard>=2.2.0->pytorch-lightning>=1.3.0->pykale==0.1.0rc5) (3.17.3)\n",
            "Requirement already satisfied: absl-py>=0.4 in /usr/local/lib/python3.7/dist-packages (from tensorboard>=2.2.0->pytorch-lightning>=1.3.0->pykale==0.1.0rc5) (1.0.0)\n",
            "Requirement already satisfied: wheel>=0.26 in /usr/local/lib/python3.7/dist-packages (from tensorboard>=2.2.0->pytorch-lightning>=1.3.0->pykale==0.1.0rc5) (0.37.1)\n",
            "Requirement already satisfied: tensorboard-plugin-wit>=1.6.0 in /usr/local/lib/python3.7/dist-packages (from tensorboard>=2.2.0->pytorch-lightning>=1.3.0->pykale==0.1.0rc5) (1.8.1)\n",
            "Requirement already satisfied: werkzeug>=0.11.15 in /usr/local/lib/python3.7/dist-packages (from tensorboard>=2.2.0->pytorch-lightning>=1.3.0->pykale==0.1.0rc5) (1.0.1)\n",
            "Requirement already satisfied: cachetools<5.0,>=2.0.0 in /usr/local/lib/python3.7/dist-packages (from google-auth<3,>=1.6.3->tensorboard>=2.2.0->pytorch-lightning>=1.3.0->pykale==0.1.0rc5) (4.2.4)\n",
            "Requirement already satisfied: rsa<5,>=3.1.4 in /usr/local/lib/python3.7/dist-packages (from google-auth<3,>=1.6.3->tensorboard>=2.2.0->pytorch-lightning>=1.3.0->pykale==0.1.0rc5) (4.8)\n",
            "Requirement already satisfied: pyasn1-modules>=0.2.1 in /usr/local/lib/python3.7/dist-packages (from google-auth<3,>=1.6.3->tensorboard>=2.2.0->pytorch-lightning>=1.3.0->pykale==0.1.0rc5) (0.2.8)\n",
            "Requirement already satisfied: requests-oauthlib>=0.7.0 in /usr/local/lib/python3.7/dist-packages (from google-auth-oauthlib<0.5,>=0.4.1->tensorboard>=2.2.0->pytorch-lightning>=1.3.0->pykale==0.1.0rc5) (1.3.1)\n",
            "Requirement already satisfied: importlib-metadata>=4.4 in /usr/local/lib/python3.7/dist-packages (from markdown>=2.6.8->tensorboard>=2.2.0->pytorch-lightning>=1.3.0->pykale==0.1.0rc5) (4.11.3)\n",
            "Requirement already satisfied: zipp>=0.5 in /usr/local/lib/python3.7/dist-packages (from importlib-metadata>=4.4->markdown>=2.6.8->tensorboard>=2.2.0->pytorch-lightning>=1.3.0->pykale==0.1.0rc5) (3.8.0)\n",
            "Requirement already satisfied: pyasn1<0.5.0,>=0.4.6 in /usr/local/lib/python3.7/dist-packages (from pyasn1-modules>=0.2.1->google-auth<3,>=1.6.3->tensorboard>=2.2.0->pytorch-lightning>=1.3.0->pykale==0.1.0rc5) (0.4.8)\n",
            "Requirement already satisfied: chardet<4,>=3.0.2 in /usr/local/lib/python3.7/dist-packages (from requests->fsspec[http]!=2021.06.0,>=2021.05.0->pytorch-lightning>=1.3.0->pykale==0.1.0rc5) (3.0.4)\n",
            "Requirement already satisfied: idna<3,>=2.5 in /usr/local/lib/python3.7/dist-packages (from requests->fsspec[http]!=2021.06.0,>=2021.05.0->pytorch-lightning>=1.3.0->pykale==0.1.0rc5) (2.10)\n",
            "Requirement already satisfied: certifi>=2017.4.17 in /usr/local/lib/python3.7/dist-packages (from requests->fsspec[http]!=2021.06.0,>=2021.05.0->pytorch-lightning>=1.3.0->pykale==0.1.0rc5) (2021.10.8)\n",
            "Requirement already satisfied: urllib3!=1.25.0,!=1.25.1,<1.26,>=1.21.1 in /usr/local/lib/python3.7/dist-packages (from requests->fsspec[http]!=2021.06.0,>=2021.05.0->pytorch-lightning>=1.3.0->pykale==0.1.0rc5) (1.24.3)\n",
            "Requirement already satisfied: oauthlib>=3.0.0 in /usr/local/lib/python3.7/dist-packages (from requests-oauthlib>=0.7.0->google-auth-oauthlib<0.5,>=0.4.1->tensorboard>=2.2.0->pytorch-lightning>=1.3.0->pykale==0.1.0rc5) (3.2.0)\n",
            "Collecting nose\n",
            "  Downloading nose-1.3.7-py3-none-any.whl (154 kB)\n",
            "\u001b[K     |████████████████████████████████| 154 kB 54.7 MB/s \n",
            "\u001b[?25hCollecting aiosignal>=1.1.2\n",
            "  Downloading aiosignal-1.2.0-py3-none-any.whl (8.2 kB)\n",
            "Collecting yarl<2.0,>=1.0\n",
            "  Downloading yarl-1.7.2-cp37-cp37m-manylinux_2_5_x86_64.manylinux1_x86_64.manylinux_2_12_x86_64.manylinux2010_x86_64.whl (271 kB)\n",
            "\u001b[K     |████████████████████████████████| 271 kB 69.7 MB/s \n",
            "\u001b[?25hCollecting multidict<7.0,>=4.5\n",
            "  Downloading multidict-6.0.2-cp37-cp37m-manylinux_2_17_x86_64.manylinux2014_x86_64.whl (94 kB)\n",
            "\u001b[K     |████████████████████████████████| 94 kB 1.9 MB/s \n",
            "\u001b[?25hRequirement already satisfied: attrs>=17.3.0 in /usr/local/lib/python3.7/dist-packages (from aiohttp->fsspec[http]!=2021.06.0,>=2021.05.0->pytorch-lightning>=1.3.0->pykale==0.1.0rc5) (21.4.0)\n",
            "Collecting asynctest==0.13.0\n",
            "  Downloading asynctest-0.13.0-py3-none-any.whl (26 kB)\n",
            "Collecting async-timeout<5.0,>=4.0.0a3\n",
            "  Downloading async_timeout-4.0.2-py3-none-any.whl (5.8 kB)\n",
            "Requirement already satisfied: charset-normalizer<3.0,>=2.0 in /usr/local/lib/python3.7/dist-packages (from aiohttp->fsspec[http]!=2021.06.0,>=2021.05.0->pytorch-lightning>=1.3.0->pykale==0.1.0rc5) (2.0.12)\n",
            "Collecting frozenlist>=1.1.1\n",
            "  Downloading frozenlist-1.3.0-cp37-cp37m-manylinux_2_5_x86_64.manylinux1_x86_64.manylinux_2_17_x86_64.manylinux2014_x86_64.whl (144 kB)\n",
            "\u001b[K     |████████████████████████████████| 144 kB 65.9 MB/s \n",
            "\u001b[?25hRequirement already satisfied: tornado>=4.0 in /usr/local/lib/python3.7/dist-packages (from ipykernel->pykale==0.1.0rc5) (5.1.1)\n",
            "Requirement already satisfied: traitlets>=4.1.0 in /usr/local/lib/python3.7/dist-packages (from ipykernel->pykale==0.1.0rc5) (5.1.1)\n",
            "Requirement already satisfied: jupyter-client in /usr/local/lib/python3.7/dist-packages (from ipykernel->pykale==0.1.0rc5) (5.3.5)\n",
            "Requirement already satisfied: pygments in /usr/local/lib/python3.7/dist-packages (from ipython->pykale==0.1.0rc5) (2.6.1)\n",
            "Requirement already satisfied: decorator in /usr/local/lib/python3.7/dist-packages (from ipython->pykale==0.1.0rc5) (4.4.2)\n",
            "Requirement already satisfied: simplegeneric>0.8 in /usr/local/lib/python3.7/dist-packages (from ipython->pykale==0.1.0rc5) (0.8.1)\n",
            "Requirement already satisfied: pexpect in /usr/local/lib/python3.7/dist-packages (from ipython->pykale==0.1.0rc5) (4.8.0)\n",
            "Requirement already satisfied: prompt-toolkit<2.0.0,>=1.0.4 in /usr/local/lib/python3.7/dist-packages (from ipython->pykale==0.1.0rc5) (1.0.18)\n",
            "Requirement already satisfied: pickleshare in /usr/local/lib/python3.7/dist-packages (from ipython->pykale==0.1.0rc5) (0.7.5)\n",
            "Requirement already satisfied: wcwidth in /usr/local/lib/python3.7/dist-packages (from prompt-toolkit<2.0.0,>=1.0.4->ipython->pykale==0.1.0rc5) (0.2.5)\n",
            "Requirement already satisfied: pyzmq>=13 in /usr/local/lib/python3.7/dist-packages (from jupyter-client->ipykernel->pykale==0.1.0rc5) (22.3.0)\n",
            "Requirement already satisfied: jupyter-core>=4.6.0 in /usr/local/lib/python3.7/dist-packages (from jupyter-client->ipykernel->pykale==0.1.0rc5) (4.10.0)\n",
            "Requirement already satisfied: pytz>=2017.3 in /usr/local/lib/python3.7/dist-packages (from pandas->pykale==0.1.0rc5) (2022.1)\n",
            "Requirement already satisfied: ptyprocess>=0.5 in /usr/local/lib/python3.7/dist-packages (from pexpect->ipython->pykale==0.1.0rc5) (0.7.0)\n",
            "Collecting fuzzywuzzy\n",
            "  Downloading fuzzywuzzy-0.18.0-py2.py3-none-any.whl (18 kB)\n",
            "Requirement already satisfied: seaborn in /usr/local/lib/python3.7/dist-packages (from PyTDC->pykale==0.1.0rc5) (0.11.2)\n",
            "Collecting calmsize\n",
            "  Downloading calmsize-0.1.3.tar.gz (3.7 kB)\n",
            "Building wheels for collected packages: pykale, PyTDC, pytorch-memlab, calmsize\n",
            "  Building wheel for pykale (PEP 517) ... \u001b[?25l\u001b[?25hdone\n",
            "  Created wheel for pykale: filename=pykale-0.1.0rc5-py2.py3-none-any.whl size=147485 sha256=b1c7ce0d8247e5617b6f8177c6eae82117e0c432f7d06b480c4fe38b52ea9cb5\n",
            "  Stored in directory: /tmp/pip-ephem-wheel-cache-79tefh1e/wheels/c1/55/38/ee279131d91650716ebcd64b3b7c9c3dd2a09359176663fabf\n",
            "  Building wheel for PyTDC (setup.py) ... \u001b[?25l\u001b[?25hdone\n",
            "  Created wheel for PyTDC: filename=PyTDC-0.3.6-py3-none-any.whl size=120882 sha256=126810bf61999ab853ef6779886eddffed9ae7ec3aa5dcf499b37e079f0c02e3\n",
            "  Stored in directory: /root/.cache/pip/wheels/c3/54/29/38349b4cf57cda21a1493f61721a6d72b232061f7665102d47\n",
            "  Building wheel for pytorch-memlab (setup.py) ... \u001b[?25l\u001b[?25hdone\n",
            "  Created wheel for pytorch-memlab: filename=pytorch_memlab-0.2.4-py3-none-any.whl size=22855 sha256=9af5d2e9bcbeba0bbef5cbea00b87307af88bb4dac75ec4448b3e942977a6833\n",
            "  Stored in directory: /root/.cache/pip/wheels/bb/c4/8e/64b321e10754783fb334f883d21b651860ee0737ffdbf688c7\n",
            "  Building wheel for calmsize (setup.py) ... \u001b[?25l\u001b[?25hdone\n",
            "  Created wheel for calmsize: filename=calmsize-0.1.3-py3-none-any.whl size=2887 sha256=b4f4ba870a1e7e8fece885aa84ba6b80e9331892219ad5db8a08a47cc753c288\n",
            "  Stored in directory: /root/.cache/pip/wheels/a3/92/5f/c4c4e3fa257084aecbdc44c0fe60bdef0cb870603f3642dd96\n",
            "Successfully built pykale PyTDC pytorch-memlab calmsize\n",
            "Installing collected packages: multidict, frozenlist, yarl, asynctest, async-timeout, aiosignal, scipy, pyDeprecate, fsspec, aiohttp, torchmetrics, PyYAML, nose, fuzzywuzzy, calmsize, yacs, tensorly, pytorch-memlab, pytorch-lightning, python-gdcm, PyTDC, pylibjpeg, pydicom, pykale\n",
            "  Attempting uninstall: scipy\n",
            "    Found existing installation: scipy 1.4.1\n",
            "    Uninstalling scipy-1.4.1:\n",
            "      Successfully uninstalled scipy-1.4.1\n",
            "  Attempting uninstall: PyYAML\n",
            "    Found existing installation: PyYAML 3.13\n",
            "    Uninstalling PyYAML-3.13:\n",
            "      Successfully uninstalled PyYAML-3.13\n",
            "Successfully installed PyTDC-0.3.6 PyYAML-6.0 aiohttp-3.8.1 aiosignal-1.2.0 async-timeout-4.0.2 asynctest-0.13.0 calmsize-0.1.3 frozenlist-1.3.0 fsspec-2022.3.0 fuzzywuzzy-0.18.0 multidict-6.0.2 nose-1.3.7 pyDeprecate-0.3.2 pydicom-2.3.0 pykale-0.1.0rc5 pylibjpeg-1.4.0 python-gdcm-3.0.12 pytorch-lightning-1.6.3 pytorch-memlab-0.2.4 scipy-1.7.3 tensorly-0.7.0 torchmetrics-0.8.2 yacs-0.1.8 yarl-1.7.2\n",
            "Looking in links: https://data.pyg.org/whl/torch-1.11.0+cu113.html\n",
            "Collecting torch-scatter\n",
            "  Downloading https://data.pyg.org/whl/torch-1.11.0%2Bcu113/torch_scatter-2.0.9-cp37-cp37m-linux_x86_64.whl (7.9 MB)\n",
            "\u001b[K     |████████████████████████████████| 7.9 MB 2.7 MB/s \n",
            "\u001b[?25hInstalling collected packages: torch-scatter\n",
            "Successfully installed torch-scatter-2.0.9\n",
            "Looking in links: https://data.pyg.org/whl/torch-1.11.0+cu113.html\n",
            "Collecting torch-sparse\n",
            "  Downloading https://data.pyg.org/whl/torch-1.11.0%2Bcu113/torch_sparse-0.6.13-cp37-cp37m-linux_x86_64.whl (3.5 MB)\n",
            "\u001b[K     |████████████████████████████████| 3.5 MB 2.7 MB/s \n",
            "\u001b[?25hRequirement already satisfied: scipy in /usr/local/lib/python3.7/dist-packages (from torch-sparse) (1.7.3)\n",
            "Requirement already satisfied: numpy<1.23.0,>=1.16.5 in /usr/local/lib/python3.7/dist-packages (from scipy->torch-sparse) (1.21.6)\n",
            "Installing collected packages: torch-sparse\n",
            "Successfully installed torch-sparse-0.6.13\n",
            "Collecting torch-geometric\n",
            "  Downloading torch_geometric-2.0.4.tar.gz (407 kB)\n",
            "\u001b[K     |████████████████████████████████| 407 kB 4.9 MB/s \n",
            "\u001b[?25hRequirement already satisfied: tqdm in /usr/local/lib/python3.7/dist-packages (from torch-geometric) (4.64.0)\n",
            "Requirement already satisfied: numpy in /usr/local/lib/python3.7/dist-packages (from torch-geometric) (1.21.6)\n",
            "Requirement already satisfied: scipy in /usr/local/lib/python3.7/dist-packages (from torch-geometric) (1.7.3)\n",
            "Requirement already satisfied: pandas in /usr/local/lib/python3.7/dist-packages (from torch-geometric) (1.3.5)\n",
            "Requirement already satisfied: jinja2 in /usr/local/lib/python3.7/dist-packages (from torch-geometric) (2.11.3)\n",
            "Requirement already satisfied: requests in /usr/local/lib/python3.7/dist-packages (from torch-geometric) (2.23.0)\n",
            "Requirement already satisfied: pyparsing in /usr/local/lib/python3.7/dist-packages (from torch-geometric) (3.0.8)\n",
            "Requirement already satisfied: scikit-learn in /usr/local/lib/python3.7/dist-packages (from torch-geometric) (1.0.2)\n",
            "Requirement already satisfied: MarkupSafe>=0.23 in /usr/local/lib/python3.7/dist-packages (from jinja2->torch-geometric) (2.0.1)\n",
            "Requirement already satisfied: pytz>=2017.3 in /usr/local/lib/python3.7/dist-packages (from pandas->torch-geometric) (2022.1)\n",
            "Requirement already satisfied: python-dateutil>=2.7.3 in /usr/local/lib/python3.7/dist-packages (from pandas->torch-geometric) (2.8.2)\n",
            "Requirement already satisfied: six>=1.5 in /usr/local/lib/python3.7/dist-packages (from python-dateutil>=2.7.3->pandas->torch-geometric) (1.15.0)\n",
            "Requirement already satisfied: urllib3!=1.25.0,!=1.25.1,<1.26,>=1.21.1 in /usr/local/lib/python3.7/dist-packages (from requests->torch-geometric) (1.24.3)\n",
            "Requirement already satisfied: chardet<4,>=3.0.2 in /usr/local/lib/python3.7/dist-packages (from requests->torch-geometric) (3.0.4)\n",
            "Requirement already satisfied: certifi>=2017.4.17 in /usr/local/lib/python3.7/dist-packages (from requests->torch-geometric) (2021.10.8)\n",
            "Requirement already satisfied: idna<3,>=2.5 in /usr/local/lib/python3.7/dist-packages (from requests->torch-geometric) (2.10)\n",
            "Requirement already satisfied: joblib>=0.11 in /usr/local/lib/python3.7/dist-packages (from scikit-learn->torch-geometric) (1.1.0)\n",
            "Requirement already satisfied: threadpoolctl>=2.0.0 in /usr/local/lib/python3.7/dist-packages (from scikit-learn->torch-geometric) (3.1.0)\n",
            "Building wheels for collected packages: torch-geometric\n",
            "  Building wheel for torch-geometric (setup.py) ... \u001b[?25l\u001b[?25hdone\n",
            "  Created wheel for torch-geometric: filename=torch_geometric-2.0.4-py3-none-any.whl size=616603 sha256=a031d4f421eb59032e674043f1593b4da5ccf1b6db443066babc818398713b3d\n",
            "  Stored in directory: /root/.cache/pip/wheels/18/a6/a4/ca18c3051fcead866fe7b85700ee2240d883562a1bc70ce421\n",
            "Successfully built torch-geometric\n",
            "Installing collected packages: torch-geometric\n",
            "Successfully installed torch-geometric-2.0.4\n",
            "Collecting rdkit-pypi\n",
            "  Downloading rdkit_pypi-2022.3.2.1-cp37-cp37m-manylinux_2_17_x86_64.manylinux2014_x86_64.whl (22.7 MB)\n",
            "\u001b[K     |████████████████████████████████| 22.7 MB 1.2 MB/s \n",
            "\u001b[?25hRequirement already satisfied: numpy in /usr/local/lib/python3.7/dist-packages (from rdkit-pypi) (1.21.6)\n",
            "Requirement already satisfied: Pillow in /usr/local/lib/python3.7/dist-packages (from rdkit-pypi) (7.1.2)\n",
            "Installing collected packages: rdkit-pypi\n",
            "Successfully installed rdkit-pypi-2022.3.2.1\n",
            "Cloning into 'pykale'...\n",
            "remote: Enumerating objects: 10706, done.\u001b[K\n",
            "remote: Counting objects: 100% (95/95), done.\u001b[K\n",
            "remote: Compressing objects: 100% (61/61), done.\u001b[K\n",
            "remote: Total 10706 (delta 48), reused 61 (delta 34), pack-reused 10611\u001b[K\n",
            "Receiving objects: 100% (10706/10706), 15.82 MiB | 29.51 MiB/s, done.\n",
            "Resolving deltas: 100% (7714/7714), done.\n",
            "/content/pykale/examples/bindingdb_deepdta\n"
          ]
        }
      ],
      "source": [
        "if 'google.colab' in str(get_ipython()):\n",
        "    print('Running on CoLab')\n",
        "    !pip uninstall --yes imgaug && pip uninstall --yes albumentations && pip install git+https://github.com/aleju/imgaug.git\n",
        "    !pip install git+https://github.com/pykale/pykale.git\n",
        "    !pip install torch-scatter -f https://data.pyg.org/whl/torch-1.11.0+cu113.html\n",
        "    !pip install torch-sparse -f https://data.pyg.org/whl/torch-1.11.0+cu113.html\n",
        "    !pip install torch-geometric\n",
        "    !pip install rdkit-pypi\n",
        "    !git clone https://github.com/pykale/pykale.git\n",
        "    %cd pykale/examples/bindingdb_deepdta/\n",
        "else:\n",
        "    print('Not running on CoLab')"
      ]
    },
    {
      "cell_type": "markdown",
      "id": "9b888e69",
      "metadata": {
        "id": "9b888e69"
      },
      "source": [
        "This imports required modules."
      ]
    },
    {
      "cell_type": "code",
      "execution_count": null,
      "id": "83b926d3",
      "metadata": {
        "id": "83b926d3"
      },
      "outputs": [],
      "source": [
        "import pytorch_lightning as pl\n",
        "import torch\n",
        "from config import get_cfg_defaults\n",
        "from model import get_model\n",
        "from pytorch_lightning.callbacks import ModelCheckpoint\n",
        "from pytorch_lightning.loggers import TensorBoardLogger\n",
        "from torch.utils.data import DataLoader, Subset\n",
        "\n",
        "from kale.loaddata.tdc_datasets import BindingDBDataset\n",
        "from kale.utils.seed import set_seed"
      ]
    },
    {
      "cell_type": "code",
      "source": [
        "!pwd"
      ],
      "metadata": {
        "colab": {
          "base_uri": "https://localhost:8080/"
        },
        "id": "Cp0XdJlpLIbI",
        "outputId": "dd2f7976-a780-476a-de56-847b117beebe"
      },
      "id": "Cp0XdJlpLIbI",
      "execution_count": null,
      "outputs": [
        {
          "output_type": "stream",
          "name": "stdout",
          "text": [
            "/content/pykale/examples/bindingdb_deepdta\n"
          ]
        }
      ]
    },
    {
      "cell_type": "markdown",
      "id": "bbfeb2a2",
      "metadata": {
        "id": "bbfeb2a2"
      },
      "source": [
        "## 구성 정의\n",
        "\n",
        "이 노트북에서 사용된 사용자 정의 구성은 `./configs/tutorial.yaml`에 저장되며, 이 파일은 값이 지정된 `config.py`의 기본값을 덮어쓴다.\n",
        "\n",
        "이 노트북에서 전체 파이프라인을 실행하는 시간을 절약하기 위해 원본 BindingDB 데이터 세트에서 작은 훈련/유효한/테스트(8,000/1,000/1,000) 하위 집합을 샘플링할 것이다."
      ]
    },
    {
      "cell_type": "code",
      "execution_count": null,
      "id": "c81a024e",
      "metadata": {
        "id": "c81a024e",
        "colab": {
          "base_uri": "https://localhost:8080/"
        },
        "outputId": "748530bc-b343-4e97-91c6-07b548ee9198"
      },
      "outputs": [
        {
          "output_type": "stream",
          "name": "stdout",
          "text": [
            "DATASET:\n",
            "  NAME: BindingDB_Kd\n",
            "  PATH: ./data\n",
            "  Y_LOG: True\n",
            "MODEL:\n",
            "  DRUG_DIM: 128\n",
            "  DRUG_FILTER_LENGTH: 8\n",
            "  DRUG_LENGTH: 85\n",
            "  MLP_DROPOUT_RATE: 0.2\n",
            "  MLP_HIDDEN_DIM: 1024\n",
            "  MLP_IN_DIM: 192\n",
            "  MLP_OUT_DIM: 512\n",
            "  NUM_ATOM_CHAR: 25\n",
            "  NUM_FILTERS: 32\n",
            "  NUM_SMILE_CHAR: 64\n",
            "  TARGET_DIM: 128\n",
            "  TARGET_FILTER_LENGTH: 8\n",
            "  TARGET_LENGTH: 1200\n",
            "SOLVER:\n",
            "  LR: 0.001\n",
            "  MAX_EPOCHS: 5\n",
            "  MIN_EPOCHS: 0\n",
            "  SEED: 2020\n",
            "  TEST_BATCH_SIZE: 256\n",
            "  TRAIN_BATCH_SIZE: 256\n"
          ]
        }
      ],
      "source": [
        "cfg_path = \"./configs/tutorial.yaml\"\n",
        "train_subset_size, valid_subset_size, test_subset_size = 8000, 1000, 1000\n",
        "\n",
        "cfg = get_cfg_defaults()\n",
        "cfg.merge_from_file(cfg_path)\n",
        "cfg.freeze()\n",
        "print(cfg)\n",
        "\n",
        "set_seed(cfg.SOLVER.SEED)"
      ]
    },
    {
      "cell_type": "markdown",
      "id": "4b2d4b39",
      "metadata": {
        "id": "4b2d4b39"
      },
      "source": [
        "## GPU 사용할 수 있는지 확인하기\n",
        "\n",
        "CUDA GPU를 사용할 수 있는 경우 이를 사용하여 교육 프로세스를 가속화해야 한다. 아래 코드는 이를 확인하고 보고한다.\n"
      ]
    },
    {
      "cell_type": "code",
      "execution_count": null,
      "id": "716a4b15",
      "metadata": {
        "id": "716a4b15",
        "colab": {
          "base_uri": "https://localhost:8080/"
        },
        "outputId": "5048e8d0-ed6f-45c8-b313-ef2f9e6cbc42"
      },
      "outputs": [
        {
          "output_type": "stream",
          "name": "stdout",
          "text": [
            "Using: cuda\n"
          ]
        }
      ],
      "source": [
        "device = \"cuda\" if torch.cuda.is_available() else \"cpu\"\n",
        "print(\"Using: \" + device)\n",
        "gpus = 1 if device == \"cuda\" else 0"
      ]
    },
    {
      "cell_type": "markdown",
      "id": "cfdf8bbc",
      "metadata": {
        "id": "cfdf8bbc"
      },
      "source": [
        "## Dataset 선택\n",
        "\n",
        "소스 및 대상 데이터 세트는 'BindingDBDataset()' 함수를 사용하여 지정하고 'DataLoader()' 함수를 사용하여 불러온다."
      ]
    },
    {
      "cell_type": "code",
      "execution_count": null,
      "id": "ab06bd86",
      "metadata": {
        "id": "ab06bd86",
        "colab": {
          "base_uri": "https://localhost:8080/"
        },
        "outputId": "068dd01b-3682-4368-b67e-0cfb68524161"
      },
      "outputs": [
        {
          "output_type": "stream",
          "name": "stderr",
          "text": [
            "Downloading...\n",
            "100%|██████████| 54.4M/54.4M [00:02<00:00, 27.0MiB/s]\n",
            "Loading...\n",
            "Done!\n",
            "To log space...\n",
            "Found local copy...\n",
            "Loading...\n",
            "Done!\n",
            "To log space...\n",
            "Found local copy...\n",
            "Loading...\n",
            "Done!\n",
            "To log space...\n"
          ]
        }
      ],
      "source": [
        "train_dataset = BindingDBDataset(name=cfg.DATASET.NAME, split=\"train\", path=cfg.DATASET.PATH)\n",
        "valid_dataset = BindingDBDataset(name=cfg.DATASET.NAME, split=\"valid\", path=cfg.DATASET.PATH)\n",
        "test_dataset = BindingDBDataset(name=cfg.DATASET.NAME, split=\"test\", path=cfg.DATASET.PATH)\n",
        "train_size, valid_size, test_size = len(train_dataset), len(valid_dataset), len(test_dataset)\n",
        "train_sample_indices, valid_sample_indices, test_sample_indices = torch.randperm(train_size)[:train_subset_size].tolist(), torch.randperm(valid_size)[:valid_subset_size].tolist(), torch.randperm(test_size)[:test_subset_size].tolist()\n",
        "train_dataset, valid_dataset, test_dataset = Subset(train_dataset, train_sample_indices), Subset(valid_dataset, valid_sample_indices), Subset(test_dataset, test_sample_indices)"
      ]
    },
    {
      "cell_type": "code",
      "execution_count": null,
      "id": "1b68a11c",
      "metadata": {
        "id": "1b68a11c",
        "colab": {
          "base_uri": "https://localhost:8080/",
          "height": 35
        },
        "outputId": "00b881a2-e8da-485c-8c72-17ec0fe7ab58"
      },
      "outputs": [
        {
          "output_type": "execute_result",
          "data": {
            "text/plain": [
              "'./data'"
            ],
            "application/vnd.google.colaboratory.intrinsic+json": {
              "type": "string"
            }
          },
          "metadata": {},
          "execution_count": 7
        }
      ],
      "source": [
        "cfg.DATASET.PATH"
      ]
    },
    {
      "cell_type": "code",
      "execution_count": null,
      "id": "557f7ea3",
      "metadata": {
        "id": "557f7ea3"
      },
      "outputs": [],
      "source": [
        "train_loader = DataLoader(dataset=train_dataset, shuffle=True, batch_size=cfg.SOLVER.TRAIN_BATCH_SIZE)\n",
        "valid_loader = DataLoader(dataset=valid_dataset, shuffle=True, batch_size=cfg.SOLVER.TEST_BATCH_SIZE)\n",
        "test_loader = DataLoader(dataset=test_dataset, shuffle=True, batch_size=cfg.SOLVER.TEST_BATCH_SIZE)"
      ]
    },
    {
      "cell_type": "markdown",
      "id": "93fa8700",
      "metadata": {
        "id": "93fa8700"
      },
      "source": [
        "## 모델 설정\n",
        "\n",
        "여기에서 이전에 정의한 구성과 데이터 세트를 사용하여 이후에 학습할 모델을 설정한다."
      ]
    },
    {
      "cell_type": "code",
      "execution_count": null,
      "id": "4d3d9332",
      "metadata": {
        "id": "4d3d9332"
      },
      "outputs": [],
      "source": [
        "model = get_model(cfg)"
      ]
    },
    {
      "cell_type": "code",
      "source": [
        "model"
      ],
      "metadata": {
        "id": "qPoDO_LVEdgO",
        "colab": {
          "base_uri": "https://localhost:8080/"
        },
        "outputId": "0b7bfe9c-ffae-4132-a991-e006121692c9"
      },
      "id": "qPoDO_LVEdgO",
      "execution_count": null,
      "outputs": [
        {
          "output_type": "execute_result",
          "data": {
            "text/plain": [
              "DeepDTATrainer(\n",
              "  (drug_encoder): CNNEncoder(\n",
              "    (embedding): Embedding(65, 128)\n",
              "    (conv1): Conv1d(85, 32, kernel_size=(8,), stride=(1,))\n",
              "    (conv2): Conv1d(32, 64, kernel_size=(8,), stride=(1,))\n",
              "    (conv3): Conv1d(64, 96, kernel_size=(8,), stride=(1,))\n",
              "    (global_max_pool): AdaptiveMaxPool1d(output_size=1)\n",
              "  )\n",
              "  (target_encoder): CNNEncoder(\n",
              "    (embedding): Embedding(26, 128)\n",
              "    (conv1): Conv1d(1200, 32, kernel_size=(8,), stride=(1,))\n",
              "    (conv2): Conv1d(32, 64, kernel_size=(8,), stride=(1,))\n",
              "    (conv3): Conv1d(64, 96, kernel_size=(8,), stride=(1,))\n",
              "    (global_max_pool): AdaptiveMaxPool1d(output_size=1)\n",
              "  )\n",
              "  (decoder): MLPDecoder(\n",
              "    (fc1): Linear(in_features=192, out_features=1024, bias=True)\n",
              "    (fc2): Linear(in_features=1024, out_features=1024, bias=True)\n",
              "    (fc3): Linear(in_features=1024, out_features=512, bias=True)\n",
              "    (fc4): Linear(in_features=512, out_features=1, bias=True)\n",
              "    (dropout): Dropout(p=0.2, inplace=False)\n",
              "  )\n",
              ")"
            ]
          },
          "metadata": {},
          "execution_count": 10
        }
      ]
    },
    {
      "cell_type": "markdown",
      "id": "8dfa358b",
      "metadata": {
        "id": "8dfa358b"
      },
      "source": [
        "## 로거 설정\n",
        "\n",
        "로거는 모델 훈련 중 및 후에 생성된 출력을 저장하는 데 사용된다. 이 정보는 교육의 효과를 평가하고 문제를 식별하는 데 사용할 수 있다."
      ]
    },
    {
      "cell_type": "code",
      "execution_count": null,
      "id": "c6d1aea7",
      "metadata": {
        "id": "c6d1aea7"
      },
      "outputs": [],
      "source": [
        "tb_logger = TensorBoardLogger(\"tb_logs\", name=cfg.DATASET.NAME)"
      ]
    },
    {
      "cell_type": "markdown",
      "id": "eadd9016",
      "metadata": {
        "id": "eadd9016"
      },
      "source": [
        "## 학습기 설정\n",
        "\n",
        "트레이너 개체는 모델 매개변수를 결정하고 저장하는 데 사용됩니다. 여기서 하나는 모델을 훈련시키는 방법과 사용할 하드웨어에 대한 정보로 구성됩니다."
      ]
    },
    {
      "cell_type": "code",
      "execution_count": null,
      "id": "5b484f26",
      "metadata": {
        "id": "5b484f26"
      },
      "outputs": [],
      "source": [
        "checkpoint_callback = ModelCheckpoint(monitor=\"valid_loss\", mode=\"min\")\n",
        "trainer = pl.Trainer(min_epochs=cfg.SOLVER.MIN_EPOCHS, \n",
        "                     max_epochs=cfg.SOLVER.MAX_EPOCHS, \n",
        "                     gpus=gpus, logger=tb_logger, \n",
        "                     callbacks=[checkpoint_callback])"
      ]
    },
    {
      "cell_type": "markdown",
      "id": "4a1b903b",
      "metadata": {
        "id": "4a1b903b"
      },
      "source": [
        "## 모델 학습\n",
        "\n",
        "학습기를 사용해서 모델 파라미터 최적화한다."
      ]
    },
    {
      "cell_type": "code",
      "execution_count": null,
      "id": "b8c5c3c1",
      "metadata": {
        "id": "b8c5c3c1"
      },
      "outputs": [],
      "source": [
        "%time trainer.fit(model, train_loader, valid_loader)"
      ]
    },
    {
      "cell_type": "markdown",
      "id": "d308b2ce",
      "metadata": {
        "id": "d308b2ce"
      },
      "source": [
        "## 최적화된 모델 테스트\n",
        "\n",
        "훈련에 사용되지 않은 테스트 데이터와 훈련 데이터로 최적화된 모델의 성능을 확인한다."
      ]
    },
    {
      "cell_type": "code",
      "execution_count": null,
      "id": "3bda8d74",
      "metadata": {
        "id": "3bda8d74"
      },
      "outputs": [],
      "source": [
        "trainer.test(model, test_loader)"
      ]
    },
    {
      "cell_type": "markdown",
      "id": "e5c5a905",
      "metadata": {
        "id": "e5c5a905"
      },
      "source": [
        "RMSE(제곱 평균 제곱근)에서 대략 $7.3\\cdots$의 테스트 손실을 얻었을 것이다. 타겟 값($y$)의 범위는 [-13, 20](로그 공간)인 것을 앞선 그래프로 알 수 있을 것이다. 우리는 단 3개의 Epoch로 [-13, 20] 범위에서 대략 7.3의 RMSE로 목표 값을 예측할 수 있다는 것을 확인할 수 있다.\n",
        "\n",
        "이 노트북을 실행하는 시간을 절약하기 위해 최대 epoch를 3으로 설정하고 하위 집합(8000/1000/1000)을 추출한다. 이러한 설정은 사용자가 변경할 수 있다. 최대 에포크를 100으로 설정하고 전체 데이터 세트를 사용하면 훨씬 더 나은 결과를 얻을 수 있을 것이다(<1.0 이하의 loss)."
      ]
    },
    {
      "cell_type": "markdown",
      "id": "e2c28b51",
      "metadata": {
        "id": "e2c28b51"
      },
      "source": [
        "## 건축물\n",
        "다음은 기본 하이퍼파라미터 설정이 있는 DeepDTA의 아키텍처다.\n",
        "\n",
        "<pre>\n",
        "==========================================================================================\n",
        "Layer (type:depth-idx)                   Output Shape              Param #\n",
        "==========================================================================================\n",
        "├─CNNEncoder: 1-1                        [256, 96]                 --\n",
        "|    └─Embedding: 2-1                    [256, 85, 128]            8,320\n",
        "|    └─Conv1d: 2-2                       [256, 32, 121]            21,792\n",
        "|    └─Conv1d: 2-3                       [256, 64, 114]            16,448\n",
        "|    └─Conv1d: 2-4                       [256, 96, 107]            49,248\n",
        "|    └─AdaptiveMaxPool1d: 2-5            [256, 96, 1]              --\n",
        "├─CNNEncoder: 1-2                        [256, 96]                 --\n",
        "|    └─Embedding: 2-6                    [256, 1200, 128]          3,328\n",
        "|    └─Conv1d: 2-7                       [256, 32, 121]            307,232\n",
        "|    └─Conv1d: 2-8                       [256, 64, 114]            16,448\n",
        "|    └─Conv1d: 2-9                       [256, 96, 107]            49,248\n",
        "|    └─AdaptiveMaxPool1d: 2-10           [256, 96, 1]              --\n",
        "├─MLPDecoder: 1-3                        [256, 1]                  --\n",
        "|    └─Linear: 2-11                      [256, 1024]               197,632\n",
        "|    └─Dropout: 2-12                     [256, 1024]               --\n",
        "|    └─Linear: 2-13                      [256, 1024]               1,049,600\n",
        "|    └─Dropout: 2-14                     [256, 1024]               --\n",
        "|    └─Linear: 2-15                      [256, 512]                524,800\n",
        "|    └─Linear: 2-16                      [256, 1]                  513\n",
        "==========================================================================================\n",
        "Total params: 2,244,609\n",
        "Trainable params: 2,244,609\n",
        "Non-trainable params: 0\n",
        "Total mult-adds (M): 58.08\n",
        "==========================================================================================\n",
        "Input size (MB): 1.32\n",
        "Forward/backward pass size (MB): 429.92\n",
        "Params size (MB): 8.98\n",
        "Estimated Total Size (MB): 440.21"
      ]
    },
    {
      "cell_type": "code",
      "source": [
        ""
      ],
      "metadata": {
        "id": "itCMPNoj_roV"
      },
      "id": "itCMPNoj_roV",
      "execution_count": null,
      "outputs": []
    }
  ],
  "metadata": {
    "execution": {
      "timeout": 600
    },
    "kernelspec": {
      "display_name": "Python 3 (ipykernel)",
      "language": "python",
      "name": "python3"
    },
    "language_info": {
      "codemirror_mode": {
        "name": "ipython",
        "version": 3
      },
      "file_extension": ".py",
      "mimetype": "text/x-python",
      "name": "python",
      "nbconvert_exporter": "python",
      "pygments_lexer": "ipython3",
      "version": "3.8.12"
    },
    "colab": {
      "name": "9강_DeepDTA.ipynb",
      "provenance": [],
      "collapsed_sections": [],
      "toc_visible": true
    },
    "accelerator": "GPU"
  },
  "nbformat": 4,
  "nbformat_minor": 5
}
{
  "cells": [
    {
      "cell_type": "markdown",
      "source": [
        "# ERK2 단백질을 억제하는 분자를 예측하는 모델을 만든다\n",
        "- 그래프 합성곱 모델 사용\n",
        "- extracellular signal-regulated kinase (다수의 생화학적 신호에 관여하고 세포의 증식 분화 전사조절에 관여한다)\n",
        " - 비소세포성 폐암 non-small cell lung cancer과 흑색종(피부암)에 대해 임상시험중\n",
        " - DUD-E 데이터베이스에서 활성 및 비활성 분자 데이터 사용"
      ],
      "metadata": {
        "id": "FJpHthE60TBJ"
      }
    },
    {
      "cell_type": "code",
      "source": [
        "!pip install DeepChem"
      ],
      "metadata": {
        "colab": {
          "base_uri": "https://localhost:8080/"
        },
        "id": "bd95Jgdy2As-",
        "outputId": "b8cebb6e-c048-4eee-c8ab-7e7eedb2564a"
      },
      "execution_count": null,
      "outputs": [
        {
          "output_type": "stream",
          "name": "stdout",
          "text": [
            "Collecting DeepChem\n",
            "  Downloading deepchem-2.6.1-py3-none-any.whl (608 kB)\n",
            "\u001b[?25l\r\u001b[K     |▌                               | 10 kB 21.5 MB/s eta 0:00:01\r\u001b[K     |█                               | 20 kB 8.3 MB/s eta 0:00:01\r\u001b[K     |█▋                              | 30 kB 7.3 MB/s eta 0:00:01\r\u001b[K     |██▏                             | 40 kB 6.9 MB/s eta 0:00:01\r\u001b[K     |██▊                             | 51 kB 3.3 MB/s eta 0:00:01\r\u001b[K     |███▎                            | 61 kB 3.9 MB/s eta 0:00:01\r\u001b[K     |███▊                            | 71 kB 4.1 MB/s eta 0:00:01\r\u001b[K     |████▎                           | 81 kB 4.5 MB/s eta 0:00:01\r\u001b[K     |████▉                           | 92 kB 5.0 MB/s eta 0:00:01\r\u001b[K     |█████▍                          | 102 kB 3.9 MB/s eta 0:00:01\r\u001b[K     |██████                          | 112 kB 3.9 MB/s eta 0:00:01\r\u001b[K     |██████▌                         | 122 kB 3.9 MB/s eta 0:00:01\r\u001b[K     |███████                         | 133 kB 3.9 MB/s eta 0:00:01\r\u001b[K     |███████▌                        | 143 kB 3.9 MB/s eta 0:00:01\r\u001b[K     |████████                        | 153 kB 3.9 MB/s eta 0:00:01\r\u001b[K     |████████▋                       | 163 kB 3.9 MB/s eta 0:00:01\r\u001b[K     |█████████▏                      | 174 kB 3.9 MB/s eta 0:00:01\r\u001b[K     |█████████▊                      | 184 kB 3.9 MB/s eta 0:00:01\r\u001b[K     |██████████▎                     | 194 kB 3.9 MB/s eta 0:00:01\r\u001b[K     |██████████▊                     | 204 kB 3.9 MB/s eta 0:00:01\r\u001b[K     |███████████▎                    | 215 kB 3.9 MB/s eta 0:00:01\r\u001b[K     |███████████▉                    | 225 kB 3.9 MB/s eta 0:00:01\r\u001b[K     |████████████▍                   | 235 kB 3.9 MB/s eta 0:00:01\r\u001b[K     |█████████████                   | 245 kB 3.9 MB/s eta 0:00:01\r\u001b[K     |█████████████▌                  | 256 kB 3.9 MB/s eta 0:00:01\r\u001b[K     |██████████████                  | 266 kB 3.9 MB/s eta 0:00:01\r\u001b[K     |██████████████▌                 | 276 kB 3.9 MB/s eta 0:00:01\r\u001b[K     |███████████████                 | 286 kB 3.9 MB/s eta 0:00:01\r\u001b[K     |███████████████▋                | 296 kB 3.9 MB/s eta 0:00:01\r\u001b[K     |████████████████▏               | 307 kB 3.9 MB/s eta 0:00:01\r\u001b[K     |████████████████▊               | 317 kB 3.9 MB/s eta 0:00:01\r\u001b[K     |█████████████████▎              | 327 kB 3.9 MB/s eta 0:00:01\r\u001b[K     |█████████████████▊              | 337 kB 3.9 MB/s eta 0:00:01\r\u001b[K     |██████████████████▎             | 348 kB 3.9 MB/s eta 0:00:01\r\u001b[K     |██████████████████▉             | 358 kB 3.9 MB/s eta 0:00:01\r\u001b[K     |███████████████████▍            | 368 kB 3.9 MB/s eta 0:00:01\r\u001b[K     |████████████████████            | 378 kB 3.9 MB/s eta 0:00:01\r\u001b[K     |████████████████████▌           | 389 kB 3.9 MB/s eta 0:00:01\r\u001b[K     |█████████████████████           | 399 kB 3.9 MB/s eta 0:00:01\r\u001b[K     |█████████████████████▌          | 409 kB 3.9 MB/s eta 0:00:01\r\u001b[K     |██████████████████████          | 419 kB 3.9 MB/s eta 0:00:01\r\u001b[K     |██████████████████████▋         | 430 kB 3.9 MB/s eta 0:00:01\r\u001b[K     |███████████████████████▏        | 440 kB 3.9 MB/s eta 0:00:01\r\u001b[K     |███████████████████████▊        | 450 kB 3.9 MB/s eta 0:00:01\r\u001b[K     |████████████████████████▎       | 460 kB 3.9 MB/s eta 0:00:01\r\u001b[K     |████████████████████████▉       | 471 kB 3.9 MB/s eta 0:00:01\r\u001b[K     |█████████████████████████▎      | 481 kB 3.9 MB/s eta 0:00:01\r\u001b[K     |█████████████████████████▉      | 491 kB 3.9 MB/s eta 0:00:01\r\u001b[K     |██████████████████████████▍     | 501 kB 3.9 MB/s eta 0:00:01\r\u001b[K     |███████████████████████████     | 512 kB 3.9 MB/s eta 0:00:01\r\u001b[K     |███████████████████████████▌    | 522 kB 3.9 MB/s eta 0:00:01\r\u001b[K     |████████████████████████████    | 532 kB 3.9 MB/s eta 0:00:01\r\u001b[K     |████████████████████████████▌   | 542 kB 3.9 MB/s eta 0:00:01\r\u001b[K     |█████████████████████████████   | 552 kB 3.9 MB/s eta 0:00:01\r\u001b[K     |█████████████████████████████▋  | 563 kB 3.9 MB/s eta 0:00:01\r\u001b[K     |██████████████████████████████▏ | 573 kB 3.9 MB/s eta 0:00:01\r\u001b[K     |██████████████████████████████▊ | 583 kB 3.9 MB/s eta 0:00:01\r\u001b[K     |███████████████████████████████▎| 593 kB 3.9 MB/s eta 0:00:01\r\u001b[K     |███████████████████████████████▉| 604 kB 3.9 MB/s eta 0:00:01\r\u001b[K     |████████████████████████████████| 608 kB 3.9 MB/s \n",
            "\u001b[?25hRequirement already satisfied: numpy>=1.21 in /usr/local/lib/python3.7/dist-packages (from DeepChem) (1.21.6)\n",
            "Requirement already satisfied: pandas in /usr/local/lib/python3.7/dist-packages (from DeepChem) (1.3.5)\n",
            "Requirement already satisfied: scipy in /usr/local/lib/python3.7/dist-packages (from DeepChem) (1.4.1)\n",
            "Requirement already satisfied: joblib in /usr/local/lib/python3.7/dist-packages (from DeepChem) (1.1.0)\n",
            "Collecting rdkit-pypi\n",
            "  Downloading rdkit_pypi-2022.3.2-cp37-cp37m-manylinux_2_17_x86_64.manylinux2014_x86_64.whl (22.5 MB)\n",
            "\u001b[K     |████████████████████████████████| 22.5 MB 1.4 MB/s \n",
            "\u001b[?25hRequirement already satisfied: scikit-learn in /usr/local/lib/python3.7/dist-packages (from DeepChem) (1.0.2)\n",
            "Requirement already satisfied: pytz>=2017.3 in /usr/local/lib/python3.7/dist-packages (from pandas->DeepChem) (2022.1)\n",
            "Requirement already satisfied: python-dateutil>=2.7.3 in /usr/local/lib/python3.7/dist-packages (from pandas->DeepChem) (2.8.2)\n",
            "Requirement already satisfied: six>=1.5 in /usr/local/lib/python3.7/dist-packages (from python-dateutil>=2.7.3->pandas->DeepChem) (1.15.0)\n",
            "Requirement already satisfied: Pillow in /usr/local/lib/python3.7/dist-packages (from rdkit-pypi->DeepChem) (7.1.2)\n",
            "Requirement already satisfied: threadpoolctl>=2.0.0 in /usr/local/lib/python3.7/dist-packages (from scikit-learn->DeepChem) (3.1.0)\n",
            "Installing collected packages: rdkit-pypi, DeepChem\n",
            "Successfully installed DeepChem-2.6.1 rdkit-pypi-2022.3.2\n"
          ]
        }
      ]
    },
    {
      "cell_type": "code",
      "execution_count": null,
      "metadata": {
        "id": "UGcjm8HGz4yT"
      },
      "outputs": [],
      "source": [
        "from rdkit import Chem\n",
        "from rdkit.Chem import AllChem\n",
        "from rdkit.Chem import Draw\n",
        "from rdkit.Chem.Draw import IPythonConsole\n",
        "import pandas as pd\n",
        "from rdkit.Chem import PandasTools\n",
        "from rdkit.Chem import Descriptors\n",
        "from rdkit.Chem import rdmolops\n",
        "import seaborn as sns"
      ]
    },
    {
      "cell_type": "code",
      "source": [
        "import warnings\n",
        "warnings.filterwarnings(\"ignore\")"
      ],
      "metadata": {
        "id": "j8gfrBZaOG6V"
      },
      "execution_count": null,
      "outputs": []
    },
    {
      "cell_type": "markdown",
      "metadata": {
        "id": "lylkRCkSz4yU"
      },
      "source": [
        "- 분자 데이터는 SMILES 형식이다. 이를 데이터프레임에 불러온다\n",
        "- AddMoleculeColumnToFrame()를 사용해 SMILES를 데이터프레임이 추가한다"
      ]
    },
    {
      "cell_type": "code",
      "execution_count": null,
      "metadata": {
        "id": "CPqIv1_8z4yU"
      },
      "outputs": [],
      "source": [
        "active_df = pd.read_csv(\"https://raw.githubusercontent.com/deepchem/DeepLearningLifeSciences/master/Chapter11/mk01/actives_final.ism\",\n",
        "                        header=None,sep=\" \")\n",
        "active_rows,active_cols = active_df.shape\n",
        "active_df.columns = [\"SMILES\",\"ID\",\"ChEMBL_ID\"]\n",
        "active_df[\"label\"] = [\"Active\"]*active_rows\n",
        "PandasTools.AddMoleculeColumnToFrame(active_df,\"SMILES\",\"Mol\")\n"
      ]
    },
    {
      "cell_type": "markdown",
      "metadata": {
        "id": "m5xtBXHRz4yU"
      },
      "source": [
        "## 데이터프레임에 계산된 특성을 추가하는 함수 정의\n",
        "- 분자량 molecular weight, \n",
        "- 분배 계수 partition coefficeint(LogP) - 유성물질(옥탄올)에서 물로 분리되는 능력\n",
        "- 전하 charge (양인지 음인지)"
      ]
    },
    {
      "cell_type": "code",
      "execution_count": null,
      "metadata": {
        "id": "IqjKaT8Ez4yU"
      },
      "outputs": [],
      "source": [
        "def add_property_columns_to_df(df_in):\n",
        "    df_in[\"mw\"] = [Descriptors.MolWt(mol) for mol in df_in.Mol]\n",
        "    df_in[\"logP\"] = [Descriptors.MolLogP(mol) for mol in df_in.Mol]\n",
        "    df_in[\"charge\"] = [rdmolops.GetFormalCharge(mol) for mol in df_in.Mol]"
      ]
    },
    {
      "cell_type": "code",
      "execution_count": null,
      "metadata": {
        "id": "hS4OpyOiz4yV"
      },
      "outputs": [],
      "source": [
        "add_property_columns_to_df(active_df)"
      ]
    },
    {
      "cell_type": "code",
      "execution_count": null,
      "metadata": {
        "id": "EmmWVajuz4yW",
        "outputId": "730b21ea-18e8-4aef-e5a4-087ecb03d0a1",
        "colab": {
          "base_uri": "https://localhost:8080/",
          "height": 1000
        }
      },
      "outputs": [
        {
          "output_type": "execute_result",
          "data": {
            "text/plain": [
              "                                              SMILES      ID     ChEMBL_ID  \\\n",
              "0  Cn1ccnc1Sc2ccc(cc2Cl)Nc3c4cc(c(cc4ncc3C#N)OCCC...  168691  CHEMBL318804   \n",
              "1  C[C@@]12[C@@H]([C@@H](CC(O1)n3c4ccccc4c5c3c6n2...   86358     CHEMBL162   \n",
              "2  Cc1cnc(nc1c2cc([nH]c2)C(=O)N[C@H](CO)c3cccc(c3...  575087  CHEMBL576683   \n",
              "3  Cc1cnc(nc1c2cc([nH]c2)C(=O)N[C@H](CO)c3cccc(c3...  575065  CHEMBL571484   \n",
              "4  Cc1cnc(nc1c2cc([nH]c2)C(=O)N[C@H](CO)c3cccc(c3...  575047  CHEMBL568937   \n",
              "\n",
              "    label                                                Mol       mw  \\\n",
              "0  Active  <img data-content=\"rdkit/molecule\" src=\"data:i...  565.099   \n",
              "1  Active  <img data-content=\"rdkit/molecule\" src=\"data:i...  466.541   \n",
              "2  Active  <img data-content=\"rdkit/molecule\" src=\"data:i...  527.915   \n",
              "3  Active  <img data-content=\"rdkit/molecule\" src=\"data:i...  491.935   \n",
              "4  Active  <img data-content=\"rdkit/molecule\" src=\"data:i...  487.991   \n",
              "\n",
              "      logP  charge  \n",
              "0  5.49788       0  \n",
              "1  4.35400       0  \n",
              "2  4.96202       0  \n",
              "3  4.36922       0  \n",
              "4  5.12922       0  "
            ],
            "text/html": [
              "\n",
              "  <div id=\"df-c8cc4f1f-7ddb-410a-8e66-d565ad98ac17\">\n",
              "    <div class=\"colab-df-container\">\n",
              "      <div>\n",
              "<style scoped>\n",
              "    .dataframe tbody tr th:only-of-type {\n",
              "        vertical-align: middle;\n",
              "    }\n",
              "\n",
              "    .dataframe tbody tr th {\n",
              "        vertical-align: top;\n",
              "    }\n",
              "\n",
              "    .dataframe thead th {\n",
              "        text-align: right;\n",
              "    }\n",
              "</style>\n",
              "<table border=\"1\" class=\"dataframe\">\n",
              "  <thead>\n",
              "    <tr style=\"text-align: right;\">\n",
              "      <th></th>\n",
              "      <th>SMILES</th>\n",
              "      <th>ID</th>\n",
              "      <th>ChEMBL_ID</th>\n",
              "      <th>label</th>\n",
              "      <th>Mol</th>\n",
              "      <th>mw</th>\n",
              "      <th>logP</th>\n",
              "      <th>charge</th>\n",
              "    </tr>\n",
              "  </thead>\n",
              "  <tbody>\n",
              "    <tr>\n",
              "      <th>0</th>\n",
              "      <td>Cn1ccnc1Sc2ccc(cc2Cl)Nc3c4cc(c(cc4ncc3C#N)OCCC...</td>\n",
              "      <td>168691</td>\n",
              "      <td>CHEMBL318804</td>\n",
              "      <td>Active</td>\n",
              "      <td style=\"text-align: center;\"><img data-content=\"rdkit/molecule\" src=\"data:image/png;base64,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\" alt=\"Mol\"/></td>\n",
              "      <td>565.099</td>\n",
              "      <td>5.49788</td>\n",
              "      <td>0</td>\n",
              "    </tr>\n",
              "    <tr>\n",
              "      <th>1</th>\n",
              "      <td>C[C@@]12[C@@H]([C@@H](CC(O1)n3c4ccccc4c5c3c6n2...</td>\n",
              "      <td>86358</td>\n",
              "      <td>CHEMBL162</td>\n",
              "      <td>Active</td>\n",
              "      <td style=\"text-align: center;\"><img data-content=\"rdkit/molecule\" src=\"data:image/png;base64,iVBORw0KGgoAAAANSUhEUgAAAMgAAADICAIAAAAiOjnJAAAABmJLR0QA/wD/AP+gvaeTAAAgAElEQVR4nO2de1xM+f/H32em6TbdS4lCISJ3drW5hOQ2Wl+EZfsu37VZ2+6wvmuzu9awFrF8d3xZCmu1Lbtq15fID1mkXBNJSJtIkq6j+21m3r8/Pu0xukw1c86ZMM9Hf3TOnPm8P1Ov+ZzP+XzeFwoRQY8epuHpugN6Xk30wtLDCnph6WEFvbD0sIJeWHpYQS8sPaygF5YeVtALSw8r6IWlhxX0wtLDCnph6WEFA113oA1kZWVVV1fb2tra2dnpui96WuDlGLHkcvnGjRvd3Nxmzpzp5OS0aNGiR48e6bpTetSC7Z67d+8OHToUAPh8vru7O0VRACAQCP75z3+mpqbqund6mqZdC0upVIaFhQmFQgDo2rXruXPnEDElJSUgIMDAwAAAKIoSiUQXLlzQdU/1NKT9Cuvp06cikYgMq/7+/jKZTPXVBw8eiMViU1NTcoGXl1d0dLRSqdRVb/U0oJ0K6/fffyczdCsrqwMHDjR3WX5+vkQisbGxIfLq169feHh4XV0dl13V0yTtTlglJSWBgYFEKL6+vjk5OfRLtbW1Tb6lrKxMKpU6OTmRd3Xr1k0qlVZUVHDVZT1N0L6EdfHixR49egCAiYmJVCqlb21KpVIqlfbu3bu0tLS599bU1ISHh7u7uxN5dejQQSKRFBUVcdV3PS/QXoRVW1srkUj4fD4ADBs2LC0tjX7p4cOHo0ePJlN1NbdFgkKhiI6OHj58OJGXmZmZWCzOzs5muft6GtIuhHX79u3BgwcDgIGBQXBwcE1NDf1SZGSktbU1ADg4OBw9erT1bcbHx4tEIrI2YWhoGBAQcPfuXRb6rqdpdCwssqBAHu5cXFzi4+Ppl2Qy2bx588jAM3369IKCAg3aT05ODggIIAMhj8cTiUSXL19mrvt6mkWXwsrNzZ00aRKRTkBAQFlZGf1SbGxs586dAcDCwiIsLExLQ+np6QsXLjQyMiJzrwYrF3rYQGfCioyMJMsE9vb2R44coc9XVVUFBwfzeDwA8PT0/Ouvv5iymJOTM2/ePAMDgxEjRjDVpp7m0IGwnj17FhAQQAaqiRMnPnnyhH4pJSWlf//+ZMdGIpHI5XJmTd+9excA3NzcmG1WT2O4FlZcXBxZcDI3N9+zZw99Xi6Xh4SEGBoaAkCfPn2SkpLYsF5UVEQWXdloXI8qnAqrpqZm8+bNPB7vzTffTE9Pp88/ePBg1KhRZEEhMDCQvbVNpVIpEAgoilJ98NTDBpwKq6qqiqwpqO66HDhwwMzMDACcnZ1Pnz7NuNFJkyZ17tw5KyuLHHbq1AkAHj9+zLghPapw6o9lbGxsYWEhl8vLy8vpk7a2thUVFf7+/snJyePGjWPcaEFBQU5OztOnT8mhvb09AOTn5zNuSI8qXHuQ2tvbl5aW5ufnW1lZkTO+vr5XrlwZNmwYexZBRUkdOnQAvbDYh2sP0iYHDPZU1diifsTihnYhLC4t6oXFDa++sMi9r6CgoMlDPSzx6gtLP2LpBK6Fxf2AoReWTtCPWHpY4XURFj1G6oXFDa+FsCiKys/PR0QAcHBw4LgDryevvrAMDQ0tLS3r6uqePXsGAKampkKhsKqqqqysjLM+vIZwLSxbW1s+n19cXCyXyzkz2uQ0S7/iwCpcC4vP59va2iqVSuLBwg2vwPz9yZMncXFxb7zxxsqVK69cuaJUKnXdoxbQQVIQXa2RvrzCQsT3339/3LhxiYmJ69atGz58uL29/axZs37++Wdyf2+HvBbCetn3oUNDQ0+cOGFtbX3kyJHg4GB3d/eioqKoqKj33nvPzs5uxIgRGzduvHPnjq67+QKvo7BerhErMzMzODgYAH744Qc/P7+QkJA7d+7cuXNn06ZNo0ePpijqwoULK1as6Nu376hRWZ99BmfPAofT12bRQeI17v+vEyZMsLa2fuutt8jhS7RdqFQqFyxYUFZW9u67786aNYs+7+7u7u7uvnz5cplMdvLkyaNHj967lx0f3zU+HrZsAaEQxoyBqVNh6lRwdKx/S20t7NsH06cDyVp3+jS4u8OJE/DPf4JAAABw7x7k5oK3N0Nd5963cO3atQDw1VdfcW+aEBERAQBz587VVQdaz/r16wGgc+fOLeYKkMvx2jWUSHDIEKQoBEAA5PFwyBCUSPDaNZTJkM/H996rv37WLDx1Ch0ckA66i4jADz9krOevxa2wvXWgldy+ffubb76hKGr37t10Rp3m4PNhyBBYvRquXYPMTNi+HSZMAENDSEqCNWtg6FA4dw5cXeHhQzh3jovO6+BW2OTcubi4OC8vj07pwR7V1dVRUVE2NjY3b948ceLExIkT2baoGTU1NXPnzq2urv7444/psN5W0q0bBAVBUBBUVEBsLMTEQFwceHoCAEilEBAASUnPL96+HQwNAQCSksDCgrH+t5cRSyqV9u3bd+rUqZcuXWLPdHJy8tChQ/fs2fPs2bOCgoIpU6asWrVKoVCwZ1FjVq1alZKS0r179w0bNmjciFAI06bB7t2Qng7GxgAAAwfCmDGwZcvzaxwcoGNH6NgR/vYVZwjGbqqtJj09HQC6d++uevKLL74wJh8dwNvb+//+7/+YNUoSIZEo+969eycmJkqlUoFAAACjR49WDZptD1y4cIHP5xsYGFy6dImpNp89w549n/8yahS7cyzdREIDgImJSXFxsep5kp6P5JYBgP79+zOVnk81EVJgYGB5eTk5HxcXR6LBOnTocPLkSe0NMUJ5eXnPnj0BYOXKlQw2SwsLESMiEOCVExYirlu3ztjYuMnkVaWlpVKplGQEAQAXFxepVFpZWamxLdVESMeOHWvwan5+/oQJEwCAz+dLJBKFQqGxIaYgCQ0HDRrEbFRtZSXSQlUq8csv8c4d/PxzrK6uP3nlCraUfawN6EZYGRkZvr6+RDqGhobvv//+vXv3VC8g6fl69+5NrrG3t5dIJA1GuBaRyWRz584lLcyYMaOwsLDJy5RKZUhICEl1NHbs2NzcXM0/mNacPHmSoigjI6OUlBQ22k9Px8BAlErZaPsFdJnGiCSvIom1SfKqBlMKkp7vzTffJOIwNzcXi8WtDGI+depUmxIhnTlzpmPHjgDQuXNn1TRdXCKTyUhii82bN7Nk4swZBMAxY1hq/jm6z+iXmZkpFotNTEyIeppMrH3q1KmxY8eSC4yMjAIDAzMyMpprsLKyUjURkporG5CXl+fj4wMABgYGOrktzp49m/wFGE+zQ5OQgAD41lssNf8c3QuLkJeXJ5FI6PDoAQMGNJ6537hxg07Pp5qpRpXExERyA9UsEZJcLpdIJESUIpGIy9y4+/fvBwChUMhgSrDGJCYiAA4dyp6FetqLsAhk5k6e1ADA1dW18cw9LS1t6dKl1fSc828aJEK6fv26xt04ffo08WB2dnbmpuxFTk4OWVtv7gvDFDdvIgD268eqEcT2JiwCmbm7ubmpztzV53d88ODByJEjgblESNnZ2V5eXuS2GBISwmrNC6VSSdbWp06dyp4VQloaAmCvXmzbaZfCIpCZO53WgczcVesJ0ISHh9OJkM6cOcNUB+rq6ujbop+fX1ufSVvP9u3bAcDOzo6DB9LMTATAbt3YttOOhUVDEmvTM/eAgAB6bSI/P//tt98mL/n7+7MxJYqOjiY3qS5durCRcfn+/fvkWxEZGcl4443JyUEA7NSJdUMUIrZq60fXXL9+XSqVHjhwQKFQ8Hi8yZMn+/r6btiwITc319LSctu2bXReU8Z59OjR7NmzL1++bGRktHHjxiVLlrTp7TKZrLKysrKysrS0tKysrKqqqry8vKSkpLKysqKi4scff7x///67775LnHnYpqgI7OzA1hYKC9k19NIIi5CRkbFt27Zdu3ZVV1dbWVk9e/bMx8fnp59+ogvpsERNTc1nn31G7llTpkyZOXNmbW1taWkpUQyRTlVVVUlJSXl5eWVlJZFOVVVVZWWl+padnZ3z8/OvXLkyYMAAVj8CoawMLCzA3BxKS9k19JIJi5CdnR0UFBQTE9O7d+/U1FRSfoIDDh8+HBAQYG5unpub2/p3WVlZmZiYmJqaWllZCYVCU1NTc3Nzc3NzEuF48uTJ5OTkN9544/z582SPnFVqa9HbO0cgqImL686qoZdSWABQVFTk4OBgYGBQUFBgbm7Omd3Ro0efP39+2LBhgwYNMjc3NzExMTMzs7S0NDU1paVjYmJiYWFBS0d9g8+ePRsyZEhmZmZQUBAZEVkFEfl8PiIqlUp2v5Csz+JYgywH/PHHH+yZOHPmzJo1a+i1+4KCAoFAIBAImtt21Izk5GSy8fDzzz8z2GxzkKW+xguBzPJyFBtvkqlTpwLA0aNH2TMRGhoqkUj+97//kcOoqKi6ujpfX19bW1sGrQwYMOD7778HgMWLF9++fZvBlpuE3HBra2vZNcOqbFmFRNLZ2tqytLNWXl4uFAopinr48CE5Q5LRR0REMGWiqqqK/v29994DADc3t5KSEqbabxJSulazolet5yUWFiKS1XmWnBHI5h1deCcnJ4fH4xkbGzP1j09LS/Pw8Ni1axc5rKysHDhwIADMnj2bkfabg5tM9y/xrRAAyMIpS3fDX3/9FQDmzJlDHyqVyqlTp1owFHJw7dq11NRUsVh848YNADAxMYmMjLSwsDh48OCOHTsYMdEk+lthy5w9exYA3N3dGW+5uLjY0NCQz+c/ffqUnBk6dCgw/azw4YcfAkDXrl3pp4GDBw8CgEAgYG/zm3h/sF0W9OUWllwuJ/PoBg6o2rN7924A8PX1JYcZGRkURVlYWGjjJN2Y6upqoleRSETvc4vFYgBwdnZmaRpE6qv973//8/b2ZvzvRvNyCwsRFy36dOTID3buZNiHiRRf2bt3Lzn85ptvAOA9Oo6YObKyssh3Y+PGjeRMbW0tWUmZPHkyG86GZF+fRJcIhcIdO3aw4bvx0gvr4EEEwNGjmWwzNzeXz+cbGhrSu9p9+/YFAMaD0gjHjh3j8XgGBgZxcXHkzKNHj8iz27fffsugodTU1ODgYGNj4y5dupw9e5ZEbQDA+PHjGa/H/tILq6QEDQ2Rz0cG1yy3bt0KANOmTSOHN2/eBAA7O7va2lrGbLzIF198AQAODg60X9Dp06f5fD6Px9M+Li09PX316tW0fxsA/PDDD+Sl33//nSjY0tJS+xLJqrz0wkLE8eMRAJlbXUJPT08A+O2338gh+a8vXryYMQONUCgU48ePJ3co2iFbIpEAgL29vWZLA4WFhWFhYV5eXvTWja2tLUngphoClJeXR7sezZw5k6mJ3asgrP/+FwFw1ixmWsvKyqIoSigU0nGtPXr0AAD6PsUSeXl5JKzoiy++IGcUCgWJeRw+fHjrYwxLSkrCw8NFIhEJfyKjUUBAQHR0dF1dHUn1Y2RktGnTJtUJ3J49e8iWq6Oj41+nTmn/cV4FYWVlIUWhhQUyEuBJciXQSY5ILolOnTpxELRz8eJFUgD20KFD5ExRUVHXrl0B4N///rf691ZXV0dHRwcEBNDb3kZGRiKRKDw8nP6GIGJlZaVYLCZjmKenp2qd24cPH3p7e8/u1QsNDTEgAEtLtfksr4KwELF///qYce0hflHR0dHkkLj1LVu2jIGmW8GmTZsAwMrK6v79++TM5cuXDQ0NKYr6/fffG1+vUCji4+PFYjHJ4QMAPB7Py8tLKpWquamdPHmSjI6mpqZSqZR+KlQoFCXbt6OxMQKgqytqsaXxighr5UoEwE8+0bYdUubeysqKbP4rFAryD0hMTGSgl61AqVROnz4dAAYMGECvmZEtanNzc9VVzdTUVIlE4uLiQk/J+/TpI5FIMjMzW2NIJpPRPrcTJkx4IZjg9m0cMgQBkKJQLEaN/CBeEWFduYIA2KULarkis2rVKgB4//33yeGff/4JAN27d2c1SqcBMpmse/fuAPChSo4Of39/AOjXr19aWppUKiW7ioQuXboEBwdrtpL+66+/Eo9+Ozu784cPP3+hrg5DQlAgQADs2xeTktra8isiLKUSO3dGALx5U6t2yP8vNjaWHH7wwQfAdNaX1nD9+nWS1IkeKUtKSkgKGhoHBwexWKx9fEdubq5IJLIXCmu7dkV/f1QNSLlyBXv1QgAUCFAiwbZ4kbwiwkLEiAiMiUEVPxQNSUtLI344tbW1ZE08NTWVgf61kX379h08eFD1DEnRY2pq6u/vHx0dzeCimlKpfLhvHwqFCIBOTvj39woRsaICg4Lqs5r+vQ/RGl4dYfXti7/8Uv/72rWo/WYxcZro37+/tg0xxBtvvKG6y8Q8mZk4alT91CowEFWeJfHUKfT3f01HLGtr7NOnfiBfuhT37dO2wXnz5gHA+vXrte+b9ly/fh0ArK2ttQ/yVodCgVIpGhk1/VRYUYG7d+OSJbhhAz54oL6ll9sfSxWBAIKCIDj4+ZmrV+H0abhwAZKSICkJbtyAzMz6n7w8kMmUMpmstJkwqOrqajJikVmXziFxFgsXLjQ1NWXRDI8HS5bAtWswaBBkZsKYMbBiBRDPLUSYMAHS0sDfHxwdwccHbt1S1xR76ucYe3uUy3HwYExIqB+xBg6sT3fe5E+3bg093czMzKytra2tre3s7BwdHQHAw8ND1x8LEVEmk5mamlIUpbqeyS7V1bh8OfJ4CIBLliAiHj2K48c/vyA8XP1ehw7ScbMHnw8//ABBQeDlBQAwbBjY2UFlJdTUAAAolVBSUn9leTlYWsqtra3lcjlduLC8vFy1NVtb20ePHmVlZZG1bx2yd+/eysrKSZMmNXgwZBEjI9i0Cfz84NNP4fPPAQBSUuDv0h4AAF5esH69uhaaU5yfn5+1tTV7jmCMY29f/8vChejoqMkcq6ysrLi4uLi4OD8/PyMjg/g9Dxs2jO1IKfUolUrimEBvBuiGDRvw66+fH967h336qLm82TlWeXm5TCZ78OABM98ADtm4EerqNHkjfSvs0KFD9+7dIyIiXF1dExMTly1bxnQf28CpU6fS09O7dOkyefJkHXYDBg6EhITnhwkJMGiQuuubU9zChQsBYMeOHQyKng1qanDFCpTJMDn5+cnMTGbcs+hQ0vDwcAaa0wji07JhwwZddaAepRLHj8clSzAuDn/8EXv2RLVr/c0Ka926dQCwfPlyFvrIJAsXIgCOG8dW+6GhoQAgFAp1skz66NEj4sual5fHvfWG1NXhvn346ae4cSO25HHarLBI8NPMmTOZ7h2TfP89AqCJCV69yqIVzkJJG/PVV18BwLvvvsuxXe1pVliXL18GgMGDB3PZmzZx8iQaGCBF4a+/smuIs1DSBtTU1JBUqNzkQWWWZoVFiihZWVlx2ZvWk5aGVlYIgKtXc2EuPT2dxKlu376dC3uIiHjgwAEAGDBgAGcWGUTdAinxVWUv96bGFBdjz54IgNOna+sn03o4CCVtwIgRIwCA2RgHzlAnLBLZmNR2XxxWqavDceMQAAcNemGflAPYDiVVJTU1FQAsLS3LOf6QDKFur5B4J2ZmZrZ90QMyMjK+/vprDd7YIitXPv7zT3B0hOhoaCmrGcNs3rzZy8srOzv7nXfeYbvKIdkcnD9/foup29opakSXtHbtRQ+Pku+/10CwO3fuXLBggaZyb5YdO3YIhcKRIw+xkL+4VWRnZxPv8rVr17JnpbS0lEzpdLLGwQhqN6FJXJVGRezmzJmz78VdlaSkJC0zS8XFxZGwgl9oxytdwGAoaXNs27YNAMaxtzrHPmqFdewYAuCECRq026lTJzpfGeHrr7/Wxsc3MzOTxOx++eWXGjfCFFqGkraIh4cHADQZlvOyoFZYt28jwPO6nK3m7t27Xbp0aXBy5MiRsao+r4gXL15MSEhoTYMlJSUke8K0adPaQ61KhUJBqpS3KZS0lZw5cwYAHB0d2Yvo5wC1wqqsRIpCQ8M2+aQiYnV1dYOgkaqqKjMzswYPOAsWLNi5c2eLrcnl8ilTpgBAnz59uF/7bo6ioqJu3boBCyGHxLVwzZo1zDbLMS05+jk6IgBmZWlvqfFuV//+/e/cuaN65uLFi3SgJs3SpUsBwM7OrvFLuoUOJY2KimKqzSdPnggEAgMDA7ZTObJNS3neR4yACxfg3DkYPZrxB1K5XM7n81WzjS9evHjKlCl05RwA2Ldv34IFCwQCQWxs7GgW+qAlW7duXbp0qbm5+dWrV+lCw81RW1tb3DwymayoqOjRo0eFhYUikSg6Opqbj8ASLXmQurjAhQuQmcmGsOisFTQ7d+5UPQwPD9+yZQuPx9u1a1c7VBUALFmyJDExcf/+/dOnTyelFVW1UlRUpHrYwEO1OYyNjel6sy8vLQnL1RUAQBfufmvXrpVIJIhIURSJOm+f7Ny58+LFi3l5eSQzjBoEAoFNS5SXl48dO/b48eP0UtZLSitGLADQaPFdYxQKxccffxwaGsrn852cnLKyspKSksaMGcNlH1qPubm5p6fngQMHXF1d+/fvb21tTavE1tZWVTStLM3i7e199uzZ/fv3L168mO3Os0gLc7DMTNy7F7Uog9tWysvLyRzL2Ng4MjLyo48+ApX8nO0TMrtiqprhb7/9Bu0pUFYzWhqxrl6FI0dg927w8ACJBDp3ZlXlRUVFfn5+Fy9etLGxOXLkyIgRIyoqKgAgMTGRVbvakJ+ff+/ePTMzs8GDB6u/sry8vLkZWE1NzS+//EIumz59uqOjY0pKyuXLl4cPH87+J2AHdaqLicGBA/HePaytxYMH0dUVGU1G3YCMjAwS3uTi4pKWlkZOktoyXbt2Zc+ulpABZuLEifSZpKSkZcuWzZ8/38/Pb8SIEX369OnYsSMpjdQcPB5PtXDLihUrAGD+/Pm6+EDMoFZYvr6omid4zhxkbZPu8uXLZHN32LBhdM5+RFQoFGQOq3qyXUFmQqrBDsRzqzFCodDZ2XnAgAFjxoyZMWNGYGDgihUrNm3atGfPnkOHDqkKKzMzk8fjmZiYsFGMmBvUCsvVFVX3+9aurffXDA1FExPcsYMpL7vDhw+TyHFfX9/SRhkKvb29AeDYsWOM2GKcPn36AMDFixfpMxkZGVu2bPnpp5+OHDkSHx9/+/bt3Nzctu78kC0jqVTKdH85Qq2wBg1CVbeN5ctRKkWlEp2c6vPa9OiBrdvsU8Pu3bvJgtaCBQua3B1bvnw5AJClh/ZGfn4+RVFmZmaM7+uRWna9e/fmMucbg6gV1tKlSCewr6tDd3e8fh1Pn0YzMwSoD+wnDsIa7T8olUriJkBRlBrdREZGAsCkSZM0MME2pG90ZRQGqaurI1kqz507x3jjHKBWWPn5OGwYLlyIISH41lv41VeIiBMn1g9XJJESAPL5aGKCn36KZWWtN1xTU0PyBBkYGNCl1Zrk4cOHg3v3XtEuhRUUFAQA69atY6Nx8q1755132GicbVpax6qtxfPnMSoKyWNabi4aGLyQtIWi6uVlYoK2tvL9+1szdJeWlpJ1ajMzs+PHj7fcTXt7BMDWpW3lkjlzznh4LExIuNjypW0nOzu7HUWrtpE2pjGqqcHZs9HKCs3M6pM2v/ijBPDs2/eq2vjRnJwcEqbXsWPH1kZqTJ6MAPhi6kSdk5+PFIWmpszkl28SPz8/aPfrw02iaX6sW7fwP//BESPQyAgtLen5VhKfT1GUiYnJjBkzXsjw/DepqaldunQBAHd39wYupuqQSBAAP/tMw96yQ1QUAryQNIpxYmJiAMDV1bU9uDe2Ca0Tr1VX4+nT+Omn6OSkpKhZfy8DGhoampqarlq1SrXA35kzZ6ysrABg+PDhbYugiolhvsaX1nz8MQIgo/W5GqJQKIg74SlGiiNwCJMZ/YqfPt2/f/+sWbOsra0tLCyMjIwoirKzsyNFb6OiokiK6X/84x9tLieZn48AaGbWVl9WVunXDwG0qd7QKr799lsAmDFjBrtmmIatVJEpKSnfffedp6enQCAAgF69ehGHvqVLl2o4qnftigDYbsKhioqQx0NTU83qNrSB3Nxc4lPa5NSi3cJ6DtKqqqpTp04NHz7czs7uo48+0rwhf38EwJ9+Yqxn2vHHH+ymT1Jl5syZwHIkI+OwnjXZ2Nh4/PjxHh4ehYWF/fr107yhYcMAANqNm0NcHACw4VfbBIsWLQKAXbt2sR1+zSAcpeMm0fpaJZ4kwrp6laEeacu5cwAA3t5c2Bo3bpybm1t2dvaJEye4sMcEnApLszQQ9QwZAp6eHP0nW6K4GFJTwdi4Xu1sQ1EUqeoTFhbGhT0m4EhYrq6uoKWwzM1BKgUnJwgNhbt3GeuZRigU8OWXEBgIxsYcWVywYIGxsXFMTExWVhZHJrXj5RmxtmwBsRhsbYHHAz8/OHyYsc61mpoaWLQI0tKgQwdYuxb694fUVI5M29ravvXWWwAwbdq0qKio6upqjgxrDGePCSSUQCaTafLm4mLs2BHpFHC3bqGrK4N9ayXl5Whigt7e9X5oc+dia/Y5GWHbtm18Pp+ud0LKPMfGxrZbpxruaumQFWQNB627d8HNDayt6w89PKCiAoqLGetcq+nYEZydITycO4sKhWLJkiWffPKJUqn84IMPQkNDvby8SkpKIiIixo8f36VLlyVLlty8eZO7DrUSziRM8pVrmEHl/HkcO/aFM507I+fOyuXl6OKCOTno4oKFhVyMWKWlpSRvhZGRkWqu+bt370okElKIldCnT5+QkJD248DNnbBICoZNmzZp8ua8POzU6XmVy+xs7NgREfGzz/DPPxnrYvMoFHjpUr2wEHHLFly0iHVh3b9/n/g929nZxcXFNdWr+krjpGAnAPD5fB8fnwaV63UCd8LaunUrACxevFjD94vFOHcu3rqFV6/i6NG4YwcmJNS763h54enTjHb2OTU1GB6O7u7I42FSUr2w6upw0CAcMACPH8etW7Gpf7q2JCQk2NvbA4CHh8eDlooDVldXR0dH+/v707FAFuLA0JgAAAzQSURBVBYWAQEB0dHRch3trnInLFL+b4JGadwQEZVKDA/H+fMxMBBjYhARy8tRKkUHh+fyYnT0KirCb7993ny3bhgTUy8sRExIQIrCnTtRIECKwn/9CxkMqNm7dy+RyMSJE589e9bg1cjIyLfffvv3339vXD2quLg4LCzMy8uLTrXi5OQkFotv3LjBWOdaB3fCIhGCbm5uDLdbVoYhIWhj81xeZ89q2eTDhxgcjJaW9U0OGIDh4VhXh3V1eODA88v++AMzMzEkpN7l0cYGw8K0DVyi4wAAIDAwsK6urvE1ZNYFANbW1oGBgefPn2/8bJiWltbkJCw3N1er/rUa7oRVWVlJUZShoSErPmslJbhmTX1NAQCcOLFEoyooSUnKd96p976mKJwwoVX32IwM9PWttzxqFL6Y86sNlJeXT5s2DQAMDAzUVCooKioiwxItGmdn5+DgYDrKl0apVJ4/f/6DDz4gbnCk5cmTJ7fBxVJTOK2w2rFjRwB49OgRWwZKSzEkBK2sUCAY5ezs4+Nz5cqVVr41Pj5eJBKNHn0DAAUC9Pdvc32eyMh613yBAIOD2+xO8/jx4yFDhgCAjY3Nn627p9+5c0cikZBdDfXPhqqTMCMjo48//pjtPJScCousHbMez1RcnP7dd3Rql6lTp6rxrK+trf3ll18GDBhALu7Vy3fZMtRY+YWF+K9/1QeX9O6N8fFPWvnG69evOzk5AUCPHj3uqi3X1pg2PRsWFBR06tQJAG7dutUmK22FU2GReK+fOPGpKiwslEgklpaW5G/t4+Nz7do11QvKysqkUilxwAcAe3t7iUTCSEh7fDz27YudOmUJhWYBAQH5+fnqr4+KiiJL6iNHjtSm5kVVVRUZlohzJTSzQP+Pf/wDAA6ozhZZgFNhkVoVq1at4swikRfJ/kBRlEgkSkpKysvLk0gkNjY25K/fo0cPkoyPQbs1NSiVRhJXbDs7u3379jW596JUKkNCQng8HgAsXLiQqdsTPQkjz4Y2NjaqAf6rVq0CgC+++IIRW83BqbD27t0Luqi+l5eXt2zZMjIqUBRFf6FHjhwZHR3NXgDM/fv36TR/I0eOvH37tuqr1dXV7777LrlzhYSEsNGBO3fufPnllw0SMEdFRQGASCRiwyINp8I6d+4cAHh5eXFplObGjRtketG9e3eRSMRZEa/IyEhSdlAgEAQHB1dVVSFiQUHByJEjAcDMzIzjKuL37t0DgMaJ+JmFU2ERXyJHR0cujRKOHTtG7n3Ozs7xbAfWNEImk4nFYnLL6969e2hoaNeuXcnq5XUOsyUS5HK5qakpRVEaepq0Dk6FpVAoSExYRUUFZ0blcrlEIiH/VJFIpMPyiwkJCaSWCVlV9/Ly0lXs/NChQwGA1S8Yp8JCRJKzr8Fsgz3y8/PHjx9P5jESiUTn8cS1tbVBQUEmJiadO3duvCHDGQsWLACAHTt2sGeCO38sAgNRFa0mPj5+4MCBsbGx9vb2J06cWL16NRm3dIhAIFi9enVVVVVpaan65JGsQsKlbt26xZ4Jrv/Q9vb2dnZ2ixYt2rhxo0wmY8kKIm7dunXcuHFPnjwZNWpUcnKyj48PS7baip2dXceOHcvKymjv9bKyskuXLhUVFXHWBw6Exd2t8OnTp/PmzaMoqkePHsS0hYVFUFAQ47UeS0pKSIQnRVFisbgd1tAid2f6YZC4QP7222+cdYBUkre0tGTPs5kLYdXW1m7ZsoWsFq5cuVIul0dHR/v4+NCuHUOGDAkPD2dEATdu3CDCtbCwaLf1/v79738DwLd/pxNZuXIlAHxF8tpxBVkByWKi/FaTsC6smJgYZ2dnY2NjHo/XYKXu3r17wcHB1n97sjs4OAQHB2uz8R4eHk5WQQcNGtTeSoWpsm/fPgCYPXs2OSRZlv38/LjsA5kbHD16lKX2WRRWenr6pEmTSK1sMzOz5nZyysrKwsLC6G1gHo/n4+MTHR3dplG6qqqKhHQCQEBAALP7M4yTlJQEAH369CGHd+/eBYBu3bpx2YdPP/0UANavX89S+6wIq6QE33knRyAI4vP5ACAUCluTpfPatWuBgYF04auePXuGhIQUFha2+Mb09PT+/fsDgLGx8Z49e5j4BOxSVVVlYGBgYGBAVuHlcrmJiQlFUVyW+STba+wlOGVYWAoF7tmDVlZobKykqEqA0aampqrJ9Vvk6dOnISEhJFaMaCUgIEDN8vThw4eJF5ubm1tKSgoTH4ILSPkd2mOYlEvhbJcJEa9duwYAffv2Zal9JoV18SL27l2fq/vvlMoFmuXPVCgUsbGx/v7+ZMwjE/ywsDDVe1xdXV1wcDB5Apg2bVpj3/D2DKnP+/PPP5PD9957DwBCQ0M560BlZSWfzzcwMGBpnZYZYT1+jDNmoEBQn5ybTtT9ySdNuGy3ib/++is4OJh2YbOyshKLxZmZmY8fPya+uQYGBiy5BrDKN998AwDLly8nh5s3bwaAoKAgLvvQq1cvAEhOTmajcW2FVVODX375PEU3n18vKVNT3LyZkR4iIlZUVPz444/Ec5dM8M3MzADA2dn50qVLjJnhkMOHD4NKzNLJkycBYNSoUVz2gaz2RUREsNG4tsLq2RMpqn6Uon9MTZGlGjBkgm9qajp37twxY8a0n8DftnL//n0A6NSpEznMzc0l4zGXuRjWrFkDAJ9//jkbjWsrrK1bUSh8QVUmJmypiqawsLC2tlbnO8raoFQqiV8r7YtMip9lZ2dz1odDhw4Ba7Vk1O0V3r8P27Y9PwwNhbQ0WLEC4uPrzxw7Bn37wpQpQNfGFgphwwZYskRNqwxga2srEAh0vqOsDRRFkfD51L8zIZH9u5SUFPaMkqqiNGSNhiWL6v43T59CTMzzwxMn4PFj2L8fgoKgqgoAICkJbt2CvXvBwQEoCkxNYdMm1lX1ytBgJ5jtjeHY2FgXF5ezZ8/SZ1xcXMzMzHJyctjY/9bkS+/nB+vWPT8UCuH4cbCxgf/8Bz76iLGevfJwKazt27dPnjy5oKBAtUhnTU2Nubm5tbX148ePGbfYQk3o27dh4cL635OT639ZvhzeeAPmzXt+mbs7FBYy3rdXnAZ3IpaEpVAoli1b9t///peiqODg4PXr15Pzubm506ZNy83Nffvtt+n9NCZRM/9KSMC33sLk5PqfMWMwNhadnLCmBo8cwXHjcPVq/P57NmZ+rwXkBiQUCslTSEVFBY/HEwgEba3FqgbV9Fr0Yiwi3rx5kzjdu7i4MO62RGhBWKq5Yd5++7mwEHHqVBw6VC8srSClLjMyMshhz549u3XrxlRihebSax0/fpw8kHp6erK3XqP5g9X27TpPXvzS0+D2d+vWrQcPHpCxREsuXLjg6el5584dDw+PxMTEUaNGkfNbt24ViUSlpaVz5sz5888/iVcWK6gR3ZMnePjw88Njx/DRI/zlF6TXj2Jj8eXZ9m2PfP755wDQwE1Ne5pMr1VTU0NiKNQXSmYKDRdIQ0PRyws5dKZ9NYmIiACAmTNnMtWganotsVhMp/MrKiry9vYGAKFQeOjQIabMqUFDYZHClCtXMtuZ147k5GQAcHJyajFxSGtoLr1Weno62W/u1KlTYmKi9oZag4bC2rcPAXDuXGY789pRXV29ZMkSQ0ND7ZPS0um1rK2tVdNrnTp1ivirDRw4kMXMZI3QUFhxcQiAnp7MduZ15MGDByKRSDXx0Pvvv3/u3Lk27YReuXLF0dERANzc3NLT0+nzYWFhpOUZM2ZwGX2OGgsrOxsB0MGB2c68vmiZlDY+Pt7IyGjEiBH0lrZcLg8ODqYnW9xv2GsoLKWyPqNrWRmz/Xnd0TgpbUJCAh0/V1paKhKJoFHZAS7R3G2mV692VUr3VePatWtisdjOzo7Iq/WTsBbLDnCD5sKaOBEBkNvUTq8djSsDmJiY+Pv7N1cZ4MKFC60vO8Aqmgvro48QALduZbAzepql8SSsc+fOYrFYNX7pwIEDJNx8woQJOg8t0VxY332HALh0KYOd0dMyDx8+DAkJofNfkEnYhg0bSNg+NF92gGM0F9axY/dGjly0aJGEuc7oaQMNJmFmZmYCgWDXrl267lc9FCJqtsl448aNwYMHe3h4sJsNR49aampqjh07FhERMX/+fAsLi7Fjx+q6R/VoLqySkhIrKyuhUFhWVkbf+PXoIWjuNmNpaWljY1NRUVFQUMBgh/S8GmgV6MJACXE9ryhaCYuUB+Imoaielwv9iKWHFRgQln7E0tMY/a1QDyvob4V6WKGFgFX1dO3aNSgoiBSb0KNHFc0XSPXoUcNLnLBFT3tGLyw9rKAXlh5W0AtLDyvohaWHFfTC0sMKemHpYQW9sPSwgl5YelhBLyw9rKAXlh5W0AtLDyv8P9LpvcExwJEPAAACjHpUWHRyZGtpdFBLTCByZGtpdCAyMDIyLjAzLjIAAHictdFdSBRRFAfwO3dn7oyuMzu7O+7sR67jrokYYUUfEOTePsAMNrMIQrFuiu4UJEo99OhLbISR1kO0FhQJEWUf9NJDOYMY1VNSENXDSqAgQRZBgpTWzJmMHqK3Llz+vzOcOTN35tPYaBE5S0be4pyddnads/s5gph7zUeMajd5Yqx3809AB8Ze+jgJGW4t0lq39BEveUJNqLl/Yrn37/k/ZhLkpeQlFhHciLnlc4le/v4Sv863XPo5xGMOI+xzhiBeQAJBgohEiUklJi4pZaV+E/vLWJlsYllhSsDEAZWpQRYMsVDYxGGNaeUmLo+wiG5iPcqiMRaLmzieMBIranGiwqhIIl8lz1UaCFfxXFUKEQ4FORQQmSyxuMKiqnNfiCVjSJMI9vEC4UhJqb9MlkhYK4/oISERjyUrRCKIATXICaIkKwEhqEb1EInFlYCDO5z332Gl0VKv/YCoDW5R/ypsH2vtGHNdNddmd40PW66nepvt/epq2/XB/Edr6XULmG+us0716ODZrcju2/4G+keer8vMvS+Ct2W/Z7KZFPTMzCh0c2c/+ErqCL0wMQiW9lyi9yc6wd2fB+mZLQJYG2mkd78+gzkbh9N0ZnETvNv8vXxmzdrzYA3pDcaNXMb1UmTUKv7oAd/+MG3VFHTqurGryZ5soWC90GLPfTsHni9iO3n8Fjj4qN5q0i+CX84qVv70bvA4S2cOXdPA3Qsype0x8NThnXSktQDPmu4bom/b34EfLz6kl6Nt4IENg/RpTRb6V3XsoF9OmODc5Fn7xckcnPHJUN5e2HcdfDNbsFcerYbz7hq4auf2HoA5kZ8XiK9qUBaEVQAAA0R6VFh0TU9MIHJka2l0IDIwMjIuMDMuMgAAeJx9Vstu3DAMvO9X6AfW4EsSeeghrwZF0Q3Qpv2H3vv/6FBOZAcVulkTtnYsDcnhIJeSn++PX3//KfMjj5dLKfSfb0SUX0pEl28lb8r90/OXW3l4vbt/X3l4+Xl7/VG0FhO8g7+P2LvXl2/vK1weylW33molLbSxUauMGxqf41VJoGxKAWy50ibCZL5A6r6laTOKcuVNuHmnBdJ2pBhLs9y9E25lgayJ5M1rbWHjne7d+gLZEklba1WaD8atsaxO7+UlfycyEs3dm0etq4y83LDawtVHQh0slwkFDuctOjONs6tWZlsAGV0qsokiDylX24iFWVfI7JBuzaSrJ7KKRrQVMltkWw8mjqwRknFf0WQdyCqhVkcNnN1XXWcbpzOHBmXqqH/EqkZcR0ZokEIV6AD3aD1WyDaqRI3IB1LQVl11nTuQqcluLdkFBBfLcmaHwE6rpJKAVK2x3DJ2JXV3NLGkPLz7qvBCuzrZmlNHESCUWJ4ub0MkHTMEVW/A7dP0D/JtisjMobQKwt3XSH3TsTdrmm0VXmcktiPRbTFMHwaz0zqjOsrZ1Dlqpi6ituqQtF2d7IoZAzCa8kpy0nd5pCsYeipUPZbu4bvirHJVADvV8OXRgamsaM/YkXLi3VZFx/eWO8KuNLuDo21ZH90HiJrn75gkFdalb0mKCN1Dril2QLn1ZYF0dMcwv62C3bVu8MKB+BdqaTO2uXBgGLOlJoKxW0CHy1V4QWdJgFslWpnc0+3xg4vvvn7/cns8fJ1h2Uj98/MnPTw8F+cjGoHLDjdmXPWwXMbVDl9lXP0wz3z0wyENVxw+aLj4bHeWgflka5aB5WRfloEnP9iUZeBJEXZkGXiyhO3kI0zlZC+WgSdX2Ihl4EmXky8CT8aclBHkPP+WQSZnSc4IMjlLckaQo8TJGUEmZ0nOCDI5S3JGkMlZkjOCTM6SBUaQyRkjJCNMzpgVzhU9DwWXofmT+pM1tJ1KOJZTCgh6iGFXA+T6EZiqQNDJXlMYIDafUxmo5bHQ9wZM5up71yZxzWJnhnNTo70kR9OM97IdLbLBmU9lyzE4iz6f3/8Rwv3lL7ZcvADBERvpAAABmXpUWHRTTUlMRVMgcmRraXQgMjAyMi4wMy4yAAB4nDVSO25cMRC7SspdQCvM/4MggIHXpLIPELja3ifw4cPRJk+NxMfhcChd73+ut7ffn3xd8jHbz9t1v/3DPq77Fz/1OZ9iMdbtaU+93i/79XH//+uL5cf37WFbNNzWwzeTrZ8ATDl6PXQHRzog3WIssR6yk7ADxLvcXyzJOizaES5RQ9OIQ5NNZCQL/Kj2OJBSJ8Roi6BlnQYZ7os2G4XzQUzDeAqFo/IYK+GuKQwTsenpmzhZUVnmRHmcqQvM0m5V75fZrILY+Kp8NWSL4qXjr/s1Yzrpwvjd/rJuVrEceqcGbSsshpLC3gdyLzHIiCSBBI4Wox6tRNQHYUsLHj8YthExbwqiPgkgRYVFgVCADoizIyEOixPUQgDk1cMRLj3SHVME81HW6I4jQ9i209ylTgl+DGDODo0knzEdSYwozfWV2WnDrT1Be54K6TGC8YurBsnmuUKdYQfRyT/xZIZsx5jiEcyZWJhnwk7GBiquPgiC6dI6fRJPKNf9+y/H95MDsl3+kgAAAABJRU5ErkJggg==\" alt=\"Mol\"/></td>\n",
              "      <td>466.541</td>\n",
              "      <td>4.35400</td>\n",
              "      <td>0</td>\n",
              "    </tr>\n",
              "    <tr>\n",
              "      <th>2</th>\n",
              "      <td>Cc1cnc(nc1c2cc([nH]c2)C(=O)N[C@H](CO)c3cccc(c3...</td>\n",
              "      <td>575087</td>\n",
              "      <td>CHEMBL576683</td>\n",
              "      <td>Active</td>\n",
              "      <td style=\"text-align: center;\"><img data-content=\"rdkit/molecule\" src=\"data:image/png;base64,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\" alt=\"Mol\"/></td>\n",
              "      <td>527.915</td>\n",
              "      <td>4.96202</td>\n",
              "      <td>0</td>\n",
              "    </tr>\n",
              "    <tr>\n",
              "      <th>3</th>\n",
              "      <td>Cc1cnc(nc1c2cc([nH]c2)C(=O)N[C@H](CO)c3cccc(c3...</td>\n",
              "      <td>575065</td>\n",
              "      <td>CHEMBL571484</td>\n",
              "      <td>Active</td>\n",
              "      <td style=\"text-align: center;\"><img data-content=\"rdkit/molecule\" src=\"data:image/png;base64,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\" alt=\"Mol\"/></td>\n",
              "      <td>491.935</td>\n",
              "      <td>4.36922</td>\n",
              "      <td>0</td>\n",
              "    </tr>\n",
              "    <tr>\n",
              "      <th>4</th>\n",
              "      <td>Cc1cnc(nc1c2cc([nH]c2)C(=O)N[C@H](CO)c3cccc(c3...</td>\n",
              "      <td>575047</td>\n",
              "      <td>CHEMBL568937</td>\n",
              "      <td>Active</td>\n",
              "      <td style=\"text-align: center;\"><img data-content=\"rdkit/molecule\" src=\"data:image/png;base64,iVBORw0KGgoAAAANSUhEUgAAAMgAAADICAIAAAAiOjnJAAAABmJLR0QA/wD/AP+gvaeTAAAdF0lEQVR4nO2daVhT19bHVwIJk0AUuJXBAagTdeCCFLGCA4hWERxK9VaorbVcbQUHtNa3VopWpWJbWm9VtNWiVuytiqJQBacCImickVFUkNHIPAQCyXo/bM3lQYVMJ8F0/x4/HJKz91mJ/+xxrbVZiAgUiqpha9oAinZChUVhBCosCiNQYVEYgQqLwghUWBRGoMKiMAIVFoURqLAojECFRWEEKiwKI1BhURiBCovCCFRYFEagwqIwAhUWhRGosCiMQIVFYQQqLAojUGFRGIEKi8IIVFgURqDCojACFRaFEaiwKIxAhUVhBCosCiNQYVEYgQqLwghUWBRGoMKiMAIVFoURqLAojECFRWEEKiwKI1BhURiBCovCCFRYFEagwqIwAhUWhRGosCiMQIVFYQQqLAojUGFRGIEKi8IIVFgURqDCojACFRaFEaiwKIxAhUVhBCosCiPoKlP42LFjgwYN0tPTGzx4sKoMomgHCrZYAoHAz89vzpw5Xl5ezs7OBw8eVK1ZlFcdRYR15syZUaNGxcfHm5qaDh48uLGxMTAw8KOPPmpubla5fZRXFZSHlpaWNWvWsNlsAHBzcyssLETEmJgYIyMjABg6dOitW7fkqpCircghrOzsbEdHRwDQ1dUNCwtrb2+XvpWTkzNy5EgA0NfXj4qKYsBOyiuGTMKSSCTR0dGGhoYAYGtre+nSpefvEQqFISEhpBWcPXt2TU2Nqk2lvEp0L6zHjx/PmDGDKCYwMLChoaGLm48cOcLj8QBg4MCBly9fltGIR48excXFffHFFwEBAXw+XyQSyViQ0mPpRlhJSUmWlpYAYGpqeujQIVlqfPDggaurKwBwOJyIiAiJRPL8PdXV1cnJyWFhYT4+Pn379u045uNyuQsWLHhhKcorxEuFJRQKpeP0iRMnPnr0SPZKW1paQkJCWCwWAPj6+lZVVT1+/DgxMXHjxo1+fn7W1tadJhB9+vSZPHny2rVrt27dSuYBX375pSo+ndbx1Ve4cSOGhuKdO7h/PyLiwYOYn69ps17AS4WVnp7OZrO5XO4333wjFosVqPro0aO9e/cGgE5tEmn/Jk6cuHr16t9//51MLaUkJibq6uoCwH/+8x8FHqrNpKXhvn2IiHw+rl+PkZFYU4PffotZWRo27EW8dOX922+/lUgkW7ZsWblypQKrGGQI7+TkNGLECLFYbGRk5Ojo6PyMYcOGkbawE4cPHzY2Nt61a9eiRYuWLVtmbW09c+ZMxZ6uhQgEYGkJAGBlBdXVkJsLBgZw5QpMmaJpy17EyxS3ZcsWAPjggw+UkW1OTg4A8Hg8oVDY7c2pqaksFsvIyOjKlStffvklABgYGKSnpytjgFZRUYH//jdWVODGjRgbi6RF37GjZ7ZYLxVWfn4+AJiZmbW1tSlce1hYGAAsWrRIlsG4RCL58MMPAcDc3DwvL096nd8jxxBqpb4eP/8chUIsKMDoaOTzsbYWc3IQEXNzsUeu7HQ1Kxw6dCgAnD9/XuHaHRwcAODMmTPz5s3z9va+c+dO1/eLRKIpU6YAgL29fUlJifS6srJSYRteeVpa0NMTAVC53kPNdCWstWvXAkBISIhiVd+5c4c0OXV1dUZGRiwWq6ioqNtS9fX1//znPwHAxcWloqJCet3Y2KiYGa82YjH6+yMA/uMfPXP29zK6ElZmZiYA2NjYKLaqtH79egAICgqKjY0FgHHjxslYsKysbODAgQDg4+NTXFwsvVamU35VCQ5GADQ1xRs3NG2KfHQlLIlEYmNjAwDXrl1ToOphw4YBQHJy8uzZswHghx9+kL1sdnZ2nz59iC47XitgxqtLcmQkcjhoYICpqZq2RW66WXn/5JNPQKHlytu3b5N+sKamxsDAgM1ml5SUyFVDRkYG2Z2MiIhISUnR19cHgB07dshryStKVFQUAHzl6iqJj9e0LS8mR5jTxbvd+GORZaS4uDh5VzH++OMPAJgzZ05iYqJQKBw3btzzC+5d4+rqGhMTo6Ojg4ju7u4//PADj8cjq/laz6FDh1auXMlisfoFBbGebdT2EDZVbFpfvn5d2brdT3Z3dV/XqhSJRGT1PC8vTy45k37w7NmzRJrbt2+Xq7iU3NxcckHW1QICAhSr5xUiKSmJy+UCwLZt2zRtS2eq2qpWPlpJrqUXL6R774aAgAAAiIyMlP3xN2/eBAALC4vq6mrSD5aWlspe/IU4OTkBwIkTJ5Ssp4dTXl5OBgCff/65pm15ASWikrCyMHLdtbC6d00mTc7x48dlby2l/WBCQoJQKHR3d7eyspK9+PPcv3//+vXrxsbG3t7eytTTwxGJRE5OTtbW1m5ubps2bdK0OZ2533rfimN1v/X+X41/nag70c3d3Yq0qanJ0NCQzWaXlZXJqGuysnru3Ll33nkHlOgHpZBvOTAwUMl6ej5VVVWaNuHFZDRm9LrRK+RRSKO4Maku6XrT9fyWrtbVug//MjQ09PT0PHnypKenZ8cBuL6+voGBQaebdXR02tracnNzzczMPDw8xowZM3fuXA8PDzl/G50hTaC/v7+S9fR8yMJKT+Nuy91phdMaJY217bWGbMPJJpO7LyOLWi9durR06VLZ7bC3t+fxeA8fPlTJb+XevXsAwOPxWlpaVFIhRS6KW4v73+kP18D3nm+bRNY1apkCVseOHduvXz8/P7+OLwqFwpaWlk53isXi6urqX375pbCwcPr06WlpacRTWRkOHz4MAH5+fnp6ekpW9UrQ1tYWFxd3+fLl77//XtO2wJP2J973vItFxROMJ/xu+7suS+YIZyY0XldXN2rUKADw8PBQvpkhVZ06dUoltjFFU5Oqampra/P399+9e7di/pVdVPvkyRO5itTX10+YMWHk1ZEjs0fWtMvnQ8GIsBCxtLS0f//+APDuu+8q8wXl5eUBAI/Ha21tVaF5KiY0FLdtw8WLn7qy9Dx++eWX0NBQALC0tPT394+KikpNTe06aKWlpWXSpEkAMHz08IrWCnmfyJSwEDErK4v0g6tWrVK4kg0bNgDAhx9+qELDVExWFn7/PSJiQwOuWKFpa15AXFycjo4OAJBtMSnGxsaenp7r1q07depUp8asvb2dTJWsrKzu37+vwEMZFBYiXrhwgQyMZIliraysTEhICA8PnzFjhtRxdMSIEQCQmJjIqJ1Kcf067tqFiCgSYXCwpq3pzIULF4iewsPD29vbs7KyoqOjAwMDHRwcOu2PSRuzlJSUjz76CABMTU1vKOpVwaywEDE2NpbFYrHZ7CNHjnR6q7a2NjU1NSoq6vnPuXXrVkTMzc19BfrBtjb84AM8exb/7/9U6IbQ0NAwb948JcPgbt26RTqNJUuWkFe+++67FStW/Pe//3306FFFRcXx48c/++wzDw8PstwvhcvlGhgYpKWlKfxoxoWFiJs3bybtcOqz710kEtnb23eaRpiYmIwfPz40NDQ2NrakpKS+vn7hwoUAsHDhQjUYqRRCIaal4aNHGB6ODg5YXq6SWv/8809lhqf37t0j8VHz5s2T1kMcJ6VNlI+PT0RERGpqan19PZ/P3759+/z58y0sLDgczjvvvKOM8eoQFiIGBwcDgJmZWc6z4e2wYcO4XK6zs3NISEhMTExWVpZQKOTz+dIGjITxjBkz5syZM+oxUnG2bEFrazx/Hn19EQCjozVtEJaWltra2gKAp6dnx4n52bNnw8PD3377beJbIEVPT8/NzW337t2ImJKSAgCvv/66MgaoSVhisZi4+9na2paXlyNiaWlpQ0PD5cuXt2/f/sEHHwwfPpwMMDu2xqNHj87MzFSPhUqxdi0CYHAw7t2LAPj225o1p7a2lqRvefPNN7tIiVBYWBgTExMSEuLs7Ex+xuHh4YgoFotJU9dtjEIXqElYiNjU1DRmzBjyU1iwYMGoUaNIYKoUDofj6Oi4aNGiXbt28fn8Hj2u6sSVKwiA1tYoEKCuLurpYV2dSipub28/ffq0XGHozc3N7u7uAODg4CD7wlVdXV1SUlJBQQH5c9GiRQCwceNGuS1+hvqEhYhPnjyxtLQk7s4AoKOj4+DgEBgYSJZVmpub1WmMKpFIsF8/BEA+H8ePRwCMjVW+1tjYWGdnZ/LzI+OhsLCw5OTkLr4okUg0ffp0ALCxsVFmS+3UqVMA4OTkpHANahUWItrZ2QFAcHDwpUuXmlS3Wq15Pv0UAXDdOoyKQoBWpUO1Tp8+Tdz9hg8f/sLxkHRyJy3SMTAzOztbmae3tLSYmJgAgGKLWKhmYV27dg0AXnvttY5J27SE5GQEaPTyan748MM33uCZmiqzl5WZmdmrVy/yC0REiUSSnZ29d+/ejz/+ePjw4Z2yE9jY2Pj7+3/33XfEJdPQ0FAl4ePvvvsuyBkC0xG1Cuvzzz8HgE8//VSdD1UTItE8R0cAyM/PJ1N6hRd17969a2ZmBgABAQEvXMdqaGhITU2NiIjw8fExNzeXKowsE5w9e1a5T/KUQ4cOAcDEiRMVK65WYb3++usAcPHiRXU+VG0EBgYCwDfffBMeHg6KBqsVFaGvbwQA+Pr6yhJHKW3MfH19AaB///7k9aqqKiVnP7W1tVwuV0dHRyAQKFBcfcLi8/kA0LdvXy3sBxER8ejRowDg5uZ269YtxXp8gQCHDkUAXLjwkLxTmfb2dgsLCwDIzs4ODg7W1dVVPj6ApDjYR3InyYn6TqY4edLe3X3Pxx+v77RepTVMnTrV0NAwMzPTwsJi0KBBlZWVGRkZshdvbgZfX8jNhREjYNu2fz3vnds1Ojo6Pj4+ABAXF2dpadne3i5XmMILmTVrFsgZ7vA/lBS17NjbIwD+9ZfaHqgBiC9kRETE1KlTjYyMSI4xWQq2tuKUKQiAdnaKbwjFx8cDgIuLS3Z2NiidKQgRKyoq2Gy2gYGBAokz1CQssoLYty9qaTf4lH379pmbm3M4HJK4FQD69Okzbdq0DRs2nD9/o77+pQVXrXr6/dy7p/jTW1pajI2NWSxWcXExiWdRfjjr5uYGAEePHpW3oJq6wj/+AAB4913Q0m7wKQMHDmxqampraxsxYsScOXOsrKyqq6sTExPXr18fHv6kd2944w14/33YvRvu3gWJBKKjQSiEmhqYMAEmT4bTp+G5rXk50NPT8/b2RsQTJ04oHMIOAE1NTVu3bhWLxQBAEmYr0hsqqWgZsbNDgFcxt4Uc3L59m6xkLl68WPpicXHx4cOHly9fPm9eKZeLAP/75+SE8+bhpk344MFTT0HlOXDgAAB4enqS4d2AAQPkdbwRiURTp04FgKVLl4rFYh8fn969e587d05eS9QhrBs3nu6kqdSHu2dRWFhIur+ZM2e+bDIoEiGfj1FRGBiItrYYEIChobh5M/75p8qEVVNTw+VydXV1BQIB2Tq7fv267MUlEsmCBQsAwMLCIjc3d9myZQBgYmKiQLohRoQl3RS/cwcvXEBETEvDmBgmHtUjqKysJAfrTZo0SfYF9+ZmDA1FoRD9/FQmLEScPHkyAOzfv3/JkiUAsH79etnLLl++nCiJz+eT9Gb6+vp/KTThYkRY0qX1pUvRxQUTEzE9XSXbsj2Ruro6adrB+i7G5y+CuDQnJaH8g+OX8tNPPwHA7Nmzz5w5AwAjRoyQseBXX30FAFwuNykpaceOHQCgo6PzvN+vjDAirPnzcdMm3LQJFy/G0FBcvBjPndNOYTU3N5M470GDBlVUyB3KQtxSqqpw506VmVRaWspisQwNDWtra3k8nqGhoSwZXHfu3EmU9Mcff8TGxrLZbBaL9fPPPytsBuMtVmgo5uWhr68WCqu9vZ14L1pbWyvmo7JkCTY3Y1ERbtigSsPIkTPHjx+/evWqLC4kJIyHxWLt2bPn7NmzJP6FhB0oDCPLDdIoI319MDCAwYPByQm4XLh6lYmnqYxbt27l5OTIeJwnIgYFBR07dszMzCwpKWnAgAEKPLG0FHbuhF9/VaBoV0gTBI0ePbpTlMTznD9/njjFb9myZeTIkTNnzmxtbf3ss89Wr16tlBHKqFIuvv4aWSz88Ue1PVAOJBLJF198QZLFAYC+vr6dnZ2Xl1dQUFBYWFh0dHRycnJWVlbHX/+qVasAwNDQ8IWH7MkIadorK1XcYpFzG3r16rV48eKYmJiuk+ZdvnzZzMxs6dKl3XpVyIX6hBUbiywWstmo6HCQQRISEohKBg8e3CmqsyNsNtvKymrMmDGjR48GAC6Xq2SgB1nYa25GPl81H0RKQkJCx1QXJiYmXl5eYWFh8fHx1dXVnW5+8OBBcXExiVyfMWOGSrJTq9VtZvNmBEB9/R63Ujp+/HgA+PbbbxGxra2turo6KysrOTk5Ojo6LCwsKCjIy8vLzs6uo5O+mZnZThUOuVVNW1tbampqZGTkrFmzpPtLBB0dnVGjRi1ZskTamAkEArIF5Obmpiq3XhYiKtWVyklICGzfDmZmkJYGQ4fKUbCtDSQS0NOD5mbobtggH3w+38XFxcTEpLi42NTUtH///o2NjZaWllZWVnZ2dnZ2dtJra2trgUBQVFT0ySef3L59+/jx450y8PRYioqK0tPTMzIyMjIybty40dbWJn3L3NxcV1e3oqLC0dHx4sWLpqamqnmkSuQpO2Ixzp6NgwcL33xzVrk8+/hJSfj22yiR4PLlKjaJ+OCuWbMGEcVicRejXXIYNj5zhX1FD1UUiUTS+E1yOMOECRNcXV3l+u/oFpnTHakINhsOHIDp0/0vXjzl41N88eJF4tz9MsRiyMsDPh969wYHB/jtNxXb8+DBg2PHjnE4HJJZjs1mNzU11dTU3L9/v6ysrLy8vONFUVERCTFwdnYGAOK6+MrB4XDI4X7kz4cPHwqFQunERWWoUKSyIxAIhgwZAgCTJk3q5EErFovz8soPHsQVK9DdHXv1erpl+913mJiIwcGo2sQzRE8ynp7X2tpKHDsfPHgAAObm5qo0RbvQjLAQsbCw8LXXXgOA+fPnl5SUxMfHkyOizczMLC1dOnoBDBiAc+bg9u2YmIglJUi8ulUyxKyqqurVqxeLxVIg5Jf4AasqHab2oTFhIWJmZqaBgQGHw+nUiNrY2PzrX6Kvv8Y//0SpI39dHdbWIiIWFOCnn6KLCyp/HBhJvjVt2jQFyv7738fd3XNPnJBvc/DvgyaFhYizZs3icrlGRkbSVZZuh5ACAdraIgD6+Snlj9rS0kIyFFwgDhhysm4dAuDatYoboN1oUlgSiYTshMgbYFlQgBYWCIDKHAe2a9cuABg9erRixePiEAC9vRU3QLvRpLDS09MBoF+/fgKBYM+ePTJmsIiNxchIzMxEQ0MEwIgIRR4tkUjIPOj3339XpDzio0cIgH36oNKbH9qJJoW1YsUKAAgNDd2zZ4+MY52CAtTVRRYLDx7EI0eQzUZn5+TffpPbcYI4gw8cOJBsXyiW36xvXwTAwkIFimo/GhOWRCIhm1MZGRleXl4AsHfvXlkK7tyJAMjhYFIS/vxzDpfL5XK5Mjpli0Sia9eu7d69mywMksyo58+fd3BwuCd/fMz06QiAijZ5Wo7GhJWRUTF8+JgBAwY8fvxYV1eXw+HIfoxMaCgC4JQpW2/dukWyTJuYmNy8efP5O0k6V5Je7K233pJGgXI4HA6H895777W1tZFsUjY2Nnfv3pXrI+zfj5s3Y14eNjWhNLP13/B44ReiMWEtX05mVQ37999ycHhTrjm/WIwrV/4CANbW1kVFRSRpgpWVVVFRUXt7+927d2NiYoKDg8eOHdtpf4bNZg8ZMmT+/PlBQUHkrVmzZgkEAtJk9u7dWy4fmOXL8aefEBGXLXvqAFNWhps2yfc9aCuaEZY0UVlmJnp6IgDGxMiXwaK1tdXT0xMAHBwcysvLiXuCubn58xtE9vb2c+fOjYyMvHDhQl2HRHuZmZkkVcv48eMrKyvnzJkDAEZGRrJniQkNxS++wJISXLYMAwIwLQ1PnKDCeopmhJWaigA4cCBWVqKuLnI4qMBpatXV1Q4ODrq6uidPnqyurubxeMQ/RJr8Lj4+/vHjx13UcPfuXRIj5eTkVFZWRvIjcrnc2O7cqEtL8cQJDA3FmhpctgyXLcP33sMLF/DoUSqsp2hGWCEhCICffYY//YQA6OOjYD1FRUWnT59GxOvXr5MWS96IhocPH5LILTs7u/z8/DVr1gAAi8UivlnP09SEERFobIwGBvjxx4iIBw9iQADtCjujAWGJxWhtjQB49SpGRiKPp4KQw7Vr14KiKd2ePHlCog/69u178+bNqKgokjKPONJIkUjwwAG0sXm6gzlnDl658vT1+/eR7BmKRKj0GcVaggaE1dCAK1eih8fTpcWWFlT+HEIlU7o1NDSQOE8ej5eamrp//34OhyM9zQER09LSJk6sJZJydtbynDkqQd3CWrgQb9zAujqU4XAdWVFJSreWlhZyLJGhoWFCQkJmZiZZNS0uLg4MDGSxWOPHr7aywuhoLU+YoyrUl3iNYGICu3ZBezvU1KisTunBvsqkdNPT04uNjQ0KCmpubvbz88vKympoaFizZs2gQYMOHDhgYGDg6cnLz4egIC1PmKMy1Czk0FBMS8NvvsGwMJXVSY7lSUlJUb4qiURC3I5ZLBZxFmWz2e+//35JSYnylf+tUHeLBQBvvQWlpSqr7erVq4WFhX379h07dqzytbFYrC1btvz444+2trZ6enqurq5paWkxMTEdT1mnyISahXz5MiKiQIDnz6O3twriwEjAbkhIiPK2daSpqUnh3PkU1OCWzoYNT91OlDztlhx1kdrTIhX/9qg7rlCKRAL+/nDsGNjYwOXL8Ox8Hfm4cuWKq6urpaVlSUlJp/MaKJpFY/8ZbDYcPAhjx0JJCUybBnV1Xd2MiAUFBbGxsatWrZowYQLJmwDP5oNz586lquppqDuusCMGBnD8OLz1Fty5A2vX8n/4YVTHwIqysrJrz8jIyHjy5In0rcbGRgBAxCNHjgAAWX+i9Cw03BUj3ruH06fHA8DChQulSU7mzp3byU4rKytfX98NGzYkJCRUVlaWlZVFRkYCgLW1tfKpUSgqR5MtFsHeHsLDrf76q9fevXv79etHEhYOHTqUx+O98cYbJGZ33Lhxffr0ycrKunbt2uHDh1evXk1y5Nvb24tEoubmZiMjIw1/DEonNK3spyQkJJBcLjt27EBEkUhUVVV15syZTZs2zZ49mzgxd4TH43l4eJCoUV9fX209n+fVpacICxGjo6MBQEdHZ8KECWQRoSPGxsbjx49fuXLloUOH8vPzSfdXUFBAtPUxcWGh9Bh6kLAQcd26dS4uLkRJHA7HwcEhKCiInHH/skCazMxM4mS8efNmNVtL6YKeJSyJRNLU1LRv3747d+7I3rvFx8eT3Ky//voro+ZRZEdjC6SqZdeuXUuWLOFwOKdOnfL29ta0ORTQEmEBwOrVq7dt22ZsbJySkuLo6Khpc/7uaI+wEHHBggUHDhywsrJKT09XLD82RVVoj7AAQCQSTZs27dy5cw4ODmlpaeQsLopG0CphAUB9fb27u/vt27c9PDySkpI6pqSmqBNt27s1MTFJTEzs169fSkrK+++/L5FING3R3xRtExYAWFtbnzx50sTERCKRtLe3a9qcvyna1hVKycnJGTJkCHWn0RRaKyyKZqE/aAojUGFRGIEKi8IIVFgURqDCojACFRaFEaiwKIxAhUVhBCosCiNQYVEYgQqLwghUWBRGoMKiMAIVFoURqLAojECFRWEEKiwKI1BhURiBCovCCFRYFEagwqIwAhUWhRGosCiMQIVFYQQqLAojUGFRGIEKi8IIVFgURqDCojACFRaFEaiwKIxAhUVhBCosCiNQYVEYgQqLwghUWBRGoMKiMAIVFoURqLAojECFRWEEKiwKI1BhURiBCovCCFRYFEagwqIwAhUWhRGosCiMQIVFYQQqLAojUGFRGIEKi8II/w90VX27MgUBFgAAAoV6VFh0cmRraXRQS0wgcmRraXQgMjAyMi4wMy4yAAB4nHu/b+09BiDgZYAARiBWBmJ1IG5gZGNIAIkxszloAGlmFjaHDBDNzMgOEYBLoPMxNCAUWoBokJEwGQaIDAeEZmJnAEswMbIpmAAZTIwsEFcwMXFAXMOIxXBMBpoSQQYFkF6E4aSYAaWhzkCnuYGBxsiUwcTEnMDMksHEwprAypbBxMauwM6RwMGZwcTJlcDFncDJo8DDq8HEw6fAx8/AL8DCJCDIwC/EICScwSQskiAimsEkKpYgJp7BJCbBwCKpICmlICWdwSQtkyAjm8EkK5cgJ5/BJK/AoKDIoKjEwMaYwM2ewSQulCAvlaAkxyDCysbIxsrCzMTKwc7NxckmLCIqJi7EJi0jKycvxaogL6ekKL6OERK7YKCsNOXe/qspSw6AOCdv6R3Iz2kAs90r2g60f+sEs5c4LDvg9McbzJb9N+1A97uH+0Hs4mf+B7SO7Qazd4cKHHh4WRWs5tp/j/0b9guB2XmKavsU1+SC1Xj8WWk/Z2MPmL1S5YL9lDwVsJrJTxfbLVoWDGaLPRV1iNp83BqcBnU+2Xu+224Ptnd2sYPXtMX7QGx2x1kOVeqeYPHam90Omnd5HUDsbz5rHC7ODAGzuWVOOtyZ+doOxJ7afN3BtqECbK+PPrNjytulYDZnprDjigXOYDNdTHkcGzbNA5vZ0v/S4Vj8CTCbIV/G8YWoGNjMymPbDjyXVAHr/dS8/AD3L3ewGrlPBQfSVbvAbIHcoAMbxBXA6p/86zhQw5EBZh/n3HHA+wvEbX4+xw/MvfcZrP6I9/cDCqu/gtnLbzIdvJURBlZzf9a9A2t528FsMQB5ubW4ZyzZvgAAAzl6VFh0TU9MIHJka2l0IDIwMjIuMDMuMgAAeJx9VsuO2zAMvOcr9AMx+JIoHXrYVxdFsVmg3fYfCvTY/0eHclf2AkTjiHCUMTUkh4QvJT7fHr/++lPWRx4vl1LoP98xRvmpRHR5KXFT7p+ev9zKw9vd/fvOw+uP29v3orXowDO4PmLv3l5f3ne4PJQrb669j1audWN1pV5oo/k5npVACpDCZOVqG7GKtgSpgbRNSLhr3CmzmiVIK7d55qg6qFx14+7ikiDr7tO5V6HJuFUaGbKFT93EuhkH0lobvSZI3yOSWkU17upgqp4geyBp81652nxmyKiUIMeO5CaiHndDuqX5ZBSq8KbSiSdPlJY984m/b0A2acxj8mxDbGTIKBLBJ1xyZEHJybLYOYokmxqquUfcaGQlYiuvOLwPHq3jxrSNmp5dwVK3Tg1OI3JFWSnTBzecbVsXMo3MIK2eu/QJVCeB6pF1bk1Skh0k66bdFEEgbCivp0mP+rQNNWmu+N8acU3VThPoap1nNMORykwbEi3UoeFB1qOOMprmyKjOQBTKplMl0JtphtTp0+EIvQaXOrpkYkc2HorjyO5tAFhbNUk9ooF+43B3Z+xH5Sv1lGXbm9KZ0YtBsxmTZMKU2UEV9KzPvvHOnFZSZgcpIjL3kBH5kJaJQ8aOlO4DWYTYic3SMUP/5gwOhfgUDVIrZ8VU3nl6RQPt+nDElCHnlINA0JWtgucgDAfOkHPK+YYcxUgGktHqWatp1OgKhSA70DtOR0jp8NC6nz5qM6pQvqBFOMvn0+3xwxjfB/v96+3xGOxxyTG9DUuPEW2xjjkcVz2GLX6UdkxUw/JjbDJWP2ajYY1jABoWn8echWE+jTMLw4scOownZvHDeJIwvChiDvHcWSxRc55mEcVg4Wmgy8/Pnw5vQTnMIg2Z7MjFm4M4jJxHgIWRxVyCOYwcaZ15FTTsqXUtjCzmEsxjZzGXYF7Raaee4zCykozWsjCyKEskGkYWZQnKMHpuCStT8CfpWxhdlDWSDaOHGDR2FEI9SZbD6KKsoQk/9KQhCtRt0dNJ2E4Z1SCMg46g8DrC87Vk0Qsdn1Ubv99fZXB/+QtktbCeqRyFKAAAAad6VFh0U01JTEVTIHJka2l0IDIwMjIuMDMuMgAAeJwlkjtu5EAMRK+yoQZoNfhrfjAwsIASR/YBDEdKFz6BD7/Fnkk0KJHFx6Kum++f+/i45cZPb7muSx8/N5948fXz/n0f1/H2+fj4uv6+fx/X5+NVeVz/8O9x85/f4+QZmjXONVlDeTxPgSI8TpvEKgbFppBwtqTM2hLKayn6dHKGxK4KziWjLX1R7apgDh0nTTcm2ZKopQ+akcyrqxT1Fjl4UtS20ikZxUPmIrb1QkA5D50ua72MYjEXFJWwBvcpkuTwKVqiUGKGtG9x4fk8czKmWvfAeO2eWkAb8Bcyec22NOs1zL1yJ9IzsQZ4ijHheTb+4mWtSUnBiwBCzQgLpSBIDFpn2Y1eshUFI7c7VTGWlakm6KJJ5FSm2VUJ5AC5qRfm6cRiCB5zFcE3gs0Ese0gV3SQuE6QIjRhd6yypqbpKyHGjZ8IKM0DLeZYP1sJXIPbtwLM4EFGhfyaUMr7iygYKu/hjPVNuyhcgSdaKV0REX0utX34QGtG8y9fO1W0uojGngQKyvH4/Q/kdpGMkGwUugAAAABJRU5ErkJggg==\" alt=\"Mol\"/></td>\n",
              "      <td>487.991</td>\n",
              "      <td>5.12922</td>\n",
              "      <td>0</td>\n",
              "    </tr>\n",
              "  </tbody>\n",
              "</table>\n",
              "</div>\n",
              "      <button class=\"colab-df-convert\" onclick=\"convertToInteractive('df-c8cc4f1f-7ddb-410a-8e66-d565ad98ac17')\"\n",
              "              title=\"Convert this dataframe to an interactive table.\"\n",
              "              style=\"display:none;\">\n",
              "        \n",
              "  <svg xmlns=\"http://www.w3.org/2000/svg\" height=\"24px\"viewBox=\"0 0 24 24\"\n",
              "       width=\"24px\">\n",
              "    <path d=\"M0 0h24v24H0V0z\" fill=\"none\"/>\n",
              "    <path d=\"M18.56 5.44l.94 2.06.94-2.06 2.06-.94-2.06-.94-.94-2.06-.94 2.06-2.06.94zm-11 1L8.5 8.5l.94-2.06 2.06-.94-2.06-.94L8.5 2.5l-.94 2.06-2.06.94zm10 10l.94 2.06.94-2.06 2.06-.94-2.06-.94-.94-2.06-.94 2.06-2.06.94z\"/><path d=\"M17.41 7.96l-1.37-1.37c-.4-.4-.92-.59-1.43-.59-.52 0-1.04.2-1.43.59L10.3 9.45l-7.72 7.72c-.78.78-.78 2.05 0 2.83L4 21.41c.39.39.9.59 1.41.59.51 0 1.02-.2 1.41-.59l7.78-7.78 2.81-2.81c.8-.78.8-2.07 0-2.86zM5.41 20L4 18.59l7.72-7.72 1.47 1.35L5.41 20z\"/>\n",
              "  </svg>\n",
              "      </button>\n",
              "      \n",
              "  <style>\n",
              "    .colab-df-container {\n",
              "      display:flex;\n",
              "      flex-wrap:wrap;\n",
              "      gap: 12px;\n",
              "    }\n",
              "\n",
              "    .colab-df-convert {\n",
              "      background-color: #E8F0FE;\n",
              "      border: none;\n",
              "      border-radius: 50%;\n",
              "      cursor: pointer;\n",
              "      display: none;\n",
              "      fill: #1967D2;\n",
              "      height: 32px;\n",
              "      padding: 0 0 0 0;\n",
              "      width: 32px;\n",
              "    }\n",
              "\n",
              "    .colab-df-convert:hover {\n",
              "      background-color: #E2EBFA;\n",
              "      box-shadow: 0px 1px 2px rgba(60, 64, 67, 0.3), 0px 1px 3px 1px rgba(60, 64, 67, 0.15);\n",
              "      fill: #174EA6;\n",
              "    }\n",
              "\n",
              "    [theme=dark] .colab-df-convert {\n",
              "      background-color: #3B4455;\n",
              "      fill: #D2E3FC;\n",
              "    }\n",
              "\n",
              "    [theme=dark] .colab-df-convert:hover {\n",
              "      background-color: #434B5C;\n",
              "      box-shadow: 0px 1px 3px 1px rgba(0, 0, 0, 0.15);\n",
              "      filter: drop-shadow(0px 1px 2px rgba(0, 0, 0, 0.3));\n",
              "      fill: #FFFFFF;\n",
              "    }\n",
              "  </style>\n",
              "\n",
              "      <script>\n",
              "        const buttonEl =\n",
              "          document.querySelector('#df-c8cc4f1f-7ddb-410a-8e66-d565ad98ac17 button.colab-df-convert');\n",
              "        buttonEl.style.display =\n",
              "          google.colab.kernel.accessAllowed ? 'block' : 'none';\n",
              "\n",
              "        async function convertToInteractive(key) {\n",
              "          const element = document.querySelector('#df-c8cc4f1f-7ddb-410a-8e66-d565ad98ac17');\n",
              "          const dataTable =\n",
              "            await google.colab.kernel.invokeFunction('convertToInteractive',\n",
              "                                                     [key], {});\n",
              "          if (!dataTable) return;\n",
              "\n",
              "          const docLinkHtml = 'Like what you see? Visit the ' +\n",
              "            '<a target=\"_blank\" href=https://colab.research.google.com/notebooks/data_table.ipynb>data table notebook</a>'\n",
              "            + ' to learn more about interactive tables.';\n",
              "          element.innerHTML = '';\n",
              "          dataTable['output_type'] = 'display_data';\n",
              "          await google.colab.output.renderOutput(dataTable, element);\n",
              "          const docLink = document.createElement('div');\n",
              "          docLink.innerHTML = docLinkHtml;\n",
              "          element.appendChild(docLink);\n",
              "        }\n",
              "      </script>\n",
              "    </div>\n",
              "  </div>\n",
              "  "
            ]
          },
          "metadata": {},
          "execution_count": 7
        }
      ],
      "source": [
        "active_df.head()"
      ]
    },
    {
      "cell_type": "markdown",
      "metadata": {
        "id": "zjnUULUtz4yW"
      },
      "source": [
        "Now let's do the same thing with the decoy molecules"
      ]
    },
    {
      "cell_type": "code",
      "execution_count": null,
      "metadata": {
        "id": "YI5vDzKfz4yX"
      },
      "outputs": [],
      "source": [
        "decoy_df = pd.read_csv(\"https://raw.githubusercontent.com/deepchem/DeepLearningLifeSciences/master/Chapter11/mk01/decoys_final.ism\",\n",
        "                       header=None,sep=\" \")\n",
        "decoy_df.columns = [\"SMILES\",\"ID\"]\n",
        "decoy_rows, decoy_cols = decoy_df.shape\n",
        "decoy_df[\"label\"] = [\"Decoy\"]*decoy_rows\n",
        "PandasTools.AddMoleculeColumnToFrame(decoy_df,\"SMILES\",\"Mol\")\n",
        "add_property_columns_to_df(decoy_df)"
      ]
    },
    {
      "cell_type": "code",
      "execution_count": null,
      "metadata": {
        "id": "0OrArJbcz4yX"
      },
      "outputs": [],
      "source": [
        "tmp_df = active_df.append(decoy_df)"
      ]
    },
    {
      "cell_type": "markdown",
      "metadata": {
        "id": "KxfG36Osz4yX"
      },
      "source": [
        "- violin plot"
      ]
    },
    {
      "cell_type": "code",
      "source": [
        "%config InlineBackend.figure_format = 'retina'"
      ],
      "metadata": {
        "id": "B3dHAsa85QlD"
      },
      "execution_count": null,
      "outputs": []
    },
    {
      "cell_type": "code",
      "execution_count": null,
      "metadata": {
        "id": "B0NyoEDmz4yX",
        "outputId": "309991eb-720d-494c-895e-a48232cdc899",
        "colab": {
          "base_uri": "https://localhost:8080/",
          "height": 278
        }
      },
      "outputs": [
        {
          "output_type": "display_data",
          "data": {
            "text/plain": [
              "<Figure size 432x288 with 1 Axes>"
            ],
            "image/png": "[encoded data removed]"
          },
          "metadata": {
            "image/png": {
              "width": 388,
              "height": 261
            },
            "needs_background": "light"
          }
        }
      ],
      "source": [
        "sns.violinplot(x=tmp_df[\"label\"],y=tmp_df[\"mw\"]);"
      ]
    },
    {
      "cell_type": "markdown",
      "metadata": {
        "id": "FzLVdAN5z4yX"
      },
      "source": [
        "- 위 그래프를 보면 분자량 분포는 비슷하다\n",
        "- 400mw 이하의 분자들이 비활성 분자 데이터셋에 좀 더 많이 들어 있다"
      ]
    },
    {
      "cell_type": "code",
      "execution_count": null,
      "metadata": {
        "id": "MCGBGDW8z4yY",
        "outputId": "92dc4c80-f553-42af-bcf9-7b5b15b6a3b4",
        "colab": {
          "base_uri": "https://localhost:8080/",
          "height": 278
        }
      },
      "outputs": [
        {
          "output_type": "display_data",
          "data": {
            "text/plain": [
              "<Figure size 432x288 with 1 Axes>"
            ],
            "image/png": "[encoded data removed]"
          },
          "metadata": {
            "image/png": {
              "width": 384,
              "height": 261
            },
            "needs_background": "light"
          }
        }
      ],
      "source": [
        "sns.violinplot(x=tmp_df[\"label\"],y=tmp_df[\"logP\"]);"
      ]
    },
    {
      "cell_type": "code",
      "execution_count": null,
      "metadata": {
        "id": "M2cvDR9mz4yY",
        "outputId": "b972eab0-8cad-4b1f-949d-a0b1850348c7",
        "colab": {
          "base_uri": "https://localhost:8080/",
          "height": 278
        }
      },
      "outputs": [
        {
          "output_type": "display_data",
          "data": {
            "text/plain": [
              "<Figure size 432x288 with 1 Axes>"
            ],
            "image/png": "[encoded data removed]"
          },
          "metadata": {
            "image/png": {
              "width": 394,
              "height": 261
            },
            "needs_background": "light"
          }
        }
      ],
      "source": [
        "sns.violinplot(x=tmp_df[\"label\"],y=tmp_df[\"charge\"]);"
      ]
    },
    {
      "cell_type": "markdown",
      "metadata": {
        "id": "EnY2ge1Ez4yY"
      },
      "source": [
        "- 활성 분자는 모두 중성이다\n",
        "- 비활성 분자는 일부 +1과 -1이 있다"
      ]
    },
    {
      "cell_type": "code",
      "execution_count": null,
      "metadata": {
        "id": "nsxlupqbz4yY"
      },
      "outputs": [],
      "source": [
        "charged = decoy_df[decoy_df[\"charge\"] != 0]"
      ]
    },
    {
      "cell_type": "code",
      "execution_count": null,
      "metadata": {
        "id": "m4ae1YHqz4yZ",
        "outputId": "2b664b94-e9f1-46a1-e7aa-8eb486da8802",
        "colab": {
          "base_uri": "https://localhost:8080/"
        }
      },
      "outputs": [
        {
          "output_type": "execute_result",
          "data": {
            "text/plain": [
              "0.16175824175824177"
            ]
          },
          "metadata": {},
          "execution_count": 15
        }
      ],
      "source": [
        "charged.shape[0]/decoy_df.shape[0]"
      ]
    },
    {
      "cell_type": "markdown",
      "metadata": {
        "id": "fNEBUWSuz4yZ"
      },
      "source": [
        "- 비활성 분자의 16%가 전하를 띠고 있다\n",
        "- 전하 차이에 의해 머신러닝 모델이 바이어스가 생기게 되므로, 비활성 분자의 화학 구조를 수정하여 전하를 제거하겠다\n",
        "- 아래는 이를 위한 함수 정의이다"
      ]
    },
    {
      "cell_type": "code",
      "source": [
        "def _InitialiseNeutralisationReactions():\n",
        "    patts= (\n",
        "        # Imidazoles\n",
        "        ('[n+;H]','n'),\n",
        "        # Amines\n",
        "        ('[N+;!H0]','N'),\n",
        "        # Carboxylic acids and alcohols\n",
        "        ('[$([O-]);!$([O-][#7])]','O'),\n",
        "        # Thiols\n",
        "        ('[S-;X1]','S'),\n",
        "        # Sulfonamides\n",
        "        ('[$([N-;X2]S(=O)=O)]','N'),\n",
        "        # Enamines\n",
        "        ('[$([N-;X2][C,N]=C)]','N'),\n",
        "        # Tetrazoles\n",
        "        ('[n-]','[nH]'),\n",
        "        # Sulfoxides\n",
        "        ('[$([S-]=O)]','S'),\n",
        "        # Amides\n",
        "        ('[$([N-]C=O)]','N'),\n",
        "        )\n",
        "    return [(Chem.MolFromSmarts(x),Chem.MolFromSmiles(y,False)) for x,y in patts]\n",
        "\n",
        "_reactions=None\n",
        "\n",
        "def NeutraliseCharges(smiles, reactions=None):\n",
        "    global _reactions\n",
        "    if reactions is None:\n",
        "        if _reactions is None:\n",
        "            _reactions=_InitialiseNeutralisationReactions()\n",
        "        reactions=_reactions\n",
        "    mol = Chem.MolFromSmiles(smiles)\n",
        "    replaced = False\n",
        "    for i,(reactant, product) in enumerate(reactions):\n",
        "        while mol.HasSubstructMatch(reactant):\n",
        "            replaced = True\n",
        "            rms = AllChem.ReplaceSubstructs(mol, reactant, product)\n",
        "            mol = rms[0]\n",
        "    if replaced:\n",
        "        return (Chem.MolToSmiles(mol,True), True)\n",
        "    else:\n",
        "        return (smiles, False)"
      ],
      "metadata": {
        "id": "YebLfFHFDkdk"
      },
      "execution_count": null,
      "outputs": []
    },
    {
      "cell_type": "code",
      "execution_count": null,
      "metadata": {
        "id": "v9zT1W4lz4yZ"
      },
      "outputs": [],
      "source": [
        "revised_decoy_df = decoy_df[[\"SMILES\",\"ID\",\"label\"]].copy()"
      ]
    },
    {
      "cell_type": "markdown",
      "metadata": {
        "id": "HjqjW_sSz4yZ"
      },
      "source": [
        "- 중성화된 SMILES만 사용하면 되므로 첫 번째 컬럼만 사용한다 (두번째 컬럼에는 전하여부를 나타내는 불리언 변수가 들어 있다)"
      ]
    },
    {
      "cell_type": "code",
      "execution_count": null,
      "metadata": {
        "id": "kmCa_bK0z4yZ"
      },
      "outputs": [],
      "source": [
        "revised_decoy_df[\"SMILES\"] = [NeutraliseCharges(x)[0] for x in revised_decoy_df[\"SMILES\"]]\n"
      ]
    },
    {
      "cell_type": "markdown",
      "metadata": {
        "id": "RJAuMomNz4yZ"
      },
      "source": [
        "- 특성을 다시 계산한다\n",
        "- 전하를 띤 샘플의 수가 감소했다"
      ]
    },
    {
      "cell_type": "code",
      "execution_count": null,
      "metadata": {
        "id": "HO9X1SmLz4yZ"
      },
      "outputs": [],
      "source": [
        "PandasTools.AddMoleculeColumnToFrame(revised_decoy_df,\"SMILES\",\"Mol\")\n",
        "add_property_columns_to_df(revised_decoy_df)"
      ]
    },
    {
      "cell_type": "code",
      "execution_count": null,
      "metadata": {
        "id": "7pcGOamBz4yZ"
      },
      "outputs": [],
      "source": [
        "new_tmp_df = active_df.append(revised_decoy_df)"
      ]
    },
    {
      "cell_type": "code",
      "execution_count": null,
      "metadata": {
        "id": "i1HO5iHNz4yZ",
        "outputId": "94227a11-c258-419c-eb98-eaddf5ada412",
        "colab": {
          "base_uri": "https://localhost:8080/",
          "height": 296
        }
      },
      "outputs": [
        {
          "output_type": "execute_result",
          "data": {
            "text/plain": [
              "<matplotlib.axes._subplots.AxesSubplot at 0x7fd3a384bd10>"
            ]
          },
          "metadata": {},
          "execution_count": 21
        },
        {
          "output_type": "display_data",
          "data": {
            "text/plain": [
              "<Figure size 432x288 with 1 Axes>"
            ],
            "image/png": "[encoded data removed]"
          },
          "metadata": {
            "image/png": {
              "width": 400,
              "height": 261
            },
            "needs_background": "light"
          }
        }
      ],
      "source": [
        "sns.violinplot(x=new_tmp_df[\"label\"],y=new_tmp_df[\"charge\"])"
      ]
    },
    {
      "cell_type": "code",
      "execution_count": null,
      "metadata": {
        "id": "2F5f08LRz4yZ",
        "outputId": "2da2add7-5021-4130-91f9-28f72556425c",
        "colab": {
          "base_uri": "https://localhost:8080/"
        }
      },
      "outputs": [
        {
          "output_type": "execute_result",
          "data": {
            "text/plain": [
              "0.0026373626373626374"
            ]
          },
          "metadata": {},
          "execution_count": 22
        }
      ],
      "source": [
        "charged = revised_decoy_df[revised_decoy_df[\"charge\"] != 0]\n",
        "charged.shape[0]/revised_decoy_df.shape[0]"
      ]
    },
    {
      "cell_type": "markdown",
      "metadata": {
        "id": "kmoGr0jtz4ya"
      },
      "source": [
        "- 활성을 1로 비활성을 0으로 인코딩한다"
      ]
    },
    {
      "cell_type": "code",
      "execution_count": null,
      "metadata": {
        "id": "VVc_Gm_Uz4ya",
        "outputId": "8d0d8c3d-b4d5-4096-8d9e-233cc2c2da31",
        "colab": {
          "base_uri": "https://localhost:8080/",
          "height": 206
        }
      },
      "outputs": [
        {
          "output_type": "execute_result",
          "data": {
            "text/plain": [
              "                                              SMILES      ID  is_active\n",
              "0  Cn1ccnc1Sc2ccc(cc2Cl)Nc3c4cc(c(cc4ncc3C#N)OCCC...  168691          1\n",
              "1  C[C@@]12[C@@H]([C@@H](CC(O1)n3c4ccccc4c5c3c6n2...   86358          1\n",
              "2  Cc1cnc(nc1c2cc([nH]c2)C(=O)N[C@H](CO)c3cccc(c3...  575087          1\n",
              "3  Cc1cnc(nc1c2cc([nH]c2)C(=O)N[C@H](CO)c3cccc(c3...  575065          1\n",
              "4  Cc1cnc(nc1c2cc([nH]c2)C(=O)N[C@H](CO)c3cccc(c3...  575047          1"
            ],
            "text/html": [
              "\n",
              "  <div id=\"df-d7d4f62e-ab1a-44e4-91a5-cc0e305c0c61\">\n",
              "    <div class=\"colab-df-container\">\n",
              "      <div>\n",
              "<style scoped>\n",
              "    .dataframe tbody tr th:only-of-type {\n",
              "        vertical-align: middle;\n",
              "    }\n",
              "\n",
              "    .dataframe tbody tr th {\n",
              "        vertical-align: top;\n",
              "    }\n",
              "\n",
              "    .dataframe thead th {\n",
              "        text-align: right;\n",
              "    }\n",
              "</style>\n",
              "<table border=\"1\" class=\"dataframe\">\n",
              "  <thead>\n",
              "    <tr style=\"text-align: right;\">\n",
              "      <th></th>\n",
              "      <th>SMILES</th>\n",
              "      <th>ID</th>\n",
              "      <th>is_active</th>\n",
              "    </tr>\n",
              "  </thead>\n",
              "  <tbody>\n",
              "    <tr>\n",
              "      <th>0</th>\n",
              "      <td>Cn1ccnc1Sc2ccc(cc2Cl)Nc3c4cc(c(cc4ncc3C#N)OCCC...</td>\n",
              "      <td>168691</td>\n",
              "      <td>1</td>\n",
              "    </tr>\n",
              "    <tr>\n",
              "      <th>1</th>\n",
              "      <td>C[C@@]12[C@@H]([C@@H](CC(O1)n3c4ccccc4c5c3c6n2...</td>\n",
              "      <td>86358</td>\n",
              "      <td>1</td>\n",
              "    </tr>\n",
              "    <tr>\n",
              "      <th>2</th>\n",
              "      <td>Cc1cnc(nc1c2cc([nH]c2)C(=O)N[C@H](CO)c3cccc(c3...</td>\n",
              "      <td>575087</td>\n",
              "      <td>1</td>\n",
              "    </tr>\n",
              "    <tr>\n",
              "      <th>3</th>\n",
              "      <td>Cc1cnc(nc1c2cc([nH]c2)C(=O)N[C@H](CO)c3cccc(c3...</td>\n",
              "      <td>575065</td>\n",
              "      <td>1</td>\n",
              "    </tr>\n",
              "    <tr>\n",
              "      <th>4</th>\n",
              "      <td>Cc1cnc(nc1c2cc([nH]c2)C(=O)N[C@H](CO)c3cccc(c3...</td>\n",
              "      <td>575047</td>\n",
              "      <td>1</td>\n",
              "    </tr>\n",
              "  </tbody>\n",
              "</table>\n",
              "</div>\n",
              "      <button class=\"colab-df-convert\" onclick=\"convertToInteractive('df-d7d4f62e-ab1a-44e4-91a5-cc0e305c0c61')\"\n",
              "              title=\"Convert this dataframe to an interactive table.\"\n",
              "              style=\"display:none;\">\n",
              "        \n",
              "  <svg xmlns=\"http://www.w3.org/2000/svg\" height=\"24px\"viewBox=\"0 0 24 24\"\n",
              "       width=\"24px\">\n",
              "    <path d=\"M0 0h24v24H0V0z\" fill=\"none\"/>\n",
              "    <path d=\"M18.56 5.44l.94 2.06.94-2.06 2.06-.94-2.06-.94-.94-2.06-.94 2.06-2.06.94zm-11 1L8.5 8.5l.94-2.06 2.06-.94-2.06-.94L8.5 2.5l-.94 2.06-2.06.94zm10 10l.94 2.06.94-2.06 2.06-.94-2.06-.94-.94-2.06-.94 2.06-2.06.94z\"/><path d=\"M17.41 7.96l-1.37-1.37c-.4-.4-.92-.59-1.43-.59-.52 0-1.04.2-1.43.59L10.3 9.45l-7.72 7.72c-.78.78-.78 2.05 0 2.83L4 21.41c.39.39.9.59 1.41.59.51 0 1.02-.2 1.41-.59l7.78-7.78 2.81-2.81c.8-.78.8-2.07 0-2.86zM5.41 20L4 18.59l7.72-7.72 1.47 1.35L5.41 20z\"/>\n",
              "  </svg>\n",
              "      </button>\n",
              "      \n",
              "  <style>\n",
              "    .colab-df-container {\n",
              "      display:flex;\n",
              "      flex-wrap:wrap;\n",
              "      gap: 12px;\n",
              "    }\n",
              "\n",
              "    .colab-df-convert {\n",
              "      background-color: #E8F0FE;\n",
              "      border: none;\n",
              "      border-radius: 50%;\n",
              "      cursor: pointer;\n",
              "      display: none;\n",
              "      fill: #1967D2;\n",
              "      height: 32px;\n",
              "      padding: 0 0 0 0;\n",
              "      width: 32px;\n",
              "    }\n",
              "\n",
              "    .colab-df-convert:hover {\n",
              "      background-color: #E2EBFA;\n",
              "      box-shadow: 0px 1px 2px rgba(60, 64, 67, 0.3), 0px 1px 3px 1px rgba(60, 64, 67, 0.15);\n",
              "      fill: #174EA6;\n",
              "    }\n",
              "\n",
              "    [theme=dark] .colab-df-convert {\n",
              "      background-color: #3B4455;\n",
              "      fill: #D2E3FC;\n",
              "    }\n",
              "\n",
              "    [theme=dark] .colab-df-convert:hover {\n",
              "      background-color: #434B5C;\n",
              "      box-shadow: 0px 1px 3px 1px rgba(0, 0, 0, 0.15);\n",
              "      filter: drop-shadow(0px 1px 2px rgba(0, 0, 0, 0.3));\n",
              "      fill: #FFFFFF;\n",
              "    }\n",
              "  </style>\n",
              "\n",
              "      <script>\n",
              "        const buttonEl =\n",
              "          document.querySelector('#df-d7d4f62e-ab1a-44e4-91a5-cc0e305c0c61 button.colab-df-convert');\n",
              "        buttonEl.style.display =\n",
              "          google.colab.kernel.accessAllowed ? 'block' : 'none';\n",
              "\n",
              "        async function convertToInteractive(key) {\n",
              "          const element = document.querySelector('#df-d7d4f62e-ab1a-44e4-91a5-cc0e305c0c61');\n",
              "          const dataTable =\n",
              "            await google.colab.kernel.invokeFunction('convertToInteractive',\n",
              "                                                     [key], {});\n",
              "          if (!dataTable) return;\n",
              "\n",
              "          const docLinkHtml = 'Like what you see? Visit the ' +\n",
              "            '<a target=\"_blank\" href=https://colab.research.google.com/notebooks/data_table.ipynb>data table notebook</a>'\n",
              "            + ' to learn more about interactive tables.';\n",
              "          element.innerHTML = '';\n",
              "          dataTable['output_type'] = 'display_data';\n",
              "          await google.colab.output.renderOutput(dataTable, element);\n",
              "          const docLink = document.createElement('div');\n",
              "          docLink.innerHTML = docLinkHtml;\n",
              "          element.appendChild(docLink);\n",
              "        }\n",
              "      </script>\n",
              "    </div>\n",
              "  </div>\n",
              "  "
            ]
          },
          "metadata": {},
          "execution_count": 23
        }
      ],
      "source": [
        "active_df[\"is_active\"] = [1] * active_df.shape[0]\n",
        "revised_decoy_df[\"is_active\"] = [0] * revised_decoy_df.shape[0]\n",
        "combined_df = active_df.append(revised_decoy_df)[[\"SMILES\",\"ID\",\"is_active\"]]\n",
        "combined_df.head()"
      ]
    },
    {
      "cell_type": "code",
      "execution_count": null,
      "metadata": {
        "id": "1NDR_A5oz4ya"
      },
      "outputs": [],
      "source": [
        "# 파일로 저장해둔다\n",
        "combined_df.to_csv(\"dude_erk1_mk01.csv\")"
      ]
    },
    {
      "cell_type": "markdown",
      "source": [
        "## GCN 모델을 사용하여 이진 분류를 수행하겠다"
      ],
      "metadata": {
        "id": "1V7obXblHUP6"
      }
    },
    {
      "cell_type": "code",
      "execution_count": null,
      "metadata": {
        "id": "u6KxxDOXz4ya"
      },
      "outputs": [],
      "source": [
        "import deepchem as dc\n",
        "from deepchem.models import GraphConvModel\n",
        "import numpy as np\n",
        "import sys\n",
        "import pandas as pd\n",
        "import seaborn as sns\n",
        "from rdkit.Chem import PandasTools\n",
        "from tqdm.auto import tqdm"
      ]
    },
    {
      "cell_type": "markdown",
      "source": [
        "## 그래프 합성곱 모델을 만드는 함수"
      ],
      "metadata": {
        "id": "ee8fkz1pIStN"
      }
    },
    {
      "cell_type": "code",
      "source": [
        "def generate_graph_conv_model():\n",
        "    batch_size = 128\n",
        "    model = GraphConvModel(1, batch_size=batch_size, \n",
        "             mode='classification', model_dir=\"./model_dir\")\n",
        "    return model"
      ],
      "metadata": {
        "id": "_ZB9-hFQHhph"
      },
      "execution_count": null,
      "outputs": []
    },
    {
      "cell_type": "code",
      "source": [
        "dataset_file = \"dude_erk1_mk01.csv\"\n",
        "tasks = [\"is_active\"]\n",
        "featurizer = dc.feat.ConvMolFeaturizer()\n",
        "loader = dc.data.CSVLoader(tasks=tasks, feature_field=\"SMILES\", featurizer=featurizer)\n",
        "dataset = loader.create_dataset(dataset_file, shard_size=8192)"
      ],
      "metadata": {
        "id": "cxvt5XBkHsiK"
      },
      "execution_count": null,
      "outputs": []
    },
    {
      "cell_type": "markdown",
      "source": [
        "## 랜덤하게 데이터를 나누는 함수 RandomSplitter()를 사용한다\n",
        "- 참고로 화학 구조를 기반으로 데이터셋을 나누는 ScaffoleSplit()도 있고, 데이터를 군집화 한 후에 데이터셋을 분리하는 ButinaSplitter()도 있다\n",
        "\n",
        "- 불균형 데이터에 대한 성능 평가시에는 매튜 상관계수 Matthews Correlarions Coefficients(MCC)를 사용한다\n",
        " - +1이면 완벽한 예측, 0이면 랜덤 예측, -1이면 완전히 반대되는 예측을 의미한다"
      ],
      "metadata": {
        "id": "jC8aDynkIz89"
      }
    },
    {
      "cell_type": "code",
      "source": [
        "splitter = dc.splits.RandomSplitter()\n",
        "metrics = [dc.metrics.Metric(dc.metrics.matthews_corrcoef, np.mean)]"
      ],
      "metadata": {
        "id": "bIgIxmECICLd"
      },
      "execution_count": null,
      "outputs": []
    },
    {
      "cell_type": "code",
      "source": [
        "training_score_list = []\n",
        "validation_score_list = []\n",
        "transformers = []\n",
        "cv_folds = 5\n",
        "for i in tqdm(range(0,cv_folds)):\n",
        "    model = generate_graph_conv_model()\n",
        "    train_dataset, valid_dataset, test_dataset = splitter.train_valid_test_split(dataset)\n",
        "    model.fit(train_dataset)\n",
        "    train_scores = model.evaluate(train_dataset, metrics, transformers)\n",
        "    training_score_list.append(train_scores[\"mean-matthews_corrcoef\"])\n",
        "    validation_scores = model.evaluate(valid_dataset, metrics, transformers)\n",
        "    validation_score_list.append(validation_scores[\"mean-matthews_corrcoef\"])\n",
        "print(training_score_list)\n",
        "print(validation_score_list)"
      ],
      "metadata": {
        "colab": {
          "base_uri": "https://localhost:8080/",
          "height": 123,
          "referenced_widgets": [
            "ee30cc0452e64865893a6a965457256e",
            "4048868ecf1c47949dc5001c00084afb",
            "718b49df40a44a6f9acf6b8be54f9f10",
            "43f2edabb50f428abc13b84fa04be61c",
            "d57bb737956f4b8d9b4909841d5002ed",
            "5204478c0c4e48faacaa6fb5c27c343c",
            "866c1f8e316f477ab49492756070c1be",
            "352e4a07a6f4407a82bf95fef4d477a2",
            "a7542fd4935145c5adf58401a16a311f",
            "52a747a7b9184d1a976519ee1c14156b",
            "741b830d1a024eb295157d0727b72cfe"
          ]
        },
        "collapsed": true,
        "id": "TfsZNqMbKlGv",
        "outputId": "2158319b-f899-48ab-b539-15fd39e9e346"
      },
      "execution_count": null,
      "outputs": [
        {
          "output_type": "display_data",
          "data": {
            "text/plain": [
              "  0%|          | 0/5 [00:00<?, ?it/s]"
            ],
            "application/vnd.jupyter.widget-view+json": {
              "version_major": 2,
              "version_minor": 0,
              "model_id": "ee30cc0452e64865893a6a965457256e"
            }
          },
          "metadata": {}
        },
        {
          "output_type": "stream",
          "name": "stdout",
          "text": [
            "WARNING:tensorflow:5 out of the last 35 calls to <function KerasModel._compute_model at 0x7fd27d877c20> triggered tf.function retracing. Tracing is expensive and the excessive number of tracings could be due to (1) creating @tf.function repeatedly in a loop, (2) passing tensors with different shapes, (3) passing Python objects instead of tensors. For (1), please define your @tf.function outside of the loop. For (2), @tf.function has experimental_relax_shapes=True option that relaxes argument shapes that can avoid unnecessary retracing. For (3), please refer to https://www.tensorflow.org/guide/function#controlling_retracing and https://www.tensorflow.org/api_docs/python/tf/function for  more details.\n",
            "[0.33350130176592996, 0.8335382821675406, 0.8457022313739886, 0.5440658090366804, 0.8642479672720345]\n",
            "[0.3508647326336185, 0.7534545402108427, 0.6518011356977635, 0.0, 0.771199299054495]\n"
          ]
        }
      ]
    },
    {
      "cell_type": "code",
      "source": [
        "np.array(training_score_list).mean(), np.array(validation_score_list).mean()"
      ],
      "metadata": {
        "colab": {
          "base_uri": "https://localhost:8080/"
        },
        "id": "x8WbOOLY3Njt",
        "outputId": "86f08113-55c6-4726-a2a0-4dcb892d335e"
      },
      "execution_count": null,
      "outputs": [
        {
          "output_type": "execute_result",
          "data": {
            "text/plain": [
              "(0.6842111183232348, 0.5054639415193439)"
            ]
          },
          "metadata": {},
          "execution_count": 30
        }
      ]
    },
    {
      "cell_type": "code",
      "source": [
        "sns.boxplot(x=[\"training\"]*cv_folds+[\"validation\"]*cv_folds,y=training_score_list+validation_score_list);"
      ],
      "metadata": {
        "colab": {
          "base_uri": "https://localhost:8080/",
          "height": 265
        },
        "id": "q-Y7amrZNMzi",
        "outputId": "18b13221-b27e-41bc-ee7e-fae1ab7831c7"
      },
      "execution_count": null,
      "outputs": [
        {
          "output_type": "display_data",
          "data": {
            "text/plain": [
              "<Figure size 432x288 with 1 Axes>"
            ],
            "image/png": "[encoded data removed]"
          },
          "metadata": {
            "image/png": {
              "width": 372,
              "height": 248
            },
            "needs_background": "light"
          }
        }
      ]
    },
    {
      "cell_type": "markdown",
      "source": [
        "## 검증 데이터에 대한 예측값을 시각화해보겠다"
      ],
      "metadata": {
        "id": "TIH_hSwPN-jt"
      }
    },
    {
      "cell_type": "code",
      "source": [
        "pred = [x.flatten() for x in model.predict(valid_dataset)]"
      ],
      "metadata": {
        "id": "n6h8HG-fNSCZ"
      },
      "execution_count": null,
      "outputs": []
    },
    {
      "cell_type": "code",
      "source": [
        "pred_df = pd.DataFrame(pred,columns=[\"neg\",\"pos\"])\n",
        "pred_df[\"active\"] = [int(x) for x in valid_dataset.y]\n",
        "pred_df[\"SMILES\"] = valid_dataset.ids\n",
        "pred_df.head()"
      ],
      "metadata": {
        "colab": {
          "base_uri": "https://localhost:8080/",
          "height": 206
        },
        "id": "sfNkHHqfNkSe",
        "outputId": "b3d19e97-e0b7-48c1-dc78-0ccf87a7a1b3"
      },
      "execution_count": null,
      "outputs": [
        {
          "output_type": "execute_result",
          "data": {
            "text/plain": [
              "        neg       pos  active  \\\n",
              "0  0.999299  0.000701       0   \n",
              "1  0.995357  0.004643       0   \n",
              "2  0.999118  0.000882       1   \n",
              "3  0.999443  0.000557       0   \n",
              "4  0.994158  0.005842       0   \n",
              "\n",
              "                                              SMILES  \n",
              "0  CCc1ccc(cc1)Nc2c(c3c(s2)c(c(c(n3)N)C#N)c4ccc(c...  \n",
              "1    C1CN[C@@H]([C@H]2C1=NCN2)C3=CC4=CC=N[C@@H]4C=C3  \n",
              "2  C[C@@]12[C@@H]([C@@H](CC(O1)n3c4ccccc4c5c3c6n2...  \n",
              "3  Cc1ccc(cc1C)n2ccnc2S[C@H](C)C(=O)Nc3ccc(cc3)S(...  \n",
              "4  Cc1cc(Nc2ccc(NS(=O)(=O)c3ccc4c(c3)OCCO4)cc2)nc...  "
            ],
            "text/html": [
              "\n",
              "  <div id=\"df-635aaca1-f98a-441e-8ae3-9e0e936a5d2a\">\n",
              "    <div class=\"colab-df-container\">\n",
              "      <div>\n",
              "<style scoped>\n",
              "    .dataframe tbody tr th:only-of-type {\n",
              "        vertical-align: middle;\n",
              "    }\n",
              "\n",
              "    .dataframe tbody tr th {\n",
              "        vertical-align: top;\n",
              "    }\n",
              "\n",
              "    .dataframe thead th {\n",
              "        text-align: right;\n",
              "    }\n",
              "</style>\n",
              "<table border=\"1\" class=\"dataframe\">\n",
              "  <thead>\n",
              "    <tr style=\"text-align: right;\">\n",
              "      <th></th>\n",
              "      <th>neg</th>\n",
              "      <th>pos</th>\n",
              "      <th>active</th>\n",
              "      <th>SMILES</th>\n",
              "    </tr>\n",
              "  </thead>\n",
              "  <tbody>\n",
              "    <tr>\n",
              "      <th>0</th>\n",
              "      <td>0.999299</td>\n",
              "      <td>0.000701</td>\n",
              "      <td>0</td>\n",
              "      <td>CCc1ccc(cc1)Nc2c(c3c(s2)c(c(c(n3)N)C#N)c4ccc(c...</td>\n",
              "    </tr>\n",
              "    <tr>\n",
              "      <th>1</th>\n",
              "      <td>0.995357</td>\n",
              "      <td>0.004643</td>\n",
              "      <td>0</td>\n",
              "      <td>C1CN[C@@H]([C@H]2C1=NCN2)C3=CC4=CC=N[C@@H]4C=C3</td>\n",
              "    </tr>\n",
              "    <tr>\n",
              "      <th>2</th>\n",
              "      <td>0.999118</td>\n",
              "      <td>0.000882</td>\n",
              "      <td>1</td>\n",
              "      <td>C[C@@]12[C@@H]([C@@H](CC(O1)n3c4ccccc4c5c3c6n2...</td>\n",
              "    </tr>\n",
              "    <tr>\n",
              "      <th>3</th>\n",
              "      <td>0.999443</td>\n",
              "      <td>0.000557</td>\n",
              "      <td>0</td>\n",
              "      <td>Cc1ccc(cc1C)n2ccnc2S[C@H](C)C(=O)Nc3ccc(cc3)S(...</td>\n",
              "    </tr>\n",
              "    <tr>\n",
              "      <th>4</th>\n",
              "      <td>0.994158</td>\n",
              "      <td>0.005842</td>\n",
              "      <td>0</td>\n",
              "      <td>Cc1cc(Nc2ccc(NS(=O)(=O)c3ccc4c(c3)OCCO4)cc2)nc...</td>\n",
              "    </tr>\n",
              "  </tbody>\n",
              "</table>\n",
              "</div>\n",
              "      <button class=\"colab-df-convert\" onclick=\"convertToInteractive('df-635aaca1-f98a-441e-8ae3-9e0e936a5d2a')\"\n",
              "              title=\"Convert this dataframe to an interactive table.\"\n",
              "              style=\"display:none;\">\n",
              "        \n",
              "  <svg xmlns=\"http://www.w3.org/2000/svg\" height=\"24px\"viewBox=\"0 0 24 24\"\n",
              "       width=\"24px\">\n",
              "    <path d=\"M0 0h24v24H0V0z\" fill=\"none\"/>\n",
              "    <path d=\"M18.56 5.44l.94 2.06.94-2.06 2.06-.94-2.06-.94-.94-2.06-.94 2.06-2.06.94zm-11 1L8.5 8.5l.94-2.06 2.06-.94-2.06-.94L8.5 2.5l-.94 2.06-2.06.94zm10 10l.94 2.06.94-2.06 2.06-.94-2.06-.94-.94-2.06-.94 2.06-2.06.94z\"/><path d=\"M17.41 7.96l-1.37-1.37c-.4-.4-.92-.59-1.43-.59-.52 0-1.04.2-1.43.59L10.3 9.45l-7.72 7.72c-.78.78-.78 2.05 0 2.83L4 21.41c.39.39.9.59 1.41.59.51 0 1.02-.2 1.41-.59l7.78-7.78 2.81-2.81c.8-.78.8-2.07 0-2.86zM5.41 20L4 18.59l7.72-7.72 1.47 1.35L5.41 20z\"/>\n",
              "  </svg>\n",
              "      </button>\n",
              "      \n",
              "  <style>\n",
              "    .colab-df-container {\n",
              "      display:flex;\n",
              "      flex-wrap:wrap;\n",
              "      gap: 12px;\n",
              "    }\n",
              "\n",
              "    .colab-df-convert {\n",
              "      background-color: #E8F0FE;\n",
              "      border: none;\n",
              "      border-radius: 50%;\n",
              "      cursor: pointer;\n",
              "      display: none;\n",
              "      fill: #1967D2;\n",
              "      height: 32px;\n",
              "      padding: 0 0 0 0;\n",
              "      width: 32px;\n",
              "    }\n",
              "\n",
              "    .colab-df-convert:hover {\n",
              "      background-color: #E2EBFA;\n",
              "      box-shadow: 0px 1px 2px rgba(60, 64, 67, 0.3), 0px 1px 3px 1px rgba(60, 64, 67, 0.15);\n",
              "      fill: #174EA6;\n",
              "    }\n",
              "\n",
              "    [theme=dark] .colab-df-convert {\n",
              "      background-color: #3B4455;\n",
              "      fill: #D2E3FC;\n",
              "    }\n",
              "\n",
              "    [theme=dark] .colab-df-convert:hover {\n",
              "      background-color: #434B5C;\n",
              "      box-shadow: 0px 1px 3px 1px rgba(0, 0, 0, 0.15);\n",
              "      filter: drop-shadow(0px 1px 2px rgba(0, 0, 0, 0.3));\n",
              "      fill: #FFFFFF;\n",
              "    }\n",
              "  </style>\n",
              "\n",
              "      <script>\n",
              "        const buttonEl =\n",
              "          document.querySelector('#df-635aaca1-f98a-441e-8ae3-9e0e936a5d2a button.colab-df-convert');\n",
              "        buttonEl.style.display =\n",
              "          google.colab.kernel.accessAllowed ? 'block' : 'none';\n",
              "\n",
              "        async function convertToInteractive(key) {\n",
              "          const element = document.querySelector('#df-635aaca1-f98a-441e-8ae3-9e0e936a5d2a');\n",
              "          const dataTable =\n",
              "            await google.colab.kernel.invokeFunction('convertToInteractive',\n",
              "                                                     [key], {});\n",
              "          if (!dataTable) return;\n",
              "\n",
              "          const docLinkHtml = 'Like what you see? Visit the ' +\n",
              "            '<a target=\"_blank\" href=https://colab.research.google.com/notebooks/data_table.ipynb>data table notebook</a>'\n",
              "            + ' to learn more about interactive tables.';\n",
              "          element.innerHTML = '';\n",
              "          dataTable['output_type'] = 'display_data';\n",
              "          await google.colab.output.renderOutput(dataTable, element);\n",
              "          const docLink = document.createElement('div');\n",
              "          docLink.innerHTML = docLinkHtml;\n",
              "          element.appendChild(docLink);\n",
              "        }\n",
              "      </script>\n",
              "    </div>\n",
              "  </div>\n",
              "  "
            ]
          },
          "metadata": {},
          "execution_count": 33
        }
      ]
    },
    {
      "cell_type": "code",
      "source": [
        "pred_df.sort_values(\"pos\",ascending=False).head(25)"
      ],
      "metadata": {
        "colab": {
          "base_uri": "https://localhost:8080/",
          "height": 833
        },
        "id": "TQO35DukNoVP",
        "outputId": "fe6dbd1f-6c0e-4f05-83fe-2313174a0491"
      },
      "execution_count": null,
      "outputs": [
        {
          "output_type": "execute_result",
          "data": {
            "text/plain": [
              "          neg       pos  active  \\\n",
              "275  0.051711  0.948289       1   \n",
              "39   0.070323  0.929677       1   \n",
              "278  0.120704  0.879296       1   \n",
              "193  0.221891  0.778109       1   \n",
              "458  0.243141  0.756859       1   \n",
              "102  0.332996  0.667004       1   \n",
              "147  0.591854  0.408146       1   \n",
              "85   0.799844  0.200156       0   \n",
              "293  0.817406  0.182594       0   \n",
              "118  0.882238  0.117762       1   \n",
              "272  0.885807  0.114193       0   \n",
              "95   0.918502  0.081498       0   \n",
              "338  0.921256  0.078744       0   \n",
              "229  0.930820  0.069180       0   \n",
              "206  0.933505  0.066495       0   \n",
              "249  0.940225  0.059775       0   \n",
              "248  0.941032  0.058968       0   \n",
              "61   0.950220  0.049780       0   \n",
              "74   0.955950  0.044050       0   \n",
              "116  0.956711  0.043288       0   \n",
              "393  0.958915  0.041085       0   \n",
              "130  0.959684  0.040316       0   \n",
              "48   0.961293  0.038707       0   \n",
              "405  0.962429  0.037571       0   \n",
              "285  0.962946  0.037054       0   \n",
              "\n",
              "                                                SMILES  \n",
              "275  c1ccc(cc1)CONC(=O)c2cc(c[nH]2)c3c(cn[nH]3)c4cc...  \n",
              "39     CCN(C)C(=O)c1cc(c[nH]1)c2c(cn[nH]2)c3cccc(c3)Cl  \n",
              "278  Cc1cc(ccc1Nc2ncc(c(n2)c3cc([nH]c3)C(=O)N[C@H](...  \n",
              "193  CCc1ccccc1Nc2ncc(c(n2)c3cc([nH]c3)C(=O)N[C@H](...  \n",
              "458  Cc1ccccc1Nc2ncc(c(n2)c3cc([nH]c3)C(=O)N[C@H](C...  \n",
              "102  c1cc(cc(c1)Cl)c2cn[nH]c2c3cc([nH]c3)C(=O)NC(CO...  \n",
              "147  CNC(=O)Nc1ccc(cn1)CNc2c(cnn2C)C(=O)Nc3ccc4c(c3...  \n",
              "85   CC1(O[C@@]2([C@@]([C@]([C@]([C@]([C@@]2(O1)C)(...  \n",
              "293                      Cc1c(c2c(cc1N)N(C(=O)CCO2)C)C  \n",
              "118  CNC(=O)Nc1ccc(cn1)CNc2c(scn2)C(=O)Nc3ccc4c(c3)...  \n",
              "272                      c1cc(ccc1n2cnc3c2nc(nc3N)N)Cl  \n",
              "95                     Cc1ccc(cc1c2nnnn2c3ccc(cc3)Br)N  \n",
              "338               O=C1N=c2ccccc2=C(O)/C1=C(\\O)Nc1nccs1  \n",
              "229             NC1=NC=N/C1=C1/NC(C(=O)NCC(F)(F)F)=CO1  \n",
              "206                     Cn1c(nnn1)Sc2c3cc(ccc3ncc2N)Br  \n",
              "249                          Cc1cc2c(ccc(c2nc1NN)Br)Br  \n",
              "248  O=C(CCNc1nc(Cl)nc2[nH]cnc12)NCCC1=c2cc(Cl)ccc2...  \n",
              "61                       NNc1ncc(Br)cc1/C(O)=N/c1nncs1  \n",
              "74        Cc1cc(c2cc(c(=O)[nH]c2c1)CNc3ccc4c(c3)OCO4)C  \n",
              "116   c1ccc(cc1)c2ccc(cc2)c3c(n4c(n3)SCC4)/C=N/NC(=S)N  \n",
              "393  CSc1nc2c(c(n1)N)[C@H](C3=C(C2)CCCC3=O)c4ccc(cc...  \n",
              "130      CN(C)/C=C/1\\C(=NN(C1=O)c2nc3ccccc3s2)c4ccccc4  \n",
              "48      c1ccc(cc1)c2nc([nH]n2)CN3c4ccccc4N[C@@H]3C5CC5  \n",
              "405  c1cc(c(cc1NC(=O)Nc2ccc(c(c2)C(F)(F)F)Cl)F)Oc3c...  \n",
              "285  C[C@@H](C(=O)Nc1ccc(c(c1)Cl)Cl)Nc2cccc(c2)N3CC...  "
            ],
            "text/html": [
              "\n",
              "  <div id=\"df-0b4ffc25-aaa3-40f5-9154-a34c1ba3d27f\">\n",
              "    <div class=\"colab-df-container\">\n",
              "      <div>\n",
              "<style scoped>\n",
              "    .dataframe tbody tr th:only-of-type {\n",
              "        vertical-align: middle;\n",
              "    }\n",
              "\n",
              "    .dataframe tbody tr th {\n",
              "        vertical-align: top;\n",
              "    }\n",
              "\n",
              "    .dataframe thead th {\n",
              "        text-align: right;\n",
              "    }\n",
              "</style>\n",
              "<table border=\"1\" class=\"dataframe\">\n",
              "  <thead>\n",
              "    <tr style=\"text-align: right;\">\n",
              "      <th></th>\n",
              "      <th>neg</th>\n",
              "      <th>pos</th>\n",
              "      <th>active</th>\n",
              "      <th>SMILES</th>\n",
              "    </tr>\n",
              "  </thead>\n",
              "  <tbody>\n",
              "    <tr>\n",
              "      <th>275</th>\n",
              "      <td>0.051711</td>\n",
              "      <td>0.948289</td>\n",
              "      <td>1</td>\n",
              "      <td>c1ccc(cc1)CONC(=O)c2cc(c[nH]2)c3c(cn[nH]3)c4cc...</td>\n",
              "    </tr>\n",
              "    <tr>\n",
              "      <th>39</th>\n",
              "      <td>0.070323</td>\n",
              "      <td>0.929677</td>\n",
              "      <td>1</td>\n",
              "      <td>CCN(C)C(=O)c1cc(c[nH]1)c2c(cn[nH]2)c3cccc(c3)Cl</td>\n",
              "    </tr>\n",
              "    <tr>\n",
              "      <th>278</th>\n",
              "      <td>0.120704</td>\n",
              "      <td>0.879296</td>\n",
              "      <td>1</td>\n",
              "      <td>Cc1cc(ccc1Nc2ncc(c(n2)c3cc([nH]c3)C(=O)N[C@H](...</td>\n",
              "    </tr>\n",
              "    <tr>\n",
              "      <th>193</th>\n",
              "      <td>0.221891</td>\n",
              "      <td>0.778109</td>\n",
              "      <td>1</td>\n",
              "      <td>CCc1ccccc1Nc2ncc(c(n2)c3cc([nH]c3)C(=O)N[C@H](...</td>\n",
              "    </tr>\n",
              "    <tr>\n",
              "      <th>458</th>\n",
              "      <td>0.243141</td>\n",
              "      <td>0.756859</td>\n",
              "      <td>1</td>\n",
              "      <td>Cc1ccccc1Nc2ncc(c(n2)c3cc([nH]c3)C(=O)N[C@H](C...</td>\n",
              "    </tr>\n",
              "    <tr>\n",
              "      <th>102</th>\n",
              "      <td>0.332996</td>\n",
              "      <td>0.667004</td>\n",
              "      <td>1</td>\n",
              "      <td>c1cc(cc(c1)Cl)c2cn[nH]c2c3cc([nH]c3)C(=O)NC(CO...</td>\n",
              "    </tr>\n",
              "    <tr>\n",
              "      <th>147</th>\n",
              "      <td>0.591854</td>\n",
              "      <td>0.408146</td>\n",
              "      <td>1</td>\n",
              "      <td>CNC(=O)Nc1ccc(cn1)CNc2c(cnn2C)C(=O)Nc3ccc4c(c3...</td>\n",
              "    </tr>\n",
              "    <tr>\n",
              "      <th>85</th>\n",
              "      <td>0.799844</td>\n",
              "      <td>0.200156</td>\n",
              "      <td>0</td>\n",
              "      <td>CC1(O[C@@]2([C@@]([C@]([C@]([C@]([C@@]2(O1)C)(...</td>\n",
              "    </tr>\n",
              "    <tr>\n",
              "      <th>293</th>\n",
              "      <td>0.817406</td>\n",
              "      <td>0.182594</td>\n",
              "      <td>0</td>\n",
              "      <td>Cc1c(c2c(cc1N)N(C(=O)CCO2)C)C</td>\n",
              "    </tr>\n",
              "    <tr>\n",
              "      <th>118</th>\n",
              "      <td>0.882238</td>\n",
              "      <td>0.117762</td>\n",
              "      <td>1</td>\n",
              "      <td>CNC(=O)Nc1ccc(cn1)CNc2c(scn2)C(=O)Nc3ccc4c(c3)...</td>\n",
              "    </tr>\n",
              "    <tr>\n",
              "      <th>272</th>\n",
              "      <td>0.885807</td>\n",
              "      <td>0.114193</td>\n",
              "      <td>0</td>\n",
              "      <td>c1cc(ccc1n2cnc3c2nc(nc3N)N)Cl</td>\n",
              "    </tr>\n",
              "    <tr>\n",
              "      <th>95</th>\n",
              "      <td>0.918502</td>\n",
              "      <td>0.081498</td>\n",
              "      <td>0</td>\n",
              "      <td>Cc1ccc(cc1c2nnnn2c3ccc(cc3)Br)N</td>\n",
              "    </tr>\n",
              "    <tr>\n",
              "      <th>338</th>\n",
              "      <td>0.921256</td>\n",
              "      <td>0.078744</td>\n",
              "      <td>0</td>\n",
              "      <td>O=C1N=c2ccccc2=C(O)/C1=C(\\O)Nc1nccs1</td>\n",
              "    </tr>\n",
              "    <tr>\n",
              "      <th>229</th>\n",
              "      <td>0.930820</td>\n",
              "      <td>0.069180</td>\n",
              "      <td>0</td>\n",
              "      <td>NC1=NC=N/C1=C1/NC(C(=O)NCC(F)(F)F)=CO1</td>\n",
              "    </tr>\n",
              "    <tr>\n",
              "      <th>206</th>\n",
              "      <td>0.933505</td>\n",
              "      <td>0.066495</td>\n",
              "      <td>0</td>\n",
              "      <td>Cn1c(nnn1)Sc2c3cc(ccc3ncc2N)Br</td>\n",
              "    </tr>\n",
              "    <tr>\n",
              "      <th>249</th>\n",
              "      <td>0.940225</td>\n",
              "      <td>0.059775</td>\n",
              "      <td>0</td>\n",
              "      <td>Cc1cc2c(ccc(c2nc1NN)Br)Br</td>\n",
              "    </tr>\n",
              "    <tr>\n",
              "      <th>248</th>\n",
              "      <td>0.941032</td>\n",
              "      <td>0.058968</td>\n",
              "      <td>0</td>\n",
              "      <td>O=C(CCNc1nc(Cl)nc2[nH]cnc12)NCCC1=c2cc(Cl)ccc2...</td>\n",
              "    </tr>\n",
              "    <tr>\n",
              "      <th>61</th>\n",
              "      <td>0.950220</td>\n",
              "      <td>0.049780</td>\n",
              "      <td>0</td>\n",
              "      <td>NNc1ncc(Br)cc1/C(O)=N/c1nncs1</td>\n",
              "    </tr>\n",
              "    <tr>\n",
              "      <th>74</th>\n",
              "      <td>0.955950</td>\n",
              "      <td>0.044050</td>\n",
              "      <td>0</td>\n",
              "      <td>Cc1cc(c2cc(c(=O)[nH]c2c1)CNc3ccc4c(c3)OCO4)C</td>\n",
              "    </tr>\n",
              "    <tr>\n",
              "      <th>116</th>\n",
              "      <td>0.956711</td>\n",
              "      <td>0.043288</td>\n",
              "      <td>0</td>\n",
              "      <td>c1ccc(cc1)c2ccc(cc2)c3c(n4c(n3)SCC4)/C=N/NC(=S)N</td>\n",
              "    </tr>\n",
              "    <tr>\n",
              "      <th>393</th>\n",
              "      <td>0.958915</td>\n",
              "      <td>0.041085</td>\n",
              "      <td>0</td>\n",
              "      <td>CSc1nc2c(c(n1)N)[C@H](C3=C(C2)CCCC3=O)c4ccc(cc...</td>\n",
              "    </tr>\n",
              "    <tr>\n",
              "      <th>130</th>\n",
              "      <td>0.959684</td>\n",
              "      <td>0.040316</td>\n",
              "      <td>0</td>\n",
              "      <td>CN(C)/C=C/1\\C(=NN(C1=O)c2nc3ccccc3s2)c4ccccc4</td>\n",
              "    </tr>\n",
              "    <tr>\n",
              "      <th>48</th>\n",
              "      <td>0.961293</td>\n",
              "      <td>0.038707</td>\n",
              "      <td>0</td>\n",
              "      <td>c1ccc(cc1)c2nc([nH]n2)CN3c4ccccc4N[C@@H]3C5CC5</td>\n",
              "    </tr>\n",
              "    <tr>\n",
              "      <th>405</th>\n",
              "      <td>0.962429</td>\n",
              "      <td>0.037571</td>\n",
              "      <td>0</td>\n",
              "      <td>c1cc(c(cc1NC(=O)Nc2ccc(c(c2)C(F)(F)F)Cl)F)Oc3c...</td>\n",
              "    </tr>\n",
              "    <tr>\n",
              "      <th>285</th>\n",
              "      <td>0.962946</td>\n",
              "      <td>0.037054</td>\n",
              "      <td>0</td>\n",
              "      <td>C[C@@H](C(=O)Nc1ccc(c(c1)Cl)Cl)Nc2cccc(c2)N3CC...</td>\n",
              "    </tr>\n",
              "  </tbody>\n",
              "</table>\n",
              "</div>\n",
              "      <button class=\"colab-df-convert\" onclick=\"convertToInteractive('df-0b4ffc25-aaa3-40f5-9154-a34c1ba3d27f')\"\n",
              "              title=\"Convert this dataframe to an interactive table.\"\n",
              "              style=\"display:none;\">\n",
              "        \n",
              "  <svg xmlns=\"http://www.w3.org/2000/svg\" height=\"24px\"viewBox=\"0 0 24 24\"\n",
              "       width=\"24px\">\n",
              "    <path d=\"M0 0h24v24H0V0z\" fill=\"none\"/>\n",
              "    <path d=\"M18.56 5.44l.94 2.06.94-2.06 2.06-.94-2.06-.94-.94-2.06-.94 2.06-2.06.94zm-11 1L8.5 8.5l.94-2.06 2.06-.94-2.06-.94L8.5 2.5l-.94 2.06-2.06.94zm10 10l.94 2.06.94-2.06 2.06-.94-2.06-.94-.94-2.06-.94 2.06-2.06.94z\"/><path d=\"M17.41 7.96l-1.37-1.37c-.4-.4-.92-.59-1.43-.59-.52 0-1.04.2-1.43.59L10.3 9.45l-7.72 7.72c-.78.78-.78 2.05 0 2.83L4 21.41c.39.39.9.59 1.41.59.51 0 1.02-.2 1.41-.59l7.78-7.78 2.81-2.81c.8-.78.8-2.07 0-2.86zM5.41 20L4 18.59l7.72-7.72 1.47 1.35L5.41 20z\"/>\n",
              "  </svg>\n",
              "      </button>\n",
              "      \n",
              "  <style>\n",
              "    .colab-df-container {\n",
              "      display:flex;\n",
              "      flex-wrap:wrap;\n",
              "      gap: 12px;\n",
              "    }\n",
              "\n",
              "    .colab-df-convert {\n",
              "      background-color: #E8F0FE;\n",
              "      border: none;\n",
              "      border-radius: 50%;\n",
              "      cursor: pointer;\n",
              "      display: none;\n",
              "      fill: #1967D2;\n",
              "      height: 32px;\n",
              "      padding: 0 0 0 0;\n",
              "      width: 32px;\n",
              "    }\n",
              "\n",
              "    .colab-df-convert:hover {\n",
              "      background-color: #E2EBFA;\n",
              "      box-shadow: 0px 1px 2px rgba(60, 64, 67, 0.3), 0px 1px 3px 1px rgba(60, 64, 67, 0.15);\n",
              "      fill: #174EA6;\n",
              "    }\n",
              "\n",
              "    [theme=dark] .colab-df-convert {\n",
              "      background-color: #3B4455;\n",
              "      fill: #D2E3FC;\n",
              "    }\n",
              "\n",
              "    [theme=dark] .colab-df-convert:hover {\n",
              "      background-color: #434B5C;\n",
              "      box-shadow: 0px 1px 3px 1px rgba(0, 0, 0, 0.15);\n",
              "      filter: drop-shadow(0px 1px 2px rgba(0, 0, 0, 0.3));\n",
              "      fill: #FFFFFF;\n",
              "    }\n",
              "  </style>\n",
              "\n",
              "      <script>\n",
              "        const buttonEl =\n",
              "          document.querySelector('#df-0b4ffc25-aaa3-40f5-9154-a34c1ba3d27f button.colab-df-convert');\n",
              "        buttonEl.style.display =\n",
              "          google.colab.kernel.accessAllowed ? 'block' : 'none';\n",
              "\n",
              "        async function convertToInteractive(key) {\n",
              "          const element = document.querySelector('#df-0b4ffc25-aaa3-40f5-9154-a34c1ba3d27f');\n",
              "          const dataTable =\n",
              "            await google.colab.kernel.invokeFunction('convertToInteractive',\n",
              "                                                     [key], {});\n",
              "          if (!dataTable) return;\n",
              "\n",
              "          const docLinkHtml = 'Like what you see? Visit the ' +\n",
              "            '<a target=\"_blank\" href=https://colab.research.google.com/notebooks/data_table.ipynb>data table notebook</a>'\n",
              "            + ' to learn more about interactive tables.';\n",
              "          element.innerHTML = '';\n",
              "          dataTable['output_type'] = 'display_data';\n",
              "          await google.colab.output.renderOutput(dataTable, element);\n",
              "          const docLink = document.createElement('div');\n",
              "          docLink.innerHTML = docLinkHtml;\n",
              "          element.appendChild(docLink);\n",
              "        }\n",
              "      </script>\n",
              "    </div>\n",
              "  </div>\n",
              "  "
            ]
          },
          "metadata": {},
          "execution_count": 34
        }
      ]
    },
    {
      "cell_type": "code",
      "source": [
        "sns.boxplot(x=pred_df.active,y=pred_df.pos)"
      ],
      "metadata": {
        "colab": {
          "base_uri": "https://localhost:8080/",
          "height": 296
        },
        "id": "PKH1XjfD1X3c",
        "outputId": "7308f19c-5d5e-4ae0-b611-9b88ecb7bdb9"
      },
      "execution_count": null,
      "outputs": [
        {
          "output_type": "execute_result",
          "data": {
            "text/plain": [
              "<matplotlib.axes._subplots.AxesSubplot at 0x7fd27c251dd0>"
            ]
          },
          "metadata": {},
          "execution_count": 35
        },
        {
          "output_type": "display_data",
          "data": {
            "text/plain": [
              "<Figure size 432x288 with 1 Axes>"
            ],
            "image/png": "[encoded data removed]"
          },
          "metadata": {
            "image/png": {
              "width": 385,
              "height": 261
            },
            "needs_background": "light"
          }
        }
      ]
    },
    {
      "cell_type": "markdown",
      "source": [
        "- 위 그래프를 보면 활성 분자와 비활성 분자를 잘 구분하고 있는 것을 알 수 있다\n",
        "- False Negative 샘플 찾기"
      ],
      "metadata": {
        "id": "-XhDRA1o2q0E"
      }
    },
    {
      "cell_type": "code",
      "source": [
        "false_negative_df = pred_df.query(\"active == 1 & pos < 0.5\").copy()"
      ],
      "metadata": {
        "id": "ac4wexF92kbu"
      },
      "execution_count": null,
      "outputs": []
    },
    {
      "cell_type": "code",
      "source": [
        "PandasTools.AddMoleculeColumnToFrame(false_negative_df,\"SMILES\",\"Mol\")\n",
        "false_negative_df"
      ],
      "metadata": {
        "colab": {
          "base_uri": "https://localhost:8080/",
          "height": 291
        },
        "id": "CG6W5TXT4Gwq",
        "outputId": "2a9ad6f5-f4fe-4939-f82f-18fc43d15fe3"
      },
      "execution_count": null,
      "outputs": [
        {
          "output_type": "execute_result",
          "data": {
            "text/plain": [
              "          neg       pos  active  \\\n",
              "2    0.999118  0.000882       1   \n",
              "118  0.882238  0.117762       1   \n",
              "147  0.591854  0.408146       1   \n",
              "454  0.999976  0.000024       1   \n",
              "\n",
              "                                                SMILES  \\\n",
              "2    C[C@@]12[C@@H]([C@@H](CC(O1)n3c4ccccc4c5c3c6n2...   \n",
              "118  CNC(=O)Nc1ccc(cn1)CNc2c(scn2)C(=O)Nc3ccc4c(c3)...   \n",
              "147  CNC(=O)Nc1ccc(cn1)CNc2c(cnn2C)C(=O)Nc3ccc4c(c3...   \n",
              "454  c1c(c2c(ncnc2n1[C@H]3[C@@H]([C@@H]([C@H](O3)CO...   \n",
              "\n",
              "                                                   Mol  \n",
              "2    <img data-content=\"rdkit/molecule\" src=\"data:i...  \n",
              "118  <img data-content=\"rdkit/molecule\" src=\"data:i...  \n",
              "147  <img data-content=\"rdkit/molecule\" src=\"data:i...  \n",
              "454  <img data-content=\"rdkit/molecule\" src=\"data:i...  "
            ],
            "text/html": [
              "\n",
              "  <div id=\"df-2ee36959-82f2-4f22-90ce-09acc5c732ca\">\n",
              "    <div class=\"colab-df-container\">\n",
              "      <div>\n",
              "<style scoped>\n",
              "    .dataframe tbody tr th:only-of-type {\n",
              "        vertical-align: middle;\n",
              "    }\n",
              "\n",
              "    .dataframe tbody tr th {\n",
              "        vertical-align: top;\n",
              "    }\n",
              "\n",
              "    .dataframe thead th {\n",
              "        text-align: right;\n",
              "    }\n",
              "</style>\n",
              "<table border=\"1\" class=\"dataframe\">\n",
              "  <thead>\n",
              "    <tr style=\"text-align: right;\">\n",
              "      <th></th>\n",
              "      <th>neg</th>\n",
              "      <th>pos</th>\n",
              "      <th>active</th>\n",
              "      <th>SMILES</th>\n",
              "      <th>Mol</th>\n",
              "    </tr>\n",
              "  </thead>\n",
              "  <tbody>\n",
              "    <tr>\n",
              "      <th>2</th>\n",
              "      <td>0.999118</td>\n",
              "      <td>0.000882</td>\n",
              "      <td>1</td>\n",
              "      <td>C[C@@]12[C@@H]([C@@H](CC(O1)n3c4ccccc4c5c3c6n2...</td>\n",
              "      <td>&lt;img data-content=\"rdkit/molecule\" src=\"data:image/png;base64,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\" alt=\"Mol\"/&gt;</td>\n",
              "    </tr>\n",
              "    <tr>\n",
              "      <th>118</th>\n",
              "      <td>0.882238</td>\n",
              "      <td>0.117762</td>\n",
              "      <td>1</td>\n",
              "      <td>CNC(=O)Nc1ccc(cn1)CNc2c(scn2)C(=O)Nc3ccc4c(c3)...</td>\n",
              "      <td>&lt;img data-content=\"rdkit/molecule\" src=\"data:image/png;base64,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\" alt=\"Mol\"/&gt;</td>\n",
              "    </tr>\n",
              "    <tr>\n",
              "      <th>147</th>\n",
              "      <td>0.591854</td>\n",
              "      <td>0.408146</td>\n",
              "      <td>1</td>\n",
              "      <td>CNC(=O)Nc1ccc(cn1)CNc2c(cnn2C)C(=O)Nc3ccc4c(c3...</td>\n",
              "      <td>&lt;img data-content=\"rdkit/molecule\" src=\"data:image/png;base64,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\" alt=\"Mol\"/&gt;</td>\n",
              "    </tr>\n",
              "    <tr>\n",
              "      <th>454</th>\n",
              "      <td>0.999976</td>\n",
              "      <td>0.000024</td>\n",
              "      <td>1</td>\n",
              "      <td>c1c(c2c(ncnc2n1[C@H]3[C@@H]([C@@H]([C@H](O3)CO...</td>\n",
              "      <td>&lt;img data-content=\"rdkit/molecule\" src=\"data:image/png;base64,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\" alt=\"Mol\"/&gt;</td>\n",
              "    </tr>\n",
              "  </tbody>\n",
              "</table>\n",
              "</div>\n",
              "      <button class=\"colab-df-convert\" onclick=\"convertToInteractive('df-2ee36959-82f2-4f22-90ce-09acc5c732ca')\"\n",
              "              title=\"Convert this dataframe to an interactive table.\"\n",
              "              style=\"display:none;\">\n",
              "        \n",
              "  <svg xmlns=\"http://www.w3.org/2000/svg\" height=\"24px\"viewBox=\"0 0 24 24\"\n",
              "       width=\"24px\">\n",
              "    <path d=\"M0 0h24v24H0V0z\" fill=\"none\"/>\n",
              "    <path d=\"M18.56 5.44l.94 2.06.94-2.06 2.06-.94-2.06-.94-.94-2.06-.94 2.06-2.06.94zm-11 1L8.5 8.5l.94-2.06 2.06-.94-2.06-.94L8.5 2.5l-.94 2.06-2.06.94zm10 10l.94 2.06.94-2.06 2.06-.94-2.06-.94-.94-2.06-.94 2.06-2.06.94z\"/><path d=\"M17.41 7.96l-1.37-1.37c-.4-.4-.92-.59-1.43-.59-.52 0-1.04.2-1.43.59L10.3 9.45l-7.72 7.72c-.78.78-.78 2.05 0 2.83L4 21.41c.39.39.9.59 1.41.59.51 0 1.02-.2 1.41-.59l7.78-7.78 2.81-2.81c.8-.78.8-2.07 0-2.86zM5.41 20L4 18.59l7.72-7.72 1.47 1.35L5.41 20z\"/>\n",
              "  </svg>\n",
              "      </button>\n",
              "      \n",
              "  <style>\n",
              "    .colab-df-container {\n",
              "      display:flex;\n",
              "      flex-wrap:wrap;\n",
              "      gap: 12px;\n",
              "    }\n",
              "\n",
              "    .colab-df-convert {\n",
              "      background-color: #E8F0FE;\n",
              "      border: none;\n",
              "      border-radius: 50%;\n",
              "      cursor: pointer;\n",
              "      display: none;\n",
              "      fill: #1967D2;\n",
              "      height: 32px;\n",
              "      padding: 0 0 0 0;\n",
              "      width: 32px;\n",
              "    }\n",
              "\n",
              "    .colab-df-convert:hover {\n",
              "      background-color: #E2EBFA;\n",
              "      box-shadow: 0px 1px 2px rgba(60, 64, 67, 0.3), 0px 1px 3px 1px rgba(60, 64, 67, 0.15);\n",
              "      fill: #174EA6;\n",
              "    }\n",
              "\n",
              "    [theme=dark] .colab-df-convert {\n",
              "      background-color: #3B4455;\n",
              "      fill: #D2E3FC;\n",
              "    }\n",
              "\n",
              "    [theme=dark] .colab-df-convert:hover {\n",
              "      background-color: #434B5C;\n",
              "      box-shadow: 0px 1px 3px 1px rgba(0, 0, 0, 0.15);\n",
              "      filter: drop-shadow(0px 1px 2px rgba(0, 0, 0, 0.3));\n",
              "      fill: #FFFFFF;\n",
              "    }\n",
              "  </style>\n",
              "\n",
              "      <script>\n",
              "        const buttonEl =\n",
              "          document.querySelector('#df-2ee36959-82f2-4f22-90ce-09acc5c732ca button.colab-df-convert');\n",
              "        buttonEl.style.display =\n",
              "          google.colab.kernel.accessAllowed ? 'block' : 'none';\n",
              "\n",
              "        async function convertToInteractive(key) {\n",
              "          const element = document.querySelector('#df-2ee36959-82f2-4f22-90ce-09acc5c732ca');\n",
              "          const dataTable =\n",
              "            await google.colab.kernel.invokeFunction('convertToInteractive',\n",
              "                                                     [key], {});\n",
              "          if (!dataTable) return;\n",
              "\n",
              "          const docLinkHtml = 'Like what you see? Visit the ' +\n",
              "            '<a target=\"_blank\" href=https://colab.research.google.com/notebooks/data_table.ipynb>data table notebook</a>'\n",
              "            + ' to learn more about interactive tables.';\n",
              "          element.innerHTML = '';\n",
              "          dataTable['output_type'] = 'display_data';\n",
              "          await google.colab.output.renderOutput(dataTable, element);\n",
              "          const docLink = document.createElement('div');\n",
              "          docLink.innerHTML = docLinkHtml;\n",
              "          element.appendChild(docLink);\n",
              "        }\n",
              "      </script>\n",
              "    </div>\n",
              "  </div>\n",
              "  "
            ]
          },
          "metadata": {},
          "execution_count": 37
        }
      ]
    },
    {
      "cell_type": "markdown",
      "source": [
        "- False Positive 샘플 찾기"
      ],
      "metadata": {
        "id": "MoBBTdBA7dfL"
      }
    },
    {
      "cell_type": "code",
      "source": [
        "false_positive_df = pred_df.query(\"active == 0 & pos > 0.5\").copy()\n",
        "PandasTools.AddMoleculeColumnToFrame(false_positive_df,\"SMILES\",\"Mol\")\n",
        "false_positive_df"
      ],
      "metadata": {
        "colab": {
          "base_uri": "https://localhost:8080/",
          "height": 49
        },
        "id": "hqgI9dbe4N51",
        "outputId": "f36fc46d-4df4-44e8-b249-0b125de0bfae"
      },
      "execution_count": null,
      "outputs": [
        {
          "output_type": "execute_result",
          "data": {
            "text/plain": [
              "Empty DataFrame\n",
              "Columns: [neg, pos, active, SMILES, Mol]\n",
              "Index: []"
            ],
            "text/html": [
              "\n",
              "  <div id=\"df-a1039916-331b-4059-9a2c-86355a54635d\">\n",
              "    <div class=\"colab-df-container\">\n",
              "      <div>\n",
              "<style scoped>\n",
              "    .dataframe tbody tr th:only-of-type {\n",
              "        vertical-align: middle;\n",
              "    }\n",
              "\n",
              "    .dataframe tbody tr th {\n",
              "        vertical-align: top;\n",
              "    }\n",
              "\n",
              "    .dataframe thead th {\n",
              "        text-align: right;\n",
              "    }\n",
              "</style>\n",
              "<table border=\"1\" class=\"dataframe\">\n",
              "  <thead>\n",
              "    <tr style=\"text-align: right;\">\n",
              "      <th></th>\n",
              "      <th>neg</th>\n",
              "      <th>pos</th>\n",
              "      <th>active</th>\n",
              "      <th>SMILES</th>\n",
              "      <th>Mol</th>\n",
              "    </tr>\n",
              "  </thead>\n",
              "  <tbody>\n",
              "  </tbody>\n",
              "</table>\n",
              "</div>\n",
              "      <button class=\"colab-df-convert\" onclick=\"convertToInteractive('df-a1039916-331b-4059-9a2c-86355a54635d')\"\n",
              "              title=\"Convert this dataframe to an interactive table.\"\n",
              "              style=\"display:none;\">\n",
              "        \n",
              "  <svg xmlns=\"http://www.w3.org/2000/svg\" height=\"24px\"viewBox=\"0 0 24 24\"\n",
              "       width=\"24px\">\n",
              "    <path d=\"M0 0h24v24H0V0z\" fill=\"none\"/>\n",
              "    <path d=\"M18.56 5.44l.94 2.06.94-2.06 2.06-.94-2.06-.94-.94-2.06-.94 2.06-2.06.94zm-11 1L8.5 8.5l.94-2.06 2.06-.94-2.06-.94L8.5 2.5l-.94 2.06-2.06.94zm10 10l.94 2.06.94-2.06 2.06-.94-2.06-.94-.94-2.06-.94 2.06-2.06.94z\"/><path d=\"M17.41 7.96l-1.37-1.37c-.4-.4-.92-.59-1.43-.59-.52 0-1.04.2-1.43.59L10.3 9.45l-7.72 7.72c-.78.78-.78 2.05 0 2.83L4 21.41c.39.39.9.59 1.41.59.51 0 1.02-.2 1.41-.59l7.78-7.78 2.81-2.81c.8-.78.8-2.07 0-2.86zM5.41 20L4 18.59l7.72-7.72 1.47 1.35L5.41 20z\"/>\n",
              "  </svg>\n",
              "      </button>\n",
              "      \n",
              "  <style>\n",
              "    .colab-df-container {\n",
              "      display:flex;\n",
              "      flex-wrap:wrap;\n",
              "      gap: 12px;\n",
              "    }\n",
              "\n",
              "    .colab-df-convert {\n",
              "      background-color: #E8F0FE;\n",
              "      border: none;\n",
              "      border-radius: 50%;\n",
              "      cursor: pointer;\n",
              "      display: none;\n",
              "      fill: #1967D2;\n",
              "      height: 32px;\n",
              "      padding: 0 0 0 0;\n",
              "      width: 32px;\n",
              "    }\n",
              "\n",
              "    .colab-df-convert:hover {\n",
              "      background-color: #E2EBFA;\n",
              "      box-shadow: 0px 1px 2px rgba(60, 64, 67, 0.3), 0px 1px 3px 1px rgba(60, 64, 67, 0.15);\n",
              "      fill: #174EA6;\n",
              "    }\n",
              "\n",
              "    [theme=dark] .colab-df-convert {\n",
              "      background-color: #3B4455;\n",
              "      fill: #D2E3FC;\n",
              "    }\n",
              "\n",
              "    [theme=dark] .colab-df-convert:hover {\n",
              "      background-color: #434B5C;\n",
              "      box-shadow: 0px 1px 3px 1px rgba(0, 0, 0, 0.15);\n",
              "      filter: drop-shadow(0px 1px 2px rgba(0, 0, 0, 0.3));\n",
              "      fill: #FFFFFF;\n",
              "    }\n",
              "  </style>\n",
              "\n",
              "      <script>\n",
              "        const buttonEl =\n",
              "          document.querySelector('#df-a1039916-331b-4059-9a2c-86355a54635d button.colab-df-convert');\n",
              "        buttonEl.style.display =\n",
              "          google.colab.kernel.accessAllowed ? 'block' : 'none';\n",
              "\n",
              "        async function convertToInteractive(key) {\n",
              "          const element = document.querySelector('#df-a1039916-331b-4059-9a2c-86355a54635d');\n",
              "          const dataTable =\n",
              "            await google.colab.kernel.invokeFunction('convertToInteractive',\n",
              "                                                     [key], {});\n",
              "          if (!dataTable) return;\n",
              "\n",
              "          const docLinkHtml = 'Like what you see? Visit the ' +\n",
              "            '<a target=\"_blank\" href=https://colab.research.google.com/notebooks/data_table.ipynb>data table notebook</a>'\n",
              "            + ' to learn more about interactive tables.';\n",
              "          element.innerHTML = '';\n",
              "          dataTable['output_type'] = 'display_data';\n",
              "          await google.colab.output.renderOutput(dataTable, element);\n",
              "          const docLink = document.createElement('div');\n",
              "          docLink.innerHTML = docLinkHtml;\n",
              "          element.appendChild(docLink);\n",
              "        }\n",
              "      </script>\n",
              "    </div>\n",
              "  </div>\n",
              "  "
            ]
          },
          "metadata": {},
          "execution_count": 38
        }
      ]
    },
    {
      "cell_type": "markdown",
      "source": [
        "## 모든 데이터로 학습을 시킨다"
      ],
      "metadata": {
        "id": "A0LlQnRs7yyb"
      }
    },
    {
      "cell_type": "code",
      "source": [
        "model.fit(dataset)"
      ],
      "metadata": {
        "colab": {
          "base_uri": "https://localhost:8080/"
        },
        "id": "HNwLHqXI4Zqc",
        "outputId": "5881ab5e-1130-4aed-f9d2-e1fb8f2a14ed"
      },
      "execution_count": null,
      "outputs": [
        {
          "output_type": "execute_result",
          "data": {
            "text/plain": [
              "0.0007041013489166895"
            ]
          },
          "metadata": {},
          "execution_count": 39
        }
      ]
    },
    {
      "cell_type": "markdown",
      "source": [
        "- 기존의 알고 있는 데이터셋으로 모델을 만들고 새로운 분자의 활성을 예측하게 된다.\n",
        "- 위에서는 ERK2 단백질의 활성을 억제하는 분자를 예측하는 모델을 만들었다. 여기에 새로운 데이터셋을 사용하여 분자의 활성을 예측해보겠다\n",
        " - ZINC 데이터베이스의 일부를 사용하겠다\n",
        " - 생물학적 분석이 어려운 분자들을 제거하고 사용해야 한다 (ChEMBL 데이터베이스를 사용하겠다)\n",
        " - rd_filters.py 사용"
      ],
      "metadata": {
        "id": "RyY-78pg9Tki"
      }
    },
    {
      "cell_type": "code",
      "source": [
        "# !pwd"
      ],
      "metadata": {
        "id": "zv3RnS38F_UA"
      },
      "execution_count": null,
      "outputs": []
    },
    {
      "cell_type": "code",
      "source": [
        "# !git clone https://github.com/PatWalters/rd_filters"
      ],
      "metadata": {
        "id": "wamL4t7fGKO8"
      },
      "execution_count": null,
      "outputs": []
    },
    {
      "cell_type": "code",
      "source": [
        "# %cd rd_filters\n",
        "# !pip install ."
      ],
      "metadata": {
        "id": "b1NViqSRGZMM"
      },
      "execution_count": null,
      "outputs": []
    },
    {
      "cell_type": "code",
      "source": [
        "# !pwd"
      ],
      "metadata": {
        "id": "nXXMgXJUGmDn"
      },
      "execution_count": null,
      "outputs": []
    },
    {
      "cell_type": "code",
      "source": [
        "# %cd rd_filters"
      ],
      "metadata": {
        "id": "4FJtgKhpGyL6"
      },
      "execution_count": null,
      "outputs": []
    },
    {
      "cell_type": "code",
      "source": [
        "# !ls"
      ],
      "metadata": {
        "id": "QWPMCDVBG3u1"
      },
      "execution_count": null,
      "outputs": []
    },
    {
      "cell_type": "code",
      "source": [
        "# !python rd_filters.py -h"
      ],
      "metadata": {
        "id": "6Ug_sVkwBofD"
      },
      "execution_count": null,
      "outputs": []
    },
    {
      "cell_type": "code",
      "source": [
        "# !pwd"
      ],
      "metadata": {
        "id": "hBSaoBRfBtft"
      },
      "execution_count": null,
      "outputs": []
    },
    {
      "cell_type": "code",
      "source": [
        "# !curl -o zinc_100k.smi https://raw.githubusercontent.com/deepchem/DeepLearningLifeSciences/master/Chapter11/zinc_100k.smi"
      ],
      "metadata": {
        "id": "YJxwXzFVHnk1"
      },
      "execution_count": null,
      "outputs": []
    },
    {
      "cell_type": "code",
      "source": [
        "# !ls"
      ],
      "metadata": {
        "id": "_hGYJy4rJCin"
      },
      "execution_count": null,
      "outputs": []
    },
    {
      "cell_type": "code",
      "source": [
        "# !python rd_filters.py filter --in zinc_100k.smi --prefix zinc"
      ],
      "metadata": {
        "id": "5ZrMRyXmIvMG"
      },
      "execution_count": null,
      "outputs": []
    },
    {
      "cell_type": "markdown",
      "source": [
        "- Inpharmatica 규칙을 사용했으며 이는 생물학적 분석이 어려운 화합물을 제거하기 위해 사용한다\n",
        "- SMILE 문자열 필터를 통과한 데이터는 zinc.smi 파일에 저장되며, 특정 구조를 형성한 화합물에 대한 정보는 zinc.csv에 저장된다\n",
        "- 전체 분자중 68%가 통과하였다"
      ],
      "metadata": {
        "id": "mHoAN8f1JghD"
      }
    },
    {
      "cell_type": "markdown",
      "source": [
        "## 다른 실행 방법"
      ],
      "metadata": {
        "id": "1Erm6SkqLhtF"
      }
    },
    {
      "cell_type": "code",
      "source": [
        "% cd /content"
      ],
      "metadata": {
        "colab": {
          "base_uri": "https://localhost:8080/"
        },
        "id": "-oko11boJcvz",
        "outputId": "fd9c39b8-dd55-447e-852f-d0a999dd89f4"
      },
      "execution_count": null,
      "outputs": [
        {
          "output_type": "stream",
          "name": "stdout",
          "text": [
            "/content\n"
          ]
        }
      ]
    },
    {
      "cell_type": "code",
      "source": [
        "!pwd"
      ],
      "metadata": {
        "colab": {
          "base_uri": "https://localhost:8080/"
        },
        "id": "jjCJzOdsKxgN",
        "outputId": "98696493-a25a-4da8-878c-9f7572d6aed2"
      },
      "execution_count": null,
      "outputs": [
        {
          "output_type": "stream",
          "name": "stdout",
          "text": [
            "/content\n"
          ]
        }
      ]
    },
    {
      "cell_type": "code",
      "source": [
        "!pip install git+https://github.com/PatWalters/rd_filters.git\n"
      ],
      "metadata": {
        "colab": {
          "base_uri": "https://localhost:8080/"
        },
        "id": "AmEvCrJ6KyOn",
        "outputId": "62f76153-c33f-4c40-db97-2186888ea4e3"
      },
      "execution_count": null,
      "outputs": [
        {
          "output_type": "stream",
          "name": "stdout",
          "text": [
            "Collecting git+https://github.com/PatWalters/rd_filters.git\n",
            "  Cloning https://github.com/PatWalters/rd_filters.git to /tmp/pip-req-build-bl7ud40j\n",
            "  Running command git clone -q https://github.com/PatWalters/rd_filters.git /tmp/pip-req-build-bl7ud40j\n",
            "Requirement already satisfied: pandas in /usr/local/lib/python3.7/dist-packages (from rd-filters==0.1) (1.3.5)\n",
            "Requirement already satisfied: docopt in /usr/local/lib/python3.7/dist-packages (from rd-filters==0.1) (0.6.2)\n",
            "Requirement already satisfied: python-dateutil>=2.7.3 in /usr/local/lib/python3.7/dist-packages (from pandas->rd-filters==0.1) (2.8.2)\n",
            "Requirement already satisfied: pytz>=2017.3 in /usr/local/lib/python3.7/dist-packages (from pandas->rd-filters==0.1) (2022.1)\n",
            "Requirement already satisfied: numpy>=1.17.3 in /usr/local/lib/python3.7/dist-packages (from pandas->rd-filters==0.1) (1.21.6)\n",
            "Requirement already satisfied: six>=1.5 in /usr/local/lib/python3.7/dist-packages (from python-dateutil>=2.7.3->pandas->rd-filters==0.1) (1.15.0)\n",
            "Building wheels for collected packages: rd-filters\n",
            "  Building wheel for rd-filters (setup.py) ... \u001b[?25l\u001b[?25hdone\n",
            "  Created wheel for rd-filters: filename=rd_filters-0.1-py3-none-any.whl size=33802 sha256=7d0bade6326cf5ea0003df84a9c0e1455d95b09c80f7ea62af4d85b2b0838185\n",
            "  Stored in directory: /tmp/pip-ephem-wheel-cache-ba9joak5/wheels/18/23/0c/f8d3c66d34f5ee86ae3992e1fdd45c94223ee21fcde6f01192\n",
            "Successfully built rd-filters\n",
            "Installing collected packages: rd-filters\n",
            "Successfully installed rd-filters-0.1\n"
          ]
        }
      ]
    },
    {
      "cell_type": "code",
      "source": [
        "!rd_filters -h\n"
      ],
      "metadata": {
        "colab": {
          "base_uri": "https://localhost:8080/"
        },
        "id": "dmDMMg-QLMnq",
        "outputId": "7589cdc2-4e49-4b8a-bcfa-dfab3e6b705a"
      },
      "execution_count": null,
      "outputs": [
        {
          "output_type": "stream",
          "name": "stdout",
          "text": [
            "Usage:\n",
            "rd_filters filter --in INPUT_FILE --prefix PREFIX [--rules RULES_FILE_NAME] [--alerts ALERT_FILE_NAME][--np NUM_CORES]\n",
            "rd_filters template --out TEMPLATE_FILE [--rules RULES_FILE_NAME]\n",
            "\n",
            "Options:\n",
            "--in INPUT_FILE input file name\n",
            "--prefix PREFIX prefix for output file names\n",
            "--rules RULES_FILE_NAME name of the rules JSON file\n",
            "--alerts ALERTS_FILE_NAME name of the structural alerts file\n",
            "--np NUM_CORES the number of cpu cores to use (default is all)\n",
            "--out TEMPLATE_FILE parameter template file name\n"
          ]
        }
      ]
    },
    {
      "cell_type": "code",
      "source": [
        "!curl -o zinc_100k.smi https://raw.githubusercontent.com/deepchem/DeepLearningLifeSciences/master/Chapter11/zinc_100k.smi"
      ],
      "metadata": {
        "colab": {
          "base_uri": "https://localhost:8080/"
        },
        "id": "5tyWlKSfLq3T",
        "outputId": "b2f1fd47-d17d-461b-86b8-9c5102a9fc00"
      },
      "execution_count": null,
      "outputs": [
        {
          "output_type": "stream",
          "name": "stdout",
          "text": [
            "  % Total    % Received % Xferd  Average Speed   Time    Time     Time  Current\n",
            "                                 Dload  Upload   Total   Spent    Left  Speed\n",
            "100 6159k  100 6159k    0     0  10.7M      0 --:--:-- --:--:-- --:--:-- 10.7M\n"
          ]
        }
      ]
    },
    {
      "cell_type": "code",
      "source": [
        "!rd_filters filter --in zinc_100k.smi --prefix zinc\n"
      ],
      "metadata": {
        "colab": {
          "base_uri": "https://localhost:8080/"
        },
        "id": "uLWjkw-SLRRe",
        "outputId": "543804ed-df61-4085-cad5-397510dd1a60"
      },
      "execution_count": null,
      "outputs": [
        {
          "output_type": "stream",
          "name": "stdout",
          "text": [
            "using 2 cores\n",
            "Using alerts from Inpharmatica\n",
            "Wrote SMILES for molecules passing filters to zinc.smi\n",
            "Wrote detailed data to zinc.csv\n",
            "68410 of 100000 passed filters 68.4%\n",
            "Elapsed time 122.39 seconds\n"
          ]
        }
      ]
    },
    {
      "cell_type": "markdown",
      "source": [
        "## zinc.csv의 내용\n",
        "- SMILES 문자역, \n",
        "- 분자의 이름(NAME), \n",
        "- 필터를 통과하지 못한 이유(FILTER), \n",
        "- 분자량(MW, 500보다 크면 통과하지 못한다), - 옥탄올/물 분배계수(LogP, 5보다 크면 통과하지 못한다)\n",
        "- 수소결합의 공여체수 (HBD)"
      ],
      "metadata": {
        "id": "9vXJTqI11XR7"
      }
    },
    {
      "cell_type": "code",
      "source": [
        "df = pd.read_csv(\"zinc.csv\")\n",
        "df.head()"
      ],
      "metadata": {
        "colab": {
          "base_uri": "https://localhost:8080/",
          "height": 250
        },
        "id": "5rXNaXVzLoet",
        "outputId": "082b19e0-1e42-48da-96f2-dce924022969"
      },
      "execution_count": null,
      "outputs": [
        {
          "output_type": "execute_result",
          "data": {
            "text/plain": [
              "                                              SMILES              NAME  \\\n",
              "0        CN(CCO)C[C@@H](O)Cn1cnc2c1c(=O)n(C)c(=O)n2C  ZINC000000000843   \n",
              "1  O=c1[nH]c(=O)n([C@@H]2C[C@@H](O)[C@H](CO)O2)cc1Br  ZINC000000001063   \n",
              "2            Cn1c2ncn(CC(=O)N3CCOCC3)c2c(=O)n(C)c1=O  ZINC000000003942   \n",
              "3        CN1C(=O)C[C@H](N2CCN(C(=O)CN3CCCC3)CC2)C1=O  ZINC000000036436   \n",
              "4  CC(=O)NC[C@H](O)[C@H]1O[C@H]2OC(C)(C)O[C@H]2[C...  ZINC000000041101   \n",
              "\n",
              "                    FILTER       MW    LogP  HBD  HBA    TPSA  Rot  \n",
              "0  Filter82_pyridinium > 0  311.342 -2.2813    2    9  105.52    6  \n",
              "1        Filter9_metal > 0  307.100 -1.0602    3    6  104.55    2  \n",
              "2  Filter82_pyridinium > 0  307.310 -1.7075    0    8   91.36    2  \n",
              "3                       OK  308.382 -1.0163    0    5   64.17    3  \n",
              "4                       OK  302.327 -1.1355    3    6  106.12    4  "
            ],
            "text/html": [
              "\n",
              "  <div id=\"df-54b4d083-a4fd-40c3-acff-fdeb7762ceb6\">\n",
              "    <div class=\"colab-df-container\">\n",
              "      <div>\n",
              "<style scoped>\n",
              "    .dataframe tbody tr th:only-of-type {\n",
              "        vertical-align: middle;\n",
              "    }\n",
              "\n",
              "    .dataframe tbody tr th {\n",
              "        vertical-align: top;\n",
              "    }\n",
              "\n",
              "    .dataframe thead th {\n",
              "        text-align: right;\n",
              "    }\n",
              "</style>\n",
              "<table border=\"1\" class=\"dataframe\">\n",
              "  <thead>\n",
              "    <tr style=\"text-align: right;\">\n",
              "      <th></th>\n",
              "      <th>SMILES</th>\n",
              "      <th>NAME</th>\n",
              "      <th>FILTER</th>\n",
              "      <th>MW</th>\n",
              "      <th>LogP</th>\n",
              "      <th>HBD</th>\n",
              "      <th>HBA</th>\n",
              "      <th>TPSA</th>\n",
              "      <th>Rot</th>\n",
              "    </tr>\n",
              "  </thead>\n",
              "  <tbody>\n",
              "    <tr>\n",
              "      <th>0</th>\n",
              "      <td>CN(CCO)C[C@@H](O)Cn1cnc2c1c(=O)n(C)c(=O)n2C</td>\n",
              "      <td>ZINC000000000843</td>\n",
              "      <td>Filter82_pyridinium &gt; 0</td>\n",
              "      <td>311.342</td>\n",
              "      <td>-2.2813</td>\n",
              "      <td>2</td>\n",
              "      <td>9</td>\n",
              "      <td>105.52</td>\n",
              "      <td>6</td>\n",
              "    </tr>\n",
              "    <tr>\n",
              "      <th>1</th>\n",
              "      <td>O=c1[nH]c(=O)n([C@@H]2C[C@@H](O)[C@H](CO)O2)cc1Br</td>\n",
              "      <td>ZINC000000001063</td>\n",
              "      <td>Filter9_metal &gt; 0</td>\n",
              "      <td>307.100</td>\n",
              "      <td>-1.0602</td>\n",
              "      <td>3</td>\n",
              "      <td>6</td>\n",
              "      <td>104.55</td>\n",
              "      <td>2</td>\n",
              "    </tr>\n",
              "    <tr>\n",
              "      <th>2</th>\n",
              "      <td>Cn1c2ncn(CC(=O)N3CCOCC3)c2c(=O)n(C)c1=O</td>\n",
              "      <td>ZINC000000003942</td>\n",
              "      <td>Filter82_pyridinium &gt; 0</td>\n",
              "      <td>307.310</td>\n",
              "      <td>-1.7075</td>\n",
              "      <td>0</td>\n",
              "      <td>8</td>\n",
              "      <td>91.36</td>\n",
              "      <td>2</td>\n",
              "    </tr>\n",
              "    <tr>\n",
              "      <th>3</th>\n",
              "      <td>CN1C(=O)C[C@H](N2CCN(C(=O)CN3CCCC3)CC2)C1=O</td>\n",
              "      <td>ZINC000000036436</td>\n",
              "      <td>OK</td>\n",
              "      <td>308.382</td>\n",
              "      <td>-1.0163</td>\n",
              "      <td>0</td>\n",
              "      <td>5</td>\n",
              "      <td>64.17</td>\n",
              "      <td>3</td>\n",
              "    </tr>\n",
              "    <tr>\n",
              "      <th>4</th>\n",
              "      <td>CC(=O)NC[C@H](O)[C@H]1O[C@H]2OC(C)(C)O[C@H]2[C...</td>\n",
              "      <td>ZINC000000041101</td>\n",
              "      <td>OK</td>\n",
              "      <td>302.327</td>\n",
              "      <td>-1.1355</td>\n",
              "      <td>3</td>\n",
              "      <td>6</td>\n",
              "      <td>106.12</td>\n",
              "      <td>4</td>\n",
              "    </tr>\n",
              "  </tbody>\n",
              "</table>\n",
              "</div>\n",
              "      <button class=\"colab-df-convert\" onclick=\"convertToInteractive('df-54b4d083-a4fd-40c3-acff-fdeb7762ceb6')\"\n",
              "              title=\"Convert this dataframe to an interactive table.\"\n",
              "              style=\"display:none;\">\n",
              "        \n",
              "  <svg xmlns=\"http://www.w3.org/2000/svg\" height=\"24px\"viewBox=\"0 0 24 24\"\n",
              "       width=\"24px\">\n",
              "    <path d=\"M0 0h24v24H0V0z\" fill=\"none\"/>\n",
              "    <path d=\"M18.56 5.44l.94 2.06.94-2.06 2.06-.94-2.06-.94-.94-2.06-.94 2.06-2.06.94zm-11 1L8.5 8.5l.94-2.06 2.06-.94-2.06-.94L8.5 2.5l-.94 2.06-2.06.94zm10 10l.94 2.06.94-2.06 2.06-.94-2.06-.94-.94-2.06-.94 2.06-2.06.94z\"/><path d=\"M17.41 7.96l-1.37-1.37c-.4-.4-.92-.59-1.43-.59-.52 0-1.04.2-1.43.59L10.3 9.45l-7.72 7.72c-.78.78-.78 2.05 0 2.83L4 21.41c.39.39.9.59 1.41.59.51 0 1.02-.2 1.41-.59l7.78-7.78 2.81-2.81c.8-.78.8-2.07 0-2.86zM5.41 20L4 18.59l7.72-7.72 1.47 1.35L5.41 20z\"/>\n",
              "  </svg>\n",
              "      </button>\n",
              "      \n",
              "  <style>\n",
              "    .colab-df-container {\n",
              "      display:flex;\n",
              "      flex-wrap:wrap;\n",
              "      gap: 12px;\n",
              "    }\n",
              "\n",
              "    .colab-df-convert {\n",
              "      background-color: #E8F0FE;\n",
              "      border: none;\n",
              "      border-radius: 50%;\n",
              "      cursor: pointer;\n",
              "      display: none;\n",
              "      fill: #1967D2;\n",
              "      height: 32px;\n",
              "      padding: 0 0 0 0;\n",
              "      width: 32px;\n",
              "    }\n",
              "\n",
              "    .colab-df-convert:hover {\n",
              "      background-color: #E2EBFA;\n",
              "      box-shadow: 0px 1px 2px rgba(60, 64, 67, 0.3), 0px 1px 3px 1px rgba(60, 64, 67, 0.15);\n",
              "      fill: #174EA6;\n",
              "    }\n",
              "\n",
              "    [theme=dark] .colab-df-convert {\n",
              "      background-color: #3B4455;\n",
              "      fill: #D2E3FC;\n",
              "    }\n",
              "\n",
              "    [theme=dark] .colab-df-convert:hover {\n",
              "      background-color: #434B5C;\n",
              "      box-shadow: 0px 1px 3px 1px rgba(0, 0, 0, 0.15);\n",
              "      filter: drop-shadow(0px 1px 2px rgba(0, 0, 0, 0.3));\n",
              "      fill: #FFFFFF;\n",
              "    }\n",
              "  </style>\n",
              "\n",
              "      <script>\n",
              "        const buttonEl =\n",
              "          document.querySelector('#df-54b4d083-a4fd-40c3-acff-fdeb7762ceb6 button.colab-df-convert');\n",
              "        buttonEl.style.display =\n",
              "          google.colab.kernel.accessAllowed ? 'block' : 'none';\n",
              "\n",
              "        async function convertToInteractive(key) {\n",
              "          const element = document.querySelector('#df-54b4d083-a4fd-40c3-acff-fdeb7762ceb6');\n",
              "          const dataTable =\n",
              "            await google.colab.kernel.invokeFunction('convertToInteractive',\n",
              "                                                     [key], {});\n",
              "          if (!dataTable) return;\n",
              "\n",
              "          const docLinkHtml = 'Like what you see? Visit the ' +\n",
              "            '<a target=\"_blank\" href=https://colab.research.google.com/notebooks/data_table.ipynb>data table notebook</a>'\n",
              "            + ' to learn more about interactive tables.';\n",
              "          element.innerHTML = '';\n",
              "          dataTable['output_type'] = 'display_data';\n",
              "          await google.colab.output.renderOutput(dataTable, element);\n",
              "          const docLink = document.createElement('div');\n",
              "          docLink.innerHTML = docLinkHtml;\n",
              "          element.appendChild(docLink);\n",
              "        }\n",
              "      </script>\n",
              "    </div>\n",
              "  </div>\n",
              "  "
            ]
          },
          "metadata": {},
          "execution_count": 57
        }
      ]
    },
    {
      "cell_type": "markdown",
      "source": [
        "- 어떤 필터에 의해서 가장 많이 걸러졌는지를 파악한다\n",
        " - collection의 Counter를 사용한다\n",
        " - 1,2디카르보닐 구조를 포함한 경우(아미노산 셀린 또는 시스테인과 공유결합을 형성하는 것으로 알려져 있다)\n",
        " - filter)collection.CSV 파일을 보면 1,2디카르보닐 구조를 의미하는 SMARTS 문자열'*C(=O)C(=O)*'를 확인할 수 있다."
      ],
      "metadata": {
        "id": "qQEK-Wo22kv7"
      }
    },
    {
      "cell_type": "code",
      "source": [
        "from collections import Counter\n",
        "count_list = list(Counter(df.FILTER).items())\n",
        "count_df = pd.DataFrame(count_list,columns=[\"Rule\",\"Count\"])\n",
        "count_df.sort_values(\"Count\",inplace=True,ascending=False)\n",
        "count_df.head()"
      ],
      "metadata": {
        "colab": {
          "base_uri": "https://localhost:8080/",
          "height": 206
        },
        "id": "uw1dquNdMBTB",
        "outputId": "b97823fa-9157-4868-8110-b78d4407404c"
      },
      "execution_count": null,
      "outputs": [
        {
          "output_type": "execute_result",
          "data": {
            "text/plain": [
              "                           Rule  Count\n",
              "2                            OK  69148\n",
              "7    Filter41_12_dicarbonyl > 0  19330\n",
              "0       Filter82_pyridinium > 0   7713\n",
              "11     Filter93_acetyl_urea > 0   1541\n",
              "12  Filter78_bicyclic_Imide > 0    825"
            ],
            "text/html": [
              "\n",
              "  <div id=\"df-00f1cdfc-37f8-410a-9f4e-6021b7b4a623\">\n",
              "    <div class=\"colab-df-container\">\n",
              "      <div>\n",
              "<style scoped>\n",
              "    .dataframe tbody tr th:only-of-type {\n",
              "        vertical-align: middle;\n",
              "    }\n",
              "\n",
              "    .dataframe tbody tr th {\n",
              "        vertical-align: top;\n",
              "    }\n",
              "\n",
              "    .dataframe thead th {\n",
              "        text-align: right;\n",
              "    }\n",
              "</style>\n",
              "<table border=\"1\" class=\"dataframe\">\n",
              "  <thead>\n",
              "    <tr style=\"text-align: right;\">\n",
              "      <th></th>\n",
              "      <th>Rule</th>\n",
              "      <th>Count</th>\n",
              "    </tr>\n",
              "  </thead>\n",
              "  <tbody>\n",
              "    <tr>\n",
              "      <th>2</th>\n",
              "      <td>OK</td>\n",
              "      <td>69148</td>\n",
              "    </tr>\n",
              "    <tr>\n",
              "      <th>7</th>\n",
              "      <td>Filter41_12_dicarbonyl &gt; 0</td>\n",
              "      <td>19330</td>\n",
              "    </tr>\n",
              "    <tr>\n",
              "      <th>0</th>\n",
              "      <td>Filter82_pyridinium &gt; 0</td>\n",
              "      <td>7713</td>\n",
              "    </tr>\n",
              "    <tr>\n",
              "      <th>11</th>\n",
              "      <td>Filter93_acetyl_urea &gt; 0</td>\n",
              "      <td>1541</td>\n",
              "    </tr>\n",
              "    <tr>\n",
              "      <th>12</th>\n",
              "      <td>Filter78_bicyclic_Imide &gt; 0</td>\n",
              "      <td>825</td>\n",
              "    </tr>\n",
              "  </tbody>\n",
              "</table>\n",
              "</div>\n",
              "      <button class=\"colab-df-convert\" onclick=\"convertToInteractive('df-00f1cdfc-37f8-410a-9f4e-6021b7b4a623')\"\n",
              "              title=\"Convert this dataframe to an interactive table.\"\n",
              "              style=\"display:none;\">\n",
              "        \n",
              "  <svg xmlns=\"http://www.w3.org/2000/svg\" height=\"24px\"viewBox=\"0 0 24 24\"\n",
              "       width=\"24px\">\n",
              "    <path d=\"M0 0h24v24H0V0z\" fill=\"none\"/>\n",
              "    <path d=\"M18.56 5.44l.94 2.06.94-2.06 2.06-.94-2.06-.94-.94-2.06-.94 2.06-2.06.94zm-11 1L8.5 8.5l.94-2.06 2.06-.94-2.06-.94L8.5 2.5l-.94 2.06-2.06.94zm10 10l.94 2.06.94-2.06 2.06-.94-2.06-.94-.94-2.06-.94 2.06-2.06.94z\"/><path d=\"M17.41 7.96l-1.37-1.37c-.4-.4-.92-.59-1.43-.59-.52 0-1.04.2-1.43.59L10.3 9.45l-7.72 7.72c-.78.78-.78 2.05 0 2.83L4 21.41c.39.39.9.59 1.41.59.51 0 1.02-.2 1.41-.59l7.78-7.78 2.81-2.81c.8-.78.8-2.07 0-2.86zM5.41 20L4 18.59l7.72-7.72 1.47 1.35L5.41 20z\"/>\n",
              "  </svg>\n",
              "      </button>\n",
              "      \n",
              "  <style>\n",
              "    .colab-df-container {\n",
              "      display:flex;\n",
              "      flex-wrap:wrap;\n",
              "      gap: 12px;\n",
              "    }\n",
              "\n",
              "    .colab-df-convert {\n",
              "      background-color: #E8F0FE;\n",
              "      border: none;\n",
              "      border-radius: 50%;\n",
              "      cursor: pointer;\n",
              "      display: none;\n",
              "      fill: #1967D2;\n",
              "      height: 32px;\n",
              "      padding: 0 0 0 0;\n",
              "      width: 32px;\n",
              "    }\n",
              "\n",
              "    .colab-df-convert:hover {\n",
              "      background-color: #E2EBFA;\n",
              "      box-shadow: 0px 1px 2px rgba(60, 64, 67, 0.3), 0px 1px 3px 1px rgba(60, 64, 67, 0.15);\n",
              "      fill: #174EA6;\n",
              "    }\n",
              "\n",
              "    [theme=dark] .colab-df-convert {\n",
              "      background-color: #3B4455;\n",
              "      fill: #D2E3FC;\n",
              "    }\n",
              "\n",
              "    [theme=dark] .colab-df-convert:hover {\n",
              "      background-color: #434B5C;\n",
              "      box-shadow: 0px 1px 3px 1px rgba(0, 0, 0, 0.15);\n",
              "      filter: drop-shadow(0px 1px 2px rgba(0, 0, 0, 0.3));\n",
              "      fill: #FFFFFF;\n",
              "    }\n",
              "  </style>\n",
              "\n",
              "      <script>\n",
              "        const buttonEl =\n",
              "          document.querySelector('#df-00f1cdfc-37f8-410a-9f4e-6021b7b4a623 button.colab-df-convert');\n",
              "        buttonEl.style.display =\n",
              "          google.colab.kernel.accessAllowed ? 'block' : 'none';\n",
              "\n",
              "        async function convertToInteractive(key) {\n",
              "          const element = document.querySelector('#df-00f1cdfc-37f8-410a-9f4e-6021b7b4a623');\n",
              "          const dataTable =\n",
              "            await google.colab.kernel.invokeFunction('convertToInteractive',\n",
              "                                                     [key], {});\n",
              "          if (!dataTable) return;\n",
              "\n",
              "          const docLinkHtml = 'Like what you see? Visit the ' +\n",
              "            '<a target=\"_blank\" href=https://colab.research.google.com/notebooks/data_table.ipynb>data table notebook</a>'\n",
              "            + ' to learn more about interactive tables.';\n",
              "          element.innerHTML = '';\n",
              "          dataTable['output_type'] = 'display_data';\n",
              "          await google.colab.output.renderOutput(dataTable, element);\n",
              "          const docLink = document.createElement('div');\n",
              "          docLink.innerHTML = docLinkHtml;\n",
              "          element.appendChild(docLink);\n",
              "        }\n",
              "      </script>\n",
              "    </div>\n",
              "  </div>\n",
              "  "
            ]
          },
          "metadata": {},
          "execution_count": 58
        }
      ]
    },
    {
      "cell_type": "code",
      "source": [
        "smiles_list = df[df.FILTER == \"Filter41_12_dicarbonyl > 0\"].SMILES[:10]\n"
      ],
      "metadata": {
        "id": "q9RZPmtnMFGw"
      },
      "execution_count": null,
      "outputs": []
    },
    {
      "cell_type": "code",
      "source": [
        "from rdkit import Chem\n",
        "from rdkit.Chem import Draw\n",
        "\n",
        "mol_list = [Chem.MolFromSmiles(x) for x in smiles_list]\n",
        "dicarbonyl = Chem.MolFromSmarts('*C(=O)C(=O)*')\n",
        "match_list = [mol.GetSubstructMatch(dicarbonyl) for mol in mol_list]\n",
        "Draw.MolsToGridImage(mol_list,highlightAtomLists=match_list,molsPerRow=5)\n"
      ],
      "metadata": {
        "colab": {
          "base_uri": "https://localhost:8080/",
          "height": 417
        },
        "id": "HLqVhkPIMIs_",
        "outputId": "f802bdb7-aa9b-40d0-86d6-da85d957c3d0"
      },
      "execution_count": null,
      "outputs": [
        {
          "output_type": "execute_result",
          "data": {
            "text/plain": [
              "<IPython.core.display.Image object>"
            ],
            "image/png": "[encoded data removed]"
          },
          "metadata": {},
          "execution_count": 60
        }
      ]
    },
    {
      "cell_type": "markdown",
      "source": [
        "# 모델 사용하기\n",
        "- 모델을 불러오고, 피처화기를 만든후, 분자 데이터를 피처화 한다\n",
        "- 예측값을 확인하고 가장 높은 점수를 얻은 화학구조를 확인한다\n",
        "- 분자 데이터를 CSV로 저장한다"
      ],
      "metadata": {
        "id": "AIp-NTayFEqJ"
      }
    },
    {
      "cell_type": "code",
      "source": [
        "import deepchem as dc\n",
        "import pandas as pd\n",
        "from rdkit.Chem import PandasTools, Draw\n",
        "from rdkit import DataStructs\n",
        "from rdkit.ML.Cluster import Butina\n",
        "from rdkit.Chem import rdMolDescriptors as rdmd\n",
        "import seaborn as sns"
      ],
      "metadata": {
        "id": "hcyU0vHeFZi2"
      },
      "execution_count": null,
      "outputs": []
    },
    {
      "cell_type": "markdown",
      "source": [
        "- 피처함수를 사용한다\n",
        "- SMILES 파일을 CSV로 변환해야 한다 (컬럼 추가)"
      ],
      "metadata": {
        "id": "eDXZmCm7G_WN"
      }
    },
    {
      "cell_type": "code",
      "source": [
        "model = dc.models.GraphConvModel(1, batch_size=128, \n",
        "          mode='classification',model_dir=\"model_dir\")\n",
        "model.restore()"
      ],
      "metadata": {
        "id": "JaVT22MaFhTM"
      },
      "execution_count": null,
      "outputs": []
    },
    {
      "cell_type": "code",
      "source": [
        "df = pd.read_csv(\"zinc_100k.smi\",sep=\" \",header=None)\n",
        "df.columns=[\"SMILES\",\"Name\"]\n",
        "rows,cols = df.shape\n",
        "df[\"Val\"] = [0] * rows # 피처화를 위한 빈 자리\n",
        "df.head()"
      ],
      "metadata": {
        "colab": {
          "base_uri": "https://localhost:8080/",
          "height": 206
        },
        "id": "iSsUjS2_Ft45",
        "outputId": "fa5a2988-6f86-4989-e1fc-b67959d6dbc6"
      },
      "execution_count": null,
      "outputs": [
        {
          "output_type": "execute_result",
          "data": {
            "text/plain": [
              "                                              SMILES              Name  Val\n",
              "0        CN(CCO)C[C@@H](O)Cn1cnc2c1c(=O)n(C)c(=O)n2C  ZINC000000000843    0\n",
              "1  O=c1[nH]c(=O)n([C@@H]2C[C@@H](O)[C@H](CO)O2)cc1Br  ZINC000000001063    0\n",
              "2            Cn1c2ncn(CC(=O)N3CCOCC3)c2c(=O)n(C)c1=O  ZINC000000003942    0\n",
              "3        CN1C(=O)C[C@H](N2CCN(C(=O)CN3CCCC3)CC2)C1=O  ZINC000000036436    0\n",
              "4  CC(=O)NC[C@H](O)[C@H]1O[C@H]2OC(C)(C)O[C@H]2[C...  ZINC000000041101    0"
            ],
            "text/html": [
              "\n",
              "  <div id=\"df-29257375-d9a9-40fb-94b7-a9541373b85c\">\n",
              "    <div class=\"colab-df-container\">\n",
              "      <div>\n",
              "<style scoped>\n",
              "    .dataframe tbody tr th:only-of-type {\n",
              "        vertical-align: middle;\n",
              "    }\n",
              "\n",
              "    .dataframe tbody tr th {\n",
              "        vertical-align: top;\n",
              "    }\n",
              "\n",
              "    .dataframe thead th {\n",
              "        text-align: right;\n",
              "    }\n",
              "</style>\n",
              "<table border=\"1\" class=\"dataframe\">\n",
              "  <thead>\n",
              "    <tr style=\"text-align: right;\">\n",
              "      <th></th>\n",
              "      <th>SMILES</th>\n",
              "      <th>Name</th>\n",
              "      <th>Val</th>\n",
              "    </tr>\n",
              "  </thead>\n",
              "  <tbody>\n",
              "    <tr>\n",
              "      <th>0</th>\n",
              "      <td>CN(CCO)C[C@@H](O)Cn1cnc2c1c(=O)n(C)c(=O)n2C</td>\n",
              "      <td>ZINC000000000843</td>\n",
              "      <td>0</td>\n",
              "    </tr>\n",
              "    <tr>\n",
              "      <th>1</th>\n",
              "      <td>O=c1[nH]c(=O)n([C@@H]2C[C@@H](O)[C@H](CO)O2)cc1Br</td>\n",
              "      <td>ZINC000000001063</td>\n",
              "      <td>0</td>\n",
              "    </tr>\n",
              "    <tr>\n",
              "      <th>2</th>\n",
              "      <td>Cn1c2ncn(CC(=O)N3CCOCC3)c2c(=O)n(C)c1=O</td>\n",
              "      <td>ZINC000000003942</td>\n",
              "      <td>0</td>\n",
              "    </tr>\n",
              "    <tr>\n",
              "      <th>3</th>\n",
              "      <td>CN1C(=O)C[C@H](N2CCN(C(=O)CN3CCCC3)CC2)C1=O</td>\n",
              "      <td>ZINC000000036436</td>\n",
              "      <td>0</td>\n",
              "    </tr>\n",
              "    <tr>\n",
              "      <th>4</th>\n",
              "      <td>CC(=O)NC[C@H](O)[C@H]1O[C@H]2OC(C)(C)O[C@H]2[C...</td>\n",
              "      <td>ZINC000000041101</td>\n",
              "      <td>0</td>\n",
              "    </tr>\n",
              "  </tbody>\n",
              "</table>\n",
              "</div>\n",
              "      <button class=\"colab-df-convert\" onclick=\"convertToInteractive('df-29257375-d9a9-40fb-94b7-a9541373b85c')\"\n",
              "              title=\"Convert this dataframe to an interactive table.\"\n",
              "              style=\"display:none;\">\n",
              "        \n",
              "  <svg xmlns=\"http://www.w3.org/2000/svg\" height=\"24px\"viewBox=\"0 0 24 24\"\n",
              "       width=\"24px\">\n",
              "    <path d=\"M0 0h24v24H0V0z\" fill=\"none\"/>\n",
              "    <path d=\"M18.56 5.44l.94 2.06.94-2.06 2.06-.94-2.06-.94-.94-2.06-.94 2.06-2.06.94zm-11 1L8.5 8.5l.94-2.06 2.06-.94-2.06-.94L8.5 2.5l-.94 2.06-2.06.94zm10 10l.94 2.06.94-2.06 2.06-.94-2.06-.94-.94-2.06-.94 2.06-2.06.94z\"/><path d=\"M17.41 7.96l-1.37-1.37c-.4-.4-.92-.59-1.43-.59-.52 0-1.04.2-1.43.59L10.3 9.45l-7.72 7.72c-.78.78-.78 2.05 0 2.83L4 21.41c.39.39.9.59 1.41.59.51 0 1.02-.2 1.41-.59l7.78-7.78 2.81-2.81c.8-.78.8-2.07 0-2.86zM5.41 20L4 18.59l7.72-7.72 1.47 1.35L5.41 20z\"/>\n",
              "  </svg>\n",
              "      </button>\n",
              "      \n",
              "  <style>\n",
              "    .colab-df-container {\n",
              "      display:flex;\n",
              "      flex-wrap:wrap;\n",
              "      gap: 12px;\n",
              "    }\n",
              "\n",
              "    .colab-df-convert {\n",
              "      background-color: #E8F0FE;\n",
              "      border: none;\n",
              "      border-radius: 50%;\n",
              "      cursor: pointer;\n",
              "      display: none;\n",
              "      fill: #1967D2;\n",
              "      height: 32px;\n",
              "      padding: 0 0 0 0;\n",
              "      width: 32px;\n",
              "    }\n",
              "\n",
              "    .colab-df-convert:hover {\n",
              "      background-color: #E2EBFA;\n",
              "      box-shadow: 0px 1px 2px rgba(60, 64, 67, 0.3), 0px 1px 3px 1px rgba(60, 64, 67, 0.15);\n",
              "      fill: #174EA6;\n",
              "    }\n",
              "\n",
              "    [theme=dark] .colab-df-convert {\n",
              "      background-color: #3B4455;\n",
              "      fill: #D2E3FC;\n",
              "    }\n",
              "\n",
              "    [theme=dark] .colab-df-convert:hover {\n",
              "      background-color: #434B5C;\n",
              "      box-shadow: 0px 1px 3px 1px rgba(0, 0, 0, 0.15);\n",
              "      filter: drop-shadow(0px 1px 2px rgba(0, 0, 0, 0.3));\n",
              "      fill: #FFFFFF;\n",
              "    }\n",
              "  </style>\n",
              "\n",
              "      <script>\n",
              "        const buttonEl =\n",
              "          document.querySelector('#df-29257375-d9a9-40fb-94b7-a9541373b85c button.colab-df-convert');\n",
              "        buttonEl.style.display =\n",
              "          google.colab.kernel.accessAllowed ? 'block' : 'none';\n",
              "\n",
              "        async function convertToInteractive(key) {\n",
              "          const element = document.querySelector('#df-29257375-d9a9-40fb-94b7-a9541373b85c');\n",
              "          const dataTable =\n",
              "            await google.colab.kernel.invokeFunction('convertToInteractive',\n",
              "                                                     [key], {});\n",
              "          if (!dataTable) return;\n",
              "\n",
              "          const docLinkHtml = 'Like what you see? Visit the ' +\n",
              "            '<a target=\"_blank\" href=https://colab.research.google.com/notebooks/data_table.ipynb>data table notebook</a>'\n",
              "            + ' to learn more about interactive tables.';\n",
              "          element.innerHTML = '';\n",
              "          dataTable['output_type'] = 'display_data';\n",
              "          await google.colab.output.renderOutput(dataTable, element);\n",
              "          const docLink = document.createElement('div');\n",
              "          docLink.innerHTML = docLinkHtml;\n",
              "          element.appendChild(docLink);\n",
              "        }\n",
              "      </script>\n",
              "    </div>\n",
              "  </div>\n",
              "  "
            ]
          },
          "metadata": {},
          "execution_count": 63
        }
      ]
    },
    {
      "cell_type": "code",
      "source": [
        "infile_name = \"zinc_filtered.csv\"\n",
        "df.to_csv(infile_name,index=False)"
      ],
      "metadata": {
        "id": "J_VKtsqoF3ax"
      },
      "execution_count": null,
      "outputs": []
    },
    {
      "cell_type": "markdown",
      "source": [
        "- CSV 파일을 읽어온다\n",
        "- 모델을 사용하기 위해서 피처화된 데이터를 사용한다"
      ],
      "metadata": {
        "id": "oDXtw2sBHohF"
      }
    },
    {
      "cell_type": "code",
      "source": [
        "loader = dc.data.CSVLoader(tasks=['Val'], feature_field=\"SMILES\", featurizer=featurizer)\n",
        "dataset = loader.create_dataset(infile_name, shard_size=8192)\n",
        "pred = model.predict(dataset)\n"
      ],
      "metadata": {
        "id": "i32zwV_DF9Sy"
      },
      "execution_count": null,
      "outputs": []
    },
    {
      "cell_type": "markdown",
      "source": [
        "- 활성화와 비활성화를 구분하기 위해서 점수를 시각화 한다\n",
        "- SMILES와 예측값이 있는 데이터프레임을 합친다\n",
        "- 예측값이 높은 분자를 살펴본다"
      ],
      "metadata": {
        "id": "HGGxDSX6H6J9"
      }
    },
    {
      "cell_type": "code",
      "source": [
        "pred_df = pd.DataFrame([x.flatten() for x in pred],columns=[\"Neg\",\"Pos\"])\n",
        "sns.displot(x=pred_df.Pos,kind=\"kde\",rug=True)\n"
      ],
      "metadata": {
        "colab": {
          "base_uri": "https://localhost:8080/",
          "height": 386
        },
        "id": "lMnBaFNPGEFH",
        "outputId": "76af625d-97a3-44de-f96f-b00de48e23cb"
      },
      "execution_count": null,
      "outputs": [
        {
          "output_type": "execute_result",
          "data": {
            "text/plain": [
              "<seaborn.axisgrid.FacetGrid at 0x7fd2006e3610>"
            ]
          },
          "metadata": {},
          "execution_count": 66
        },
        {
          "output_type": "display_data",
          "data": {
            "text/plain": [
              "<Figure size 360x360 with 1 Axes>"
            ],
            "image/png": "[encoded data removed]"
          },
          "metadata": {
            "image/png": {
              "width": 352,
              "height": 351
            },
            "needs_background": "light"
          }
        }
      ]
    },
    {
      "cell_type": "code",
      "source": [
        "combo_df = df.join(pred_df,how=\"outer\")\n",
        "combo_df.sort_values(\"Pos\",inplace=True,ascending=False)\n"
      ],
      "metadata": {
        "id": "aRE_GxpTGJxf"
      },
      "execution_count": null,
      "outputs": []
    },
    {
      "cell_type": "code",
      "source": [
        "PandasTools.AddMoleculeColumnToFrame(combo_df,\"SMILES\",\"Mol\")\n",
        "# combo_df.head()\n"
      ],
      "metadata": {
        "colab": {
          "base_uri": "https://localhost:8080/",
          "height": 339
        },
        "collapsed": true,
        "id": "33dg10-TGO_l",
        "outputId": "6b089e0f-809d-4189-c2ac-868fea2e55aa"
      },
      "execution_count": null,
      "outputs": [
        {
          "output_type": "execute_result",
          "data": {
            "text/plain": [
              "                                                  SMILES              Name  \\\n",
              "56476               Cn1nnc2cc(C(=O)NCC(=O)N3CCNCC3)cnc21  ZINC000562973487   \n",
              "69351          O=C(N[C@@H](CO)CN1CCOCC1)c1cnc2[nH]nnc2c1  ZINC000614410253   \n",
              "69350           O=C(N[C@H](CO)CN1CCOCC1)c1cnc2[nH]nnc2c1  ZINC000614410252   \n",
              "48099                 Cn1ncc2c1nc(NCCNC(=O)c1cnccn1)nc2N  ZINC000436402607   \n",
              "2037   CNC(=O)c1cn([C@@H]2O[C@@H](CO)[C@@H](O)[C@H]2O...  ZINC000004824756   \n",
              "\n",
              "       Val       Neg       Pos  \\\n",
              "56476    0  0.109884  0.890116   \n",
              "69351    0  0.171701  0.828299   \n",
              "69350    0  0.171701  0.828299   \n",
              "48099    0  0.177716  0.822284   \n",
              "2037     0  0.204145  0.795855   \n",
              "\n",
              "                                                     Mol  \n",
              "56476  <img data-content=\"rdkit/molecule\" src=\"data:i...  \n",
              "69351  <img data-content=\"rdkit/molecule\" src=\"data:i...  \n",
              "69350  <img data-content=\"rdkit/molecule\" src=\"data:i...  \n",
              "48099  <img data-content=\"rdkit/molecule\" src=\"data:i...  \n",
              "2037   <img data-content=\"rdkit/molecule\" src=\"data:i...  "
            ],
            "text/html": [
              "\n",
              "  <div id=\"df-d6fe95e5-54ed-4617-ba65-1fcc5732ac8c\">\n",
              "    <div class=\"colab-df-container\">\n",
              "      <div>\n",
              "<style scoped>\n",
              "    .dataframe tbody tr th:only-of-type {\n",
              "        vertical-align: middle;\n",
              "    }\n",
              "\n",
              "    .dataframe tbody tr th {\n",
              "        vertical-align: top;\n",
              "    }\n",
              "\n",
              "    .dataframe thead th {\n",
              "        text-align: right;\n",
              "    }\n",
              "</style>\n",
              "<table border=\"1\" class=\"dataframe\">\n",
              "  <thead>\n",
              "    <tr style=\"text-align: right;\">\n",
              "      <th></th>\n",
              "      <th>SMILES</th>\n",
              "      <th>Name</th>\n",
              "      <th>Val</th>\n",
              "      <th>Neg</th>\n",
              "      <th>Pos</th>\n",
              "      <th>Mol</th>\n",
              "    </tr>\n",
              "  </thead>\n",
              "  <tbody>\n",
              "    <tr>\n",
              "      <th>56476</th>\n",
              "      <td>Cn1nnc2cc(C(=O)NCC(=O)N3CCNCC3)cnc21</td>\n",
              "      <td>ZINC000562973487</td>\n",
              "      <td>0</td>\n",
              "      <td>0.109884</td>\n",
              "      <td>0.890116</td>\n",
              "      <td>&lt;img data-content=\"rdkit/molecule\" src=\"data:image/png;base64,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\" alt=\"Mol\"/&gt;</td>\n",
              "    </tr>\n",
              "    <tr>\n",
              "      <th>69351</th>\n",
              "      <td>O=C(N[C@@H](CO)CN1CCOCC1)c1cnc2[nH]nnc2c1</td>\n",
              "      <td>ZINC000614410253</td>\n",
              "      <td>0</td>\n",
              "      <td>0.171701</td>\n",
              "      <td>0.828299</td>\n",
              "      <td>&lt;img data-content=\"rdkit/molecule\" src=\"data:image/png;base64,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\" alt=\"Mol\"/&gt;</td>\n",
              "    </tr>\n",
              "    <tr>\n",
              "      <th>69350</th>\n",
              "      <td>O=C(N[C@H](CO)CN1CCOCC1)c1cnc2[nH]nnc2c1</td>\n",
              "      <td>ZINC000614410252</td>\n",
              "      <td>0</td>\n",
              "      <td>0.171701</td>\n",
              "      <td>0.828299</td>\n",
              "      <td>&lt;img data-content=\"rdkit/molecule\" src=\"data:image/png;base64,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\" alt=\"Mol\"/&gt;</td>\n",
              "    </tr>\n",
              "    <tr>\n",
              "      <th>48099</th>\n",
              "      <td>Cn1ncc2c1nc(NCCNC(=O)c1cnccn1)nc2N</td>\n",
              "      <td>ZINC000436402607</td>\n",
              "      <td>0</td>\n",
              "      <td>0.177716</td>\n",
              "      <td>0.822284</td>\n",
              "      <td>&lt;img data-content=\"rdkit/molecule\" src=\"data:image/png;base64,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\" alt=\"Mol\"/&gt;</td>\n",
              "    </tr>\n",
              "    <tr>\n",
              "      <th>2037</th>\n",
              "      <td>CNC(=O)c1cn([C@@H]2O[C@@H](CO)[C@@H](O)[C@H]2O...</td>\n",
              "      <td>ZINC000004824756</td>\n",
              "      <td>0</td>\n",
              "      <td>0.204145</td>\n",
              "      <td>0.795855</td>\n",
              "      <td>&lt;img data-content=\"rdkit/molecule\" src=\"data:image/png;base64,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\" alt=\"Mol\"/&gt;</td>\n",
              "    </tr>\n",
              "  </tbody>\n",
              "</table>\n",
              "</div>\n",
              "      <button class=\"colab-df-convert\" onclick=\"convertToInteractive('df-d6fe95e5-54ed-4617-ba65-1fcc5732ac8c')\"\n",
              "              title=\"Convert this dataframe to an interactive table.\"\n",
              "              style=\"display:none;\">\n",
              "        \n",
              "  <svg xmlns=\"http://www.w3.org/2000/svg\" height=\"24px\"viewBox=\"0 0 24 24\"\n",
              "       width=\"24px\">\n",
              "    <path d=\"M0 0h24v24H0V0z\" fill=\"none\"/>\n",
              "    <path d=\"M18.56 5.44l.94 2.06.94-2.06 2.06-.94-2.06-.94-.94-2.06-.94 2.06-2.06.94zm-11 1L8.5 8.5l.94-2.06 2.06-.94-2.06-.94L8.5 2.5l-.94 2.06-2.06.94zm10 10l.94 2.06.94-2.06 2.06-.94-2.06-.94-.94-2.06-.94 2.06-2.06.94z\"/><path d=\"M17.41 7.96l-1.37-1.37c-.4-.4-.92-.59-1.43-.59-.52 0-1.04.2-1.43.59L10.3 9.45l-7.72 7.72c-.78.78-.78 2.05 0 2.83L4 21.41c.39.39.9.59 1.41.59.51 0 1.02-.2 1.41-.59l7.78-7.78 2.81-2.81c.8-.78.8-2.07 0-2.86zM5.41 20L4 18.59l7.72-7.72 1.47 1.35L5.41 20z\"/>\n",
              "  </svg>\n",
              "      </button>\n",
              "      \n",
              "  <style>\n",
              "    .colab-df-container {\n",
              "      display:flex;\n",
              "      flex-wrap:wrap;\n",
              "      gap: 12px;\n",
              "    }\n",
              "\n",
              "    .colab-df-convert {\n",
              "      background-color: #E8F0FE;\n",
              "      border: none;\n",
              "      border-radius: 50%;\n",
              "      cursor: pointer;\n",
              "      display: none;\n",
              "      fill: #1967D2;\n",
              "      height: 32px;\n",
              "      padding: 0 0 0 0;\n",
              "      width: 32px;\n",
              "    }\n",
              "\n",
              "    .colab-df-convert:hover {\n",
              "      background-color: #E2EBFA;\n",
              "      box-shadow: 0px 1px 2px rgba(60, 64, 67, 0.3), 0px 1px 3px 1px rgba(60, 64, 67, 0.15);\n",
              "      fill: #174EA6;\n",
              "    }\n",
              "\n",
              "    [theme=dark] .colab-df-convert {\n",
              "      background-color: #3B4455;\n",
              "      fill: #D2E3FC;\n",
              "    }\n",
              "\n",
              "    [theme=dark] .colab-df-convert:hover {\n",
              "      background-color: #434B5C;\n",
              "      box-shadow: 0px 1px 3px 1px rgba(0, 0, 0, 0.15);\n",
              "      filter: drop-shadow(0px 1px 2px rgba(0, 0, 0, 0.3));\n",
              "      fill: #FFFFFF;\n",
              "    }\n",
              "  </style>\n",
              "\n",
              "      <script>\n",
              "        const buttonEl =\n",
              "          document.querySelector('#df-d6fe95e5-54ed-4617-ba65-1fcc5732ac8c button.colab-df-convert');\n",
              "        buttonEl.style.display =\n",
              "          google.colab.kernel.accessAllowed ? 'block' : 'none';\n",
              "\n",
              "        async function convertToInteractive(key) {\n",
              "          const element = document.querySelector('#df-d6fe95e5-54ed-4617-ba65-1fcc5732ac8c');\n",
              "          const dataTable =\n",
              "            await google.colab.kernel.invokeFunction('convertToInteractive',\n",
              "                                                     [key], {});\n",
              "          if (!dataTable) return;\n",
              "\n",
              "          const docLinkHtml = 'Like what you see? Visit the ' +\n",
              "            '<a target=\"_blank\" href=https://colab.research.google.com/notebooks/data_table.ipynb>data table notebook</a>'\n",
              "            + ' to learn more about interactive tables.';\n",
              "          element.innerHTML = '';\n",
              "          dataTable['output_type'] = 'display_data';\n",
              "          await google.colab.output.renderOutput(dataTable, element);\n",
              "          const docLink = document.createElement('div');\n",
              "          docLink.innerHTML = docLinkHtml;\n",
              "          element.appendChild(docLink);\n",
              "        }\n",
              "      </script>\n",
              "    </div>\n",
              "  </div>\n",
              "  "
            ]
          },
          "metadata": {},
          "execution_count": 75
        }
      ]
    },
    {
      "cell_type": "code",
      "source": [
        "from IPython.display import HTML\n",
        "HTML(combo_df.head().to_html())"
      ],
      "metadata": {
        "colab": {
          "base_uri": "https://localhost:8080/",
          "height": 1000
        },
        "id": "Y9ebJS80Kz_1",
        "outputId": "faeda4f7-a237-48bf-d3af-5160ccdf0438"
      },
      "execution_count": null,
      "outputs": [
        {
          "output_type": "execute_result",
          "data": {
            "text/plain": [
              "<IPython.core.display.HTML object>"
            ],
            "text/html": [
              "<table border=\"1\" class=\"dataframe\">\n",
              "  <thead>\n",
              "    <tr style=\"text-align: right;\">\n",
              "      <th></th>\n",
              "      <th>SMILES</th>\n",
              "      <th>Name</th>\n",
              "      <th>Val</th>\n",
              "      <th>Neg</th>\n",
              "      <th>Pos</th>\n",
              "      <th>Mol</th>\n",
              "    </tr>\n",
              "  </thead>\n",
              "  <tbody>\n",
              "    <tr>\n",
              "      <th>56476</th>\n",
              "      <td>Cn1nnc2cc(C(=O)NCC(=O)N3CCNCC3)cnc21</td>\n",
              "      <td>ZINC000562973487</td>\n",
              "      <td>0</td>\n",
              "      <td>0.109884</td>\n",
              "      <td>0.890116</td>\n",
              "      <td style=\"text-align: center;\"><img data-content=\"rdkit/molecule\" src=\"data:image/png;base64,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\" alt=\"Mol\"/></td>\n",
              "    </tr>\n",
              "    <tr>\n",
              "      <th>69351</th>\n",
              "      <td>O=C(N[C@@H](CO)CN1CCOCC1)c1cnc2[nH]nnc2c1</td>\n",
              "      <td>ZINC000614410253</td>\n",
              "      <td>0</td>\n",
              "      <td>0.171701</td>\n",
              "      <td>0.828299</td>\n",
              "      <td style=\"text-align: center;\"><img data-content=\"rdkit/molecule\" src=\"data:image/png;base64,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\" alt=\"Mol\"/></td>\n",
              "    </tr>\n",
              "    <tr>\n",
              "      <th>69350</th>\n",
              "      <td>O=C(N[C@H](CO)CN1CCOCC1)c1cnc2[nH]nnc2c1</td>\n",
              "      <td>ZINC000614410252</td>\n",
              "      <td>0</td>\n",
              "      <td>0.171701</td>\n",
              "      <td>0.828299</td>\n",
              "      <td style=\"text-align: center;\"><img data-content=\"rdkit/molecule\" src=\"data:image/png;base64,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\" alt=\"Mol\"/></td>\n",
              "    </tr>\n",
              "    <tr>\n",
              "      <th>48099</th>\n",
              "      <td>Cn1ncc2c1nc(NCCNC(=O)c1cnccn1)nc2N</td>\n",
              "      <td>ZINC000436402607</td>\n",
              "      <td>0</td>\n",
              "      <td>0.177716</td>\n",
              "      <td>0.822284</td>\n",
              "      <td style=\"text-align: center;\"><img data-content=\"rdkit/molecule\" src=\"data:image/png;base64,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\" alt=\"Mol\"/></td>\n",
              "    </tr>\n",
              "    <tr>\n",
              "      <th>2037</th>\n",
              "      <td>CNC(=O)c1cn([C@@H]2O[C@@H](CO)[C@@H](O)[C@H]2O)c2ncnc(N)c12</td>\n",
              "      <td>ZINC000004824756</td>\n",
              "      <td>0</td>\n",
              "      <td>0.204145</td>\n",
              "      <td>0.795855</td>\n",
              "      <td style=\"text-align: center;\"><img data-content=\"rdkit/molecule\" src=\"data:image/png;base64,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\" alt=\"Mol\"/></td>\n",
              "    </tr>\n",
              "  </tbody>\n",
              "</table>"
            ]
          },
          "metadata": {},
          "execution_count": 76
        }
      ]
    },
    {
      "cell_type": "code",
      "source": [
        "Draw.MolsToGridImage(combo_df.Mol[:10],molsPerRow=5,legends=[\"%.2f\" % x for x in combo_df.Pos[:10]])\n"
      ],
      "metadata": {
        "colab": {
          "base_uri": "https://localhost:8080/",
          "height": 417
        },
        "id": "KdPlhNsjGS16",
        "outputId": "18c0837e-c987-4651-b67e-4db876fe4f7f"
      },
      "execution_count": null,
      "outputs": [
        {
          "output_type": "execute_result",
          "data": {
            "text/plain": [
              "<IPython.core.display.Image object>"
            ],
            "image/png": "[encoded data removed]"
          },
          "metadata": {},
          "execution_count": 69
        }
      ]
    },
    {
      "cell_type": "markdown",
      "source": [
        "- 예측값이 높는 분자들의 모양이 비슷한 것을 알 수 있다\n",
        "- 중복되는 것을 피하기 위해서 군집화를 수행한다\n",
        " - 화학적 유사성을 사용하는 Butina 군집화를 사용하겠다"
      ],
      "metadata": {
        "id": "yAZVrUJGITTy"
      }
    },
    {
      "cell_type": "code",
      "source": [
        "def butina_cluster(mol_list,cutoff=0.35):\n",
        "    fp_list = [rdmd.GetMorganFingerprintAsBitVect(m, 3, nBits=2048) for m in mol_list]\n",
        "    dists = []\n",
        "    nfps = len(fp_list)\n",
        "    for i in range(1,nfps):\n",
        "        sims = DataStructs.BulkTanimotoSimilarity(fp_list[i],fp_list[:i])\n",
        "        dists.extend([1-x for x in sims])\n",
        "    mol_clusters = Butina.ClusterData(dists,nfps,cutoff,isDistData=True)\n",
        "    cluster_id_list = [0]*nfps\n",
        "    for idx,cluster in enumerate(mol_clusters,1):\n",
        "        for member in cluster:\n",
        "            cluster_id_list[member] = idx\n",
        "    return cluster_id_list"
      ],
      "metadata": {
        "id": "ORtV-sBeGZ6A"
      },
      "execution_count": null,
      "outputs": []
    },
    {
      "cell_type": "code",
      "source": [
        "best_100_df = combo_df.head(100).copy()\n",
        "best_100_df[\"Cluster\"] = butina_cluster(best_100_df.Mol)\n",
        "# best_100_df.head()\n",
        "HTML(best_100_df.head().to_html())\n"
      ],
      "metadata": {
        "colab": {
          "base_uri": "https://localhost:8080/",
          "height": 1000
        },
        "id": "fHc2FoN-GchK",
        "outputId": "5ef8a481-4002-4cb4-a2b5-9dd5d808bfb6"
      },
      "execution_count": null,
      "outputs": [
        {
          "output_type": "execute_result",
          "data": {
            "text/plain": [
              "<IPython.core.display.HTML object>"
            ],
            "text/html": [
              "<table border=\"1\" class=\"dataframe\">\n",
              "  <thead>\n",
              "    <tr style=\"text-align: right;\">\n",
              "      <th></th>\n",
              "      <th>SMILES</th>\n",
              "      <th>Name</th>\n",
              "      <th>Val</th>\n",
              "      <th>Neg</th>\n",
              "      <th>Pos</th>\n",
              "      <th>Mol</th>\n",
              "      <th>Cluster</th>\n",
              "    </tr>\n",
              "  </thead>\n",
              "  <tbody>\n",
              "    <tr>\n",
              "      <th>56476</th>\n",
              "      <td>Cn1nnc2cc(C(=O)NCC(=O)N3CCNCC3)cnc21</td>\n",
              "      <td>ZINC000562973487</td>\n",
              "      <td>0</td>\n",
              "      <td>0.109884</td>\n",
              "      <td>0.890116</td>\n",
              "      <td style=\"text-align: center;\"><img data-content=\"rdkit/molecule\" src=\"data:image/png;base64,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\" alt=\"Mol\"/></td>\n",
              "      <td>62</td>\n",
              "    </tr>\n",
              "    <tr>\n",
              "      <th>69351</th>\n",
              "      <td>O=C(N[C@@H](CO)CN1CCOCC1)c1cnc2[nH]nnc2c1</td>\n",
              "      <td>ZINC000614410253</td>\n",
              "      <td>0</td>\n",
              "      <td>0.171701</td>\n",
              "      <td>0.828299</td>\n",
              "      <td style=\"text-align: center;\"><img data-content=\"rdkit/molecule\" src=\"data:image/png;base64,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\" alt=\"Mol\"/></td>\n",
              "      <td>18</td>\n",
              "    </tr>\n",
              "    <tr>\n",
              "      <th>69350</th>\n",
              "      <td>O=C(N[C@H](CO)CN1CCOCC1)c1cnc2[nH]nnc2c1</td>\n",
              "      <td>ZINC000614410252</td>\n",
              "      <td>0</td>\n",
              "      <td>0.171701</td>\n",
              "      <td>0.828299</td>\n",
              "      <td style=\"text-align: center;\"><img data-content=\"rdkit/molecule\" src=\"data:image/png;base64,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\" alt=\"Mol\"/></td>\n",
              "      <td>18</td>\n",
              "    </tr>\n",
              "    <tr>\n",
              "      <th>48099</th>\n",
              "      <td>Cn1ncc2c1nc(NCCNC(=O)c1cnccn1)nc2N</td>\n",
              "      <td>ZINC000436402607</td>\n",
              "      <td>0</td>\n",
              "      <td>0.177716</td>\n",
              "      <td>0.822284</td>\n",
              "      <td style=\"text-align: center;\"><img data-content=\"rdkit/molecule\" src=\"data:image/png;base64,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\" alt=\"Mol\"/></td>\n",
              "      <td>61</td>\n",
              "    </tr>\n",
              "    <tr>\n",
              "      <th>2037</th>\n",
              "      <td>CNC(=O)c1cn([C@@H]2O[C@@H](CO)[C@@H](O)[C@H]2O)c2ncnc(N)c12</td>\n",
              "      <td>ZINC000004824756</td>\n",
              "      <td>0</td>\n",
              "      <td>0.204145</td>\n",
              "      <td>0.795855</td>\n",
              "      <td style=\"text-align: center;\"><img data-content=\"rdkit/molecule\" src=\"data:image/png;base64,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\" alt=\"Mol\"/></td>\n",
              "      <td>1</td>\n",
              "    </tr>\n",
              "  </tbody>\n",
              "</table>"
            ]
          },
          "metadata": {},
          "execution_count": 77
        }
      ]
    },
    {
      "cell_type": "code",
      "source": [
        "len(best_100_df.Cluster.unique())\n",
        "best_cluster_rep_df = best_100_df.drop_duplicates(\"Cluster\")\n",
        "best_cluster_rep_df.shape"
      ],
      "metadata": {
        "colab": {
          "base_uri": "https://localhost:8080/"
        },
        "id": "M-fIqQtgGh9E",
        "outputId": "957eec7c-b3b4-4856-ddd7-b523c208f163"
      },
      "execution_count": null,
      "outputs": [
        {
          "output_type": "execute_result",
          "data": {
            "text/plain": [
              "(62, 7)"
            ]
          },
          "metadata": {},
          "execution_count": 72
        }
      ]
    },
    {
      "cell_type": "code",
      "source": [
        "best_cluster_rep_df.to_csv(\"best_cluster_represenatives.csv\")\n"
      ],
      "metadata": {
        "id": "EWzpTHO2GnzB"
      },
      "execution_count": null,
      "outputs": []
    },
    {
      "cell_type": "code",
      "source": [
        ""
      ],
      "metadata": {
        "id": "QrK0r5xzImRm"
      },
      "execution_count": null,
      "outputs": []
    }
  ],
  "metadata": {
    "kernelspec": {
      "display_name": "Python 3 (ipykernel)",
      "language": "python",
      "name": "python3"
    },
    "language_info": {
      "codemirror_mode": {
        "name": "ipython",
        "version": 3
      },
      "file_extension": ".py",
      "mimetype": "text/x-python",
      "name": "python",
      "nbconvert_exporter": "python",
      "pygments_lexer": "ipython3",
      "version": "3.9.7"
    },
    "colab": {
      "name": "d_85_VS.ipynb",
      "provenance": [],
      "collapsed_sections": []
    },
    "accelerator": "GPU",
    "widgets": {
      "application/vnd.jupyter.widget-state+json": {
        "ee30cc0452e64865893a6a965457256e": {
          "model_module": "@jupyter-widgets/controls",
          "model_name": "HBoxModel",
          "model_module_version": "1.5.0",
          "state": {
            "_dom_classes": [],
            "_model_module": "@jupyter-widgets/controls",
            "_model_module_version": "1.5.0",
            "_model_name": "HBoxModel",
            "_view_count": null,
            "_view_module": "@jupyter-widgets/controls",
            "_view_module_version": "1.5.0",
            "_view_name": "HBoxView",
            "box_style": "",
            "children": [
              "IPY_MODEL_4048868ecf1c47949dc5001c00084afb",
              "IPY_MODEL_718b49df40a44a6f9acf6b8be54f9f10",
              "IPY_MODEL_43f2edabb50f428abc13b84fa04be61c"
            ],
            "layout": "IPY_MODEL_d57bb737956f4b8d9b4909841d5002ed"
          }
        },
        "4048868ecf1c47949dc5001c00084afb": {
          "model_module": "@jupyter-widgets/controls",
          "model_name": "HTMLModel",
          "model_module_version": "1.5.0",
          "state": {
            "_dom_classes": [],
            "_model_module": "@jupyter-widgets/controls",
            "_model_module_version": "1.5.0",
            "_model_name": "HTMLModel",
            "_view_count": null,
            "_view_module": "@jupyter-widgets/controls",
            "_view_module_version": "1.5.0",
            "_view_name": "HTMLView",
            "description": "",
            "description_tooltip": null,
            "layout": "IPY_MODEL_5204478c0c4e48faacaa6fb5c27c343c",
            "placeholder": "​",
            "style": "IPY_MODEL_866c1f8e316f477ab49492756070c1be",
            "value": "100%"
          }
        },
        "718b49df40a44a6f9acf6b8be54f9f10": {
          "model_module": "@jupyter-widgets/controls",
          "model_name": "FloatProgressModel",
          "model_module_version": "1.5.0",
          "state": {
            "_dom_classes": [],
            "_model_module": "@jupyter-widgets/controls",
            "_model_module_version": "1.5.0",
            "_model_name": "FloatProgressModel",
            "_view_count": null,
            "_view_module": "@jupyter-widgets/controls",
            "_view_module_version": "1.5.0",
            "_view_name": "ProgressView",
            "bar_style": "success",
            "description": "",
            "description_tooltip": null,
            "layout": "IPY_MODEL_352e4a07a6f4407a82bf95fef4d477a2",
            "max": 5,
            "min": 0,
            "orientation": "horizontal",
            "style": "IPY_MODEL_a7542fd4935145c5adf58401a16a311f",
            "value": 5
          }
        },
        "43f2edabb50f428abc13b84fa04be61c": {
          "model_module": "@jupyter-widgets/controls",
          "model_name": "HTMLModel",
          "model_module_version": "1.5.0",
          "state": {
            "_dom_classes": [],
            "_model_module": "@jupyter-widgets/controls",
            "_model_module_version": "1.5.0",
            "_model_name": "HTMLModel",
            "_view_count": null,
            "_view_module": "@jupyter-widgets/controls",
            "_view_module_version": "1.5.0",
            "_view_name": "HTMLView",
            "description": "",
            "description_tooltip": null,
            "layout": "IPY_MODEL_52a747a7b9184d1a976519ee1c14156b",
            "placeholder": "​",
            "style": "IPY_MODEL_741b830d1a024eb295157d0727b72cfe",
            "value": " 5/5 [02:28&lt;00:00, 28.48s/it]"
          }
        },
        "d57bb737956f4b8d9b4909841d5002ed": {
          "model_module": "@jupyter-widgets/base",
          "model_name": "LayoutModel",
          "model_module_version": "1.2.0",
          "state": {
            "_model_module": "@jupyter-widgets/base",
            "_model_module_version": "1.2.0",
            "_model_name": "LayoutModel",
            "_view_count": null,
            "_view_module": "@jupyter-widgets/base",
            "_view_module_version": "1.2.0",
            "_view_name": "LayoutView",
            "align_content": null,
            "align_items": null,
            "align_self": null,
            "border": null,
            "bottom": null,
            "display": null,
            "flex": null,
            "flex_flow": null,
            "grid_area": null,
            "grid_auto_columns": null,
            "grid_auto_flow": null,
            "grid_auto_rows": null,
            "grid_column": null,
            "grid_gap": null,
            "grid_row": null,
            "grid_template_areas": null,
            "grid_template_columns": null,
            "grid_template_rows": null,
            "height": null,
            "justify_content": null,
            "justify_items": null,
            "left": null,
            "margin": null,
            "max_height": null,
            "max_width": null,
            "min_height": null,
            "min_width": null,
            "object_fit": null,
            "object_position": null,
            "order": null,
            "overflow": null,
            "overflow_x": null,
            "overflow_y": null,
            "padding": null,
            "right": null,
            "top": null,
            "visibility": null,
            "width": null
          }
        },
        "5204478c0c4e48faacaa6fb5c27c343c": {
          "model_module": "@jupyter-widgets/base",
          "model_name": "LayoutModel",
          "model_module_version": "1.2.0",
          "state": {
            "_model_module": "@jupyter-widgets/base",
            "_model_module_version": "1.2.0",
            "_model_name": "LayoutModel",
            "_view_count": null,
            "_view_module": "@jupyter-widgets/base",
            "_view_module_version": "1.2.0",
            "_view_name": "LayoutView",
            "align_content": null,
            "align_items": null,
            "align_self": null,
            "border": null,
            "bottom": null,
            "display": null,
            "flex": null,
            "flex_flow": null,
            "grid_area": null,
            "grid_auto_columns": null,
            "grid_auto_flow": null,
            "grid_auto_rows": null,
            "grid_column": null,
            "grid_gap": null,
            "grid_row": null,
            "grid_template_areas": null,
            "grid_template_columns": null,
            "grid_template_rows": null,
            "height": null,
            "justify_content": null,
            "justify_items": null,
            "left": null,
            "margin": null,
            "max_height": null,
            "max_width": null,
            "min_height": null,
            "min_width": null,
            "object_fit": null,
            "object_position": null,
            "order": null,
            "overflow": null,
            "overflow_x": null,
            "overflow_y": null,
            "padding": null,
            "right": null,
            "top": null,
            "visibility": null,
            "width": null
          }
        },
        "866c1f8e316f477ab49492756070c1be": {
          "model_module": "@jupyter-widgets/controls",
          "model_name": "DescriptionStyleModel",
          "model_module_version": "1.5.0",
          "state": {
            "_model_module": "@jupyter-widgets/controls",
            "_model_module_version": "1.5.0",
            "_model_name": "DescriptionStyleModel",
            "_view_count": null,
            "_view_module": "@jupyter-widgets/base",
            "_view_module_version": "1.2.0",
            "_view_name": "StyleView",
            "description_width": ""
          }
        },
        "352e4a07a6f4407a82bf95fef4d477a2": {
          "model_module": "@jupyter-widgets/base",
          "model_name": "LayoutModel",
          "model_module_version": "1.2.0",
          "state": {
            "_model_module": "@jupyter-widgets/base",
            "_model_module_version": "1.2.0",
            "_model_name": "LayoutModel",
            "_view_count": null,
            "_view_module": "@jupyter-widgets/base",
            "_view_module_version": "1.2.0",
            "_view_name": "LayoutView",
            "align_content": null,
            "align_items": null,
            "align_self": null,
            "border": null,
            "bottom": null,
            "display": null,
            "flex": null,
            "flex_flow": null,
            "grid_area": null,
            "grid_auto_columns": null,
            "grid_auto_flow": null,
            "grid_auto_rows": null,
            "grid_column": null,
            "grid_gap": null,
            "grid_row": null,
            "grid_template_areas": null,
            "grid_template_columns": null,
            "grid_template_rows": null,
            "height": null,
            "justify_content": null,
            "justify_items": null,
            "left": null,
            "margin": null,
            "max_height": null,
            "max_width": null,
            "min_height": null,
            "min_width": null,
            "object_fit": null,
            "object_position": null,
            "order": null,
            "overflow": null,
            "overflow_x": null,
            "overflow_y": null,
            "padding": null,
            "right": null,
            "top": null,
            "visibility": null,
            "width": null
          }
        },
        "a7542fd4935145c5adf58401a16a311f": {
          "model_module": "@jupyter-widgets/controls",
          "model_name": "ProgressStyleModel",
          "model_module_version": "1.5.0",
          "state": {
            "_model_module": "@jupyter-widgets/controls",
            "_model_module_version": "1.5.0",
            "_model_name": "ProgressStyleModel",
            "_view_count": null,
            "_view_module": "@jupyter-widgets/base",
            "_view_module_version": "1.2.0",
            "_view_name": "StyleView",
            "bar_color": null,
            "description_width": ""
          }
        },
        "52a747a7b9184d1a976519ee1c14156b": {
          "model_module": "@jupyter-widgets/base",
          "model_name": "LayoutModel",
          "model_module_version": "1.2.0",
          "state": {
            "_model_module": "@jupyter-widgets/base",
            "_model_module_version": "1.2.0",
            "_model_name": "LayoutModel",
            "_view_count": null,
            "_view_module": "@jupyter-widgets/base",
            "_view_module_version": "1.2.0",
            "_view_name": "LayoutView",
            "align_content": null,
            "align_items": null,
            "align_self": null,
            "border": null,
            "bottom": null,
            "display": null,
            "flex": null,
            "flex_flow": null,
            "grid_area": null,
            "grid_auto_columns": null,
            "grid_auto_flow": null,
            "grid_auto_rows": null,
            "grid_column": null,
            "grid_gap": null,
            "grid_row": null,
            "grid_template_areas": null,
            "grid_template_columns": null,
            "grid_template_rows": null,
            "height": null,
            "justify_content": null,
            "justify_items": null,
            "left": null,
            "margin": null,
            "max_height": null,
            "max_width": null,
            "min_height": null,
            "min_width": null,
            "object_fit": null,
            "object_position": null,
            "order": null,
            "overflow": null,
            "overflow_x": null,
            "overflow_y": null,
            "padding": null,
            "right": null,
            "top": null,
            "visibility": null,
            "width": null
          }
        },
        "741b830d1a024eb295157d0727b72cfe": {
          "model_module": "@jupyter-widgets/controls",
          "model_name": "DescriptionStyleModel",
          "model_module_version": "1.5.0",
          "state": {
            "_model_module": "@jupyter-widgets/controls",
            "_model_module_version": "1.5.0",
            "_model_name": "DescriptionStyleModel",
            "_view_count": null,
            "_view_module": "@jupyter-widgets/base",
            "_view_module_version": "1.2.0",
            "_view_name": "StyleView",
            "description_width": ""
          }
        }
      }
    }
  },
  "nbformat": 4,
  "nbformat_minor": 0
}
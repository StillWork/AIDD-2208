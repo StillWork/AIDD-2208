{
  "cells": [
    {
      "cell_type": "markdown",
      "metadata": {
        "id": "socSJe925zFv"
      },
      "source": [
        "#  Molecular Fingerprints\n",
        "\n",
        "- It is a very simple representation that often works well for small drug-like molecules.\n",
        "\n",
        "- [DeepChem](https://github.com/deepchem/deepchem/tree/master/examples/tutorials)"
      ]
    },
    {
      "cell_type": "code",
      "execution_count": 1,
      "metadata": {
        "id": "CMWAv-Z46nCc",
        "colab": {
          "base_uri": "https://localhost:8080/"
        },
        "outputId": "1e3cc272-eedb-4b69-a02a-761aebbe7484"
      },
      "outputs": [
        {
          "output_type": "stream",
          "name": "stdout",
          "text": [
            "Looking in indexes: https://pypi.org/simple, https://us-python.pkg.dev/colab-wheels/public/simple/\n",
            "Collecting deepchem\n",
            "  Downloading deepchem-2.6.1-py3-none-any.whl (608 kB)\n",
            "\u001b[K     |████████████████████████████████| 608 kB 18.1 MB/s \n",
            "\u001b[?25hRequirement already satisfied: scipy in /usr/local/lib/python3.7/dist-packages (from deepchem) (1.7.3)\n",
            "Requirement already satisfied: joblib in /usr/local/lib/python3.7/dist-packages (from deepchem) (1.1.0)\n",
            "Requirement already satisfied: scikit-learn in /usr/local/lib/python3.7/dist-packages (from deepchem) (1.0.2)\n",
            "Requirement already satisfied: numpy>=1.21 in /usr/local/lib/python3.7/dist-packages (from deepchem) (1.21.6)\n",
            "Requirement already satisfied: pandas in /usr/local/lib/python3.7/dist-packages (from deepchem) (1.3.5)\n",
            "Collecting rdkit-pypi\n",
            "  Downloading rdkit_pypi-2022.3.5-cp37-cp37m-manylinux_2_17_x86_64.manylinux2014_x86_64.whl (36.8 MB)\n",
            "\u001b[K     |████████████████████████████████| 36.8 MB 36 kB/s \n",
            "\u001b[?25hRequirement already satisfied: python-dateutil>=2.7.3 in /usr/local/lib/python3.7/dist-packages (from pandas->deepchem) (2.8.2)\n",
            "Requirement already satisfied: pytz>=2017.3 in /usr/local/lib/python3.7/dist-packages (from pandas->deepchem) (2022.1)\n",
            "Requirement already satisfied: six>=1.5 in /usr/local/lib/python3.7/dist-packages (from python-dateutil>=2.7.3->pandas->deepchem) (1.15.0)\n",
            "Requirement already satisfied: Pillow in /usr/local/lib/python3.7/dist-packages (from rdkit-pypi->deepchem) (7.1.2)\n",
            "Requirement already satisfied: threadpoolctl>=2.0.0 in /usr/local/lib/python3.7/dist-packages (from scikit-learn->deepchem) (3.1.0)\n",
            "Installing collected packages: rdkit-pypi, deepchem\n",
            "Successfully installed deepchem-2.6.1 rdkit-pypi-2022.3.5\n"
          ]
        }
      ],
      "source": [
        "!pip install --pre deepchem"
      ]
    },
    {
      "cell_type": "code",
      "execution_count": 2,
      "metadata": {
        "colab": {
          "base_uri": "https://localhost:8080/",
          "height": 36
        },
        "id": "PDiY03h35zF_",
        "outputId": "e389ab3d-7e38-44f7-c1a5-37e4999b092e"
      },
      "outputs": [
        {
          "output_type": "execute_result",
          "data": {
            "text/plain": [
              "'2.6.1'"
            ],
            "application/vnd.google.colaboratory.intrinsic+json": {
              "type": "string"
            }
          },
          "metadata": {},
          "execution_count": 2
        }
      ],
      "source": [
        "import deepchem as dc\n",
        "dc.__version__"
      ]
    },
    {
      "cell_type": "markdown",
      "metadata": {
        "id": "B0u7qIZd5zGG"
      },
      "source": [
        "# What is a Fingerprint?\n",
        "\n",
        "- Many (but not all) types of models require their inputs to have a fixed size.  This can be a challenge for molecules, since different molecules have different numbers of atoms.  \n",
        "\n",
        "- Fingerprints are designed to address these problems.  A fingerprint is a fixed length array, where different elements indicate the presence of different features in the molecule.  If two molecules have similar fingerprints, that indicates they contain many of the same features\n",
        "\n",
        "- \"Extended Connectivity Fingerprint\", or \"ECFP\"\n",
        " - They also are sometimes called \"circular fingerprints\".  \n",
        " - The ECFP algorithm begins by classifying atoms based only on their direct properties and bonds.  Each unique pattern is a feature.  \n",
        "- For example, \"carbon atom bonded to two hydrogens and two heavy atoms\" would be a feature\n",
        "- It then iteratively identifies new features by looking at larger circular neighborhoods.  - One specific feature bonded to two other specific features becomes a higher level feature, and the corresponding element is set for any molecule that contains it.  This continues for a fixed number of iterations, most often two.\n",
        "\n",
        "Let's take a look at a dataset that has been featurized with ECFP."
      ]
    },
    {
      "cell_type": "code",
      "execution_count": 6,
      "metadata": {
        "id": "saTaOpXY5zGI",
        "outputId": "67a793a3-720b-48af-e2df-2f30c910fd0f",
        "colab": {
          "base_uri": "https://localhost:8080/"
        }
      },
      "outputs": [
        {
          "output_type": "stream",
          "name": "stdout",
          "text": [
            "<DiskDataset X.shape: (6264, 1024), y.shape: (6264, 12), w.shape: (6264, 12), task_names: ['NR-AR' 'NR-AR-LBD' 'NR-AhR' ... 'SR-HSE' 'SR-MMP' 'SR-p53']>\n"
          ]
        }
      ],
      "source": [
        "tasks, datasets, transformers = dc.molnet.load_tox21(featurizer='ECFP')\n",
        "train_dataset, valid_dataset, test_dataset = datasets\n",
        "print(train_dataset)"
      ]
    },
    {
      "cell_type": "markdown",
      "metadata": {
        "id": "F922OPtL5zGM"
      },
      "source": [
        "- The feature array `X` has shape (6264, 1024)- the label array `y` has shape (6264, 12): this is a multitask dataset.  \n",
        " - Tox21 contains information about the toxicity of molecules.  12 different assays were used to look for signs of toxicity. \n",
        "\n",
        "Let's also take a look at the weights array."
      ]
    },
    {
      "cell_type": "code",
      "execution_count": 7,
      "metadata": {
        "colab": {
          "base_uri": "https://localhost:8080/"
        },
        "id": "YEDcUsz35zGO",
        "outputId": "b5167f8e-e44d-42dc-e909-9bfc4e0edcac"
      },
      "outputs": [
        {
          "output_type": "execute_result",
          "data": {
            "text/plain": [
              "array([[1.04502242, 1.03632599, 1.12502653, ..., 1.05576503, 1.17464996,\n",
              "        1.05288369],\n",
              "       [1.04502242, 1.03632599, 1.12502653, ..., 1.05576503, 1.17464996,\n",
              "        1.05288369],\n",
              "       [1.04502242, 1.03632599, 1.12502653, ..., 1.05576503, 0.        ,\n",
              "        1.05288369],\n",
              "       ...,\n",
              "       [1.04502242, 0.        , 1.12502653, ..., 1.05576503, 6.7257384 ,\n",
              "        1.05288369],\n",
              "       [1.04502242, 1.03632599, 1.12502653, ..., 1.05576503, 6.7257384 ,\n",
              "        1.05288369],\n",
              "       [1.04502242, 1.03632599, 1.12502653, ..., 0.        , 1.17464996,\n",
              "        1.05288369]])"
            ]
          },
          "metadata": {},
          "execution_count": 7
        }
      ],
      "source": [
        "train_dataset.w"
      ]
    },
    {
      "cell_type": "markdown",
      "metadata": {
        "id": "E8UCFrrN5zGf"
      },
      "source": [
        "- Notice that some elements are 0.  The weights are being used to indicate missing data.  \n",
        " - Not all assays were actually performed on every molecule.  Setting the weight for a sample or sample/task pair to 0 causes it to be ignored during fitting and evaluation.  \n",
        " - It will have no effect on the loss function or other metrics.\n",
        "\n",
        "- Most of the other weights are close to 1, but not exactly 1.  This is done to balance the overall weight of positive and negative samples on each task.  \n",
        " - When training the model, we want each of the 12 tasks to contribute equally, and on each task we want to put equal weight on positive and negative samples.  \n",
        " - Otherwise, the model might just learn that most of the training samples are non-toxic, and therefore become biased toward identifying other molecules as non-toxic.\n",
        "\n",
        "# Training a Model on Fingerprints\n",
        "\n",
        "- Because fingerprints are so simple, just a single fixed length array, we can use a much simpler type of model."
      ]
    },
    {
      "cell_type": "code",
      "execution_count": 8,
      "metadata": {
        "id": "e5K3rdGV5zGg"
      },
      "outputs": [],
      "source": [
        "model = dc.models.MultitaskClassifier(n_tasks=12, n_features=1024, layer_sizes=[1000])"
      ]
    },
    {
      "cell_type": "markdown",
      "metadata": {
        "id": "_Zcd7jTd5zGr"
      },
      "source": [
        "- `MultitaskClassifier` is a simple stack of fully connected layers (i.e. MLP).  \n",
        "- In this example we tell it to use a single hidden layer of width 1000.  \n",
        "\n",
        "- it turns out that training a single model for multiple tasks often works better.  \n",
        "\n",
        "Let's train and evaluate the model."
      ]
    },
    {
      "cell_type": "code",
      "execution_count": 9,
      "metadata": {
        "colab": {
          "base_uri": "https://localhost:8080/"
        },
        "id": "LJc90fs_5zGs",
        "outputId": "4892f752-ff90-4356-8596-ec637413d83b"
      },
      "outputs": [
        {
          "output_type": "stream",
          "name": "stdout",
          "text": [
            "training set score: {'roc_auc_score': 0.95858052248688}\n",
            "test set score: {'roc_auc_score': 0.6862637477187774}\n"
          ]
        }
      ],
      "source": [
        "import numpy as np\n",
        "\n",
        "model.fit(train_dataset, nb_epoch=10)\n",
        "metric = dc.metrics.Metric(dc.metrics.roc_auc_score)\n",
        "print('training set score:', model.evaluate(train_dataset, [metric], transformers))\n",
        "print('test set score:', model.evaluate(test_dataset, [metric], transformers))"
      ]
    },
    {
      "cell_type": "markdown",
      "metadata": {
        "id": "aQa88cbj5zGw"
      },
      "source": [
        "Not bad performance for such a simple model and featurization.  More sophisticated models do slightly better on this dataset, but not enormously better."
      ]
    }
  ],
  "metadata": {
    "colab": {
      "name": "c_81_DC_4_Fingerprint.ipynb",
      "provenance": [],
      "collapsed_sections": []
    },
    "kernelspec": {
      "display_name": "Python 3",
      "language": "python",
      "name": "python3"
    },
    "language_info": {
      "codemirror_mode": {
        "name": "ipython",
        "version": 3
      },
      "file_extension": ".py",
      "mimetype": "text/x-python",
      "name": "python",
      "nbconvert_exporter": "python",
      "pygments_lexer": "ipython3",
      "version": "3.7.6"
    },
    "accelerator": "GPU",
    "gpuClass": "standard"
  },
  "nbformat": 4,
  "nbformat_minor": 0
}